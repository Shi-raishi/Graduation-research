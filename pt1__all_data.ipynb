{
  "nbformat": 4,
  "nbformat_minor": 0,
  "metadata": {
    "colab": {
      "provenance": [],
      "authorship_tag": "ABX9TyOAPJfY5EEkExhgDq1mUbN/",
      "include_colab_link": true
    },
    "kernelspec": {
      "name": "python3",
      "display_name": "Python 3"
    },
    "language_info": {
      "name": "python"
    }
  },
  "cells": [
    {
      "cell_type": "markdown",
      "metadata": {
        "id": "view-in-github",
        "colab_type": "text"
      },
      "source": [
        "<a href=\"https://colab.research.google.com/github/Shi-raishi/Research/blob/main/pt1__all_data.ipynb\" target=\"_parent\"><img src=\"https://colab.research.google.com/assets/colab-badge.svg\" alt=\"Open In Colab\"/></a>"
      ]
    },
    {
      "cell_type": "markdown",
      "source": [
        "## ①foodシートの食品変数MILK1～SAKE6までの摂取量<br>\n",
        "## 分析前にnutrシートにある変数EER, EN から求まるエネルギー補正係数(EER/EN) をかける<br>\n",
        "\n",
        "### BMIメモ<br>\n",
        "18.5未満\t痩せ 鉄欠乏などの栄養不良による貧血のリスク<br>\n",
        "18.5～25\t普通 22のときが標準体重で、最も病気になりにくい<br>\n",
        "25～30\t肥満レベル1 25を超えると、脂質異常症や糖尿病、高血圧などの生活習慣病のリスクが2倍以上<br>\n",
        "30～35\t肥満レベル2 30を超えると高度な肥満として、より積極的な減量治療が必要<br>\n",
        "35～40\t肥満レベル3<br>\n",
        "40～\t肥満レベル4<br>\n",
        "\n",
        "＊IDの重複削除とデータの結合、ECF,BMIの作成と欠損処理、異常値確認、LiNGAM"
      ],
      "metadata": {
        "id": "PFB1bHayFiV3"
      }
    },
    {
      "cell_type": "code",
      "source": [
        "# Google Colabにlingamのライブラリをインストールする\n",
        "# !pip install numpy\n",
        "# !pip install numpy==1.24.3\n",
        "!pip install numpy\n",
        "!pip install lingam"
      ],
      "metadata": {
        "colab": {
          "base_uri": "https://localhost:8080/"
        },
        "id": "eeCJhDI8d5Rf",
        "outputId": "09c60425-662d-45c1-e182-93bccee48969"
      },
      "execution_count": 143,
      "outputs": [
        {
          "output_type": "stream",
          "name": "stdout",
          "text": [
            "Requirement already satisfied: numpy in /usr/local/lib/python3.10/dist-packages (1.26.2)\n",
            "Requirement already satisfied: lingam in /usr/local/lib/python3.10/dist-packages (1.8.2)\n",
            "Requirement already satisfied: numpy in /usr/local/lib/python3.10/dist-packages (from lingam) (1.26.2)\n",
            "Requirement already satisfied: scipy in /usr/local/lib/python3.10/dist-packages (from lingam) (1.11.3)\n",
            "Requirement already satisfied: scikit-learn in /usr/local/lib/python3.10/dist-packages (from lingam) (1.2.2)\n",
            "Requirement already satisfied: graphviz in /usr/local/lib/python3.10/dist-packages (from lingam) (0.20.1)\n",
            "Requirement already satisfied: statsmodels in /usr/local/lib/python3.10/dist-packages (from lingam) (0.14.0)\n",
            "Requirement already satisfied: networkx in /usr/local/lib/python3.10/dist-packages (from lingam) (3.2.1)\n",
            "Requirement already satisfied: pandas in /usr/local/lib/python3.10/dist-packages (from lingam) (1.5.3)\n",
            "Requirement already satisfied: pygam in /usr/local/lib/python3.10/dist-packages (from lingam) (0.9.0)\n",
            "Requirement already satisfied: matplotlib in /usr/local/lib/python3.10/dist-packages (from lingam) (3.7.1)\n",
            "Requirement already satisfied: psy in /usr/local/lib/python3.10/dist-packages (from lingam) (0.0.1)\n",
            "Requirement already satisfied: contourpy>=1.0.1 in /usr/local/lib/python3.10/dist-packages (from matplotlib->lingam) (1.2.0)\n",
            "Requirement already satisfied: cycler>=0.10 in /usr/local/lib/python3.10/dist-packages (from matplotlib->lingam) (0.12.1)\n",
            "Requirement already satisfied: fonttools>=4.22.0 in /usr/local/lib/python3.10/dist-packages (from matplotlib->lingam) (4.44.3)\n",
            "Requirement already satisfied: kiwisolver>=1.0.1 in /usr/local/lib/python3.10/dist-packages (from matplotlib->lingam) (1.4.5)\n",
            "Requirement already satisfied: packaging>=20.0 in /usr/local/lib/python3.10/dist-packages (from matplotlib->lingam) (23.2)\n",
            "Requirement already satisfied: pillow>=6.2.0 in /usr/local/lib/python3.10/dist-packages (from matplotlib->lingam) (9.4.0)\n",
            "Requirement already satisfied: pyparsing>=2.3.1 in /usr/local/lib/python3.10/dist-packages (from matplotlib->lingam) (3.1.1)\n",
            "Requirement already satisfied: python-dateutil>=2.7 in /usr/local/lib/python3.10/dist-packages (from matplotlib->lingam) (2.8.2)\n",
            "Requirement already satisfied: pytz>=2020.1 in /usr/local/lib/python3.10/dist-packages (from pandas->lingam) (2023.3.post1)\n",
            "Requirement already satisfied: progressbar2 in /usr/local/lib/python3.10/dist-packages (from psy->lingam) (4.2.0)\n",
            "Requirement already satisfied: joblib>=1.1.1 in /usr/local/lib/python3.10/dist-packages (from scikit-learn->lingam) (1.3.2)\n",
            "Requirement already satisfied: threadpoolctl>=2.0.0 in /usr/local/lib/python3.10/dist-packages (from scikit-learn->lingam) (3.2.0)\n",
            "Requirement already satisfied: patsy>=0.5.2 in /usr/local/lib/python3.10/dist-packages (from statsmodels->lingam) (0.5.3)\n",
            "Requirement already satisfied: six in /usr/local/lib/python3.10/dist-packages (from patsy>=0.5.2->statsmodels->lingam) (1.16.0)\n",
            "Requirement already satisfied: python-utils>=3.0.0 in /usr/local/lib/python3.10/dist-packages (from progressbar2->psy->lingam) (3.8.1)\n",
            "Requirement already satisfied: typing-extensions>3.10.0.2 in /usr/local/lib/python3.10/dist-packages (from python-utils>=3.0.0->progressbar2->psy->lingam) (4.5.0)\n"
          ]
        }
      ]
    },
    {
      "cell_type": "code",
      "source": [
        "import numpy as np\n",
        "import pandas as pd\n",
        "import graphviz\n",
        "import lingam\n",
        "from lingam.utils import make_dot\n",
        "from lingam.utils import print_causal_directions, print_dagc\n",
        "import matplotlib.pyplot as plt\n",
        "import seaborn as sns\n",
        "from sklearn.preprocessing import StandardScaler\n",
        "\n",
        "print([np.__version__, pd.__version__, graphviz.__version__, lingam.__version__])"
      ],
      "metadata": {
        "colab": {
          "base_uri": "https://localhost:8080/"
        },
        "id": "aQXef0nEgz8_",
        "outputId": "1c1adeb5-560b-4b0f-e4d8-6d47bb9dcd9a"
      },
      "execution_count": 144,
      "outputs": [
        {
          "output_type": "stream",
          "name": "stdout",
          "text": [
            "['1.26.2', '1.5.3', '0.20.1', '1.8.2']\n"
          ]
        }
      ]
    },
    {
      "cell_type": "code",
      "source": [
        "from google.colab import drive\n",
        "drive.mount('/content/drive')"
      ],
      "metadata": {
        "colab": {
          "base_uri": "https://localhost:8080/"
        },
        "id": "1L-DOLSge5Kg",
        "outputId": "e70abdb3-e77e-4a64-aa8c-4ea2f90844af"
      },
      "execution_count": 145,
      "outputs": [
        {
          "output_type": "stream",
          "name": "stdout",
          "text": [
            "Drive already mounted at /content/drive; to attempt to forcibly remount, call drive.mount(\"/content/drive\", force_remount=True).\n"
          ]
        }
      ]
    },
    {
      "cell_type": "code",
      "source": [
        "%cd /content/drive/MyDrive/'Colab Notebooks'\n",
        "%ls CSV"
      ],
      "metadata": {
        "colab": {
          "base_uri": "https://localhost:8080/"
        },
        "id": "2ulPtRf6fO1b",
        "outputId": "f2a36aff-7dd8-49c6-e14d-960c85851aac"
      },
      "execution_count": 146,
      "outputs": [
        {
          "output_type": "stream",
          "name": "stdout",
          "text": [
            "/content/drive/MyDrive/Colab Notebooks\n",
            "'BDHQ フォーマット LongDataSet (f_nutr1).csv'\n",
            "'BDHQ フォーマット LongDataSet (nutr).csv'\n",
            "'BDHQ フォーマット LongDataSet (signal).csv'\n",
            "'BDHQ 児童生徒用フォーマット LongDataSet (food2).csv'\n",
            "'BDHQ 成人用フォーマット LongDataSet (food).csv'\n",
            " \u001b[0m\u001b[01;34mShift-JISに変換したもの\u001b[0m/\n"
          ]
        }
      ]
    },
    {
      "cell_type": "markdown",
      "source": [
        "### 関数定義"
      ],
      "metadata": {
        "id": "zmy_ASJXYY6Q"
      }
    },
    {
      "cell_type": "code",
      "source": [
        "# 変数同士の相関を確認\n",
        "def corrMatrix(df):\n",
        "  # 相関行列の作成\n",
        "  corr_matrix = df.corr()\n",
        "\n",
        "  # 高い相関を持つ変数ペアの抽出\n",
        "  threshold = 0.5  # 閾値を設定\n",
        "  high_corr_var = [(column, index, corr_matrix[column][index]) for column in corr_matrix.columns for index in corr_matrix.columns if (corr_matrix[column][index] > threshold) & (column != index)]\n",
        "  for var_pair in high_corr_var:\n",
        "      print(var_pair)"
      ],
      "metadata": {
        "id": "LUVOVjt7A621"
      },
      "execution_count": 147,
      "outputs": []
    },
    {
      "cell_type": "code",
      "source": [
        "# 特定の変数と他の変数との相関を確認\n",
        "def targetCorrMatrix(df):\n",
        "  df = 'VEG3'\n",
        "  correlations = values_dataframe.corrwith(values_dataframe[df])\n",
        "  correlations.sort_values(ascending=False)"
      ],
      "metadata": {
        "id": "IwjADMFMXnHL"
      },
      "execution_count": 148,
      "outputs": []
    },
    {
      "cell_type": "code",
      "source": [
        "# ヒートマップで相関関係の可視化\n",
        "def heatMap(df):\n",
        "  plt.figure(figsize=(15, 15))\n",
        "  sns.heatmap(df.corr(), annot=False, cmap='coolwarm')\n",
        "  plt.show()"
      ],
      "metadata": {
        "id": "AvVL9FGtBSmb"
      },
      "execution_count": 149,
      "outputs": []
    },
    {
      "cell_type": "code",
      "source": [
        "# 個々の変数の分布を確認\n",
        "def distribution(df):\n",
        "  for column in df.columns:\n",
        "      plt.figure()\n",
        "      sns.histplot(df[column], kde=True)\n",
        "      plt.title(column)\n",
        "      plt.show()"
      ],
      "metadata": {
        "id": "yq7iPwMUBmbL"
      },
      "execution_count": 150,
      "outputs": []
    },
    {
      "cell_type": "code",
      "source": [
        "# 変数の0データを確認\n",
        "def countZeroData(df):\n",
        "  # 各変数における0の数をカウントし、少ない順にソート\n",
        "  zero_counts_sorted = (df == 0).sum().sort_values()\n",
        "  # 各変数における0データ数の表示\n",
        "  print(zero_counts_sorted)"
      ],
      "metadata": {
        "id": "ikgSFwLcCfT4"
      },
      "execution_count": 151,
      "outputs": []
    },
    {
      "cell_type": "code",
      "source": [
        "# 0データの数をグラフで確認\n",
        "def countAvairableVariable(df):\n",
        "  # 0が含まれる数をカウント\n",
        "  zero_counts = (df == 0).sum().sort_values()\n",
        "\n",
        "  # グラフのサイズを設定\n",
        "  plt.figure(figsize=(12, 9))\n",
        "\n",
        "  # 棒グラフの作成\n",
        "  sns.barplot(x=len(df)-zero_counts.values, y=zero_counts.index)\n",
        "\n",
        "  # グラフのタイトルとラベルを設定\n",
        "  plt.title('Number of non-zero data in each variable')\n",
        "  plt.xlabel('number of non-zero data')\n",
        "  plt.ylabel('variable name')\n",
        "\n",
        "  # グラフの表示\n",
        "  plt.show()"
      ],
      "metadata": {
        "id": "Gn1gqbnHB6_K"
      },
      "execution_count": 152,
      "outputs": []
    },
    {
      "cell_type": "code",
      "source": [
        "def checksVariables(df):\n",
        "  # # non-zeroのデータ数を確認\n",
        "  # countZeroData(df)\n",
        "  # non-zeroのデータ数をグラフで確認\n",
        "  countAvairableVariable(df)\n",
        "  # 相関行列を確認\n",
        "  corrMatrix(df)\n",
        "  # ヒートマップ確認\n",
        "  heatMap(df)\n",
        "  # 各変数の分布を確認\n",
        "  # distribution(df)"
      ],
      "metadata": {
        "id": "sUkdvumxdL3X"
      },
      "execution_count": 153,
      "outputs": []
    },
    {
      "cell_type": "markdown",
      "source": [
        "### データ前処理"
      ],
      "metadata": {
        "id": "TFxydNcOYc0Z"
      }
    },
    {
      "cell_type": "code",
      "source": [
        "# CSVの読み込み\n",
        "data_nutr = pd.read_csv('./CSV/BDHQ フォーマット LongDataSet (nutr).csv')\n",
        "data_food = pd.read_csv('./CSV/BDHQ 成人用フォーマット LongDataSet (food).csv')"
      ],
      "metadata": {
        "id": "iKw_DVrLgTgx"
      },
      "execution_count": 154,
      "outputs": []
    },
    {
      "cell_type": "code",
      "source": [
        "print(len(data_nutr),len(data_food))"
      ],
      "metadata": {
        "colab": {
          "base_uri": "https://localhost:8080/"
        },
        "id": "7O5K-kUuYDLz",
        "outputId": "4fe0cc8f-f533-448e-c5d8-3981243ce47b"
      },
      "execution_count": 155,
      "outputs": [
        {
          "output_type": "stream",
          "name": "stdout",
          "text": [
            "3329 2797\n"
          ]
        }
      ]
    },
    {
      "cell_type": "markdown",
      "source": [
        "## ↓idの重複削除、結合"
      ],
      "metadata": {
        "id": "IN1dnWlQod_H"
      }
    },
    {
      "cell_type": "code",
      "source": [
        "# data_food重複を確認\n",
        "print(\"data_food で重複のある行数:\", data_food['ID1'].duplicated(keep=False).sum())\n",
        "\n",
        "# data_nutr重複を確認\n",
        "print(\"data_nutr で重複のある行数:\", data_nutr['ID1'].duplicated(keep=False).sum())\n"
      ],
      "metadata": {
        "colab": {
          "base_uri": "https://localhost:8080/"
        },
        "id": "fYqYFE62UDPO",
        "outputId": "b79b18e9-f75f-4d95-d3dd-4df487e1a5cb"
      },
      "execution_count": 156,
      "outputs": [
        {
          "output_type": "stream",
          "name": "stdout",
          "text": [
            "data_food で重複のある行数: 59\n",
            "data_nutr で重複のある行数: 116\n"
          ]
        }
      ]
    },
    {
      "cell_type": "code",
      "source": [
        "# data_nutrから重複を除去\n",
        "data_nutr_cleaned = data_nutr.drop_duplicates(subset='ID1', keep=False)\n",
        "print(len(data_nutr_cleaned))"
      ],
      "metadata": {
        "colab": {
          "base_uri": "https://localhost:8080/"
        },
        "id": "SbgitzmRUJGu",
        "outputId": "71dfdaec-5a75-49ca-ea43-a39f416c93d5"
      },
      "execution_count": 157,
      "outputs": [
        {
          "output_type": "stream",
          "name": "stdout",
          "text": [
            "3213\n"
          ]
        }
      ]
    },
    {
      "cell_type": "code",
      "source": [
        "# 左結合\n",
        "merged_data = pd.merge(data_food, data_nutr_cleaned, on='ID1', how='left')\n",
        "print(merged_data.info())"
      ],
      "metadata": {
        "id": "tHR7okUqUMrc",
        "colab": {
          "base_uri": "https://localhost:8080/"
        },
        "outputId": "69bf2cd7-ccec-4a4f-d6dd-36e363576e50"
      },
      "execution_count": 158,
      "outputs": [
        {
          "output_type": "stream",
          "name": "stdout",
          "text": [
            "<class 'pandas.core.frame.DataFrame'>\n",
            "Int64Index: 2797 entries, 0 to 2796\n",
            "Columns: 182 entries, ID1 to filename_y\n",
            "dtypes: float64(178), int64(1), object(3)\n",
            "memory usage: 3.9+ MB\n",
            "None\n"
          ]
        }
      ]
    },
    {
      "cell_type": "code",
      "source": [
        "# 結合後のデータフレームのIDの重複を確認\n",
        "merged_data['ID1'].duplicated(keep=False).sum()"
      ],
      "metadata": {
        "colab": {
          "base_uri": "https://localhost:8080/"
        },
        "id": "HZGzZ_VmUgbr",
        "outputId": "6298a491-af3b-4572-c6bc-4861218d59f4"
      },
      "execution_count": 159,
      "outputs": [
        {
          "output_type": "execute_result",
          "data": {
            "text/plain": [
              "59"
            ]
          },
          "metadata": {},
          "execution_count": 159
        }
      ]
    },
    {
      "cell_type": "code",
      "source": [
        "# 結合後のデータフレームのIDの重複を削除\n",
        "cleaned_data = merged_data.drop_duplicates(subset='ID1',keep=False)# 重複の確認\n",
        "print(cleaned_data['ID1'].duplicated().sum())\n",
        "print(len(cleaned_data))"
      ],
      "metadata": {
        "id": "qABmWYIoUrnv",
        "colab": {
          "base_uri": "https://localhost:8080/"
        },
        "outputId": "4b8b25b3-e840-49ee-e06d-6d79a8f8d8fb"
      },
      "execution_count": 160,
      "outputs": [
        {
          "output_type": "stream",
          "name": "stdout",
          "text": [
            "0\n",
            "2738\n"
          ]
        }
      ]
    },
    {
      "cell_type": "code",
      "source": [
        "print(cleaned_data.info())\n",
        "print(len(cleaned_data))"
      ],
      "metadata": {
        "colab": {
          "base_uri": "https://localhost:8080/"
        },
        "id": "M5PwjSPTVDJ3",
        "outputId": "b9dbed1e-ee27-4fe1-a61a-2b1809d1751e"
      },
      "execution_count": 161,
      "outputs": [
        {
          "output_type": "stream",
          "name": "stdout",
          "text": [
            "<class 'pandas.core.frame.DataFrame'>\n",
            "Int64Index: 2738 entries, 0 to 2796\n",
            "Columns: 182 entries, ID1 to filename_y\n",
            "dtypes: float64(178), int64(1), object(3)\n",
            "memory usage: 3.8+ MB\n",
            "None\n",
            "2738\n"
          ]
        }
      ]
    },
    {
      "cell_type": "markdown",
      "source": [
        "### ↓変数作成\n"
      ],
      "metadata": {
        "id": "zU9ZOuVeWnjw"
      }
    },
    {
      "cell_type": "code",
      "source": [
        "## エネルギー補正係数とBMIを作成\n",
        "# cleaned_dataのコピーを作成（SettingWithCopyWarningというエラーが出るため）\n",
        "cleaned_data_copy = cleaned_data.copy()\n",
        "\n",
        "# 新しい列を追加(ECF:Energy correction factor)\n",
        "cleaned_data_copy['BMI'] = cleaned_data_copy['BW'] / ((cleaned_data_copy['BH'] / 100) ** 2)\n",
        "cleaned_data_copy['ECF'] = cleaned_data_copy['EER'] / cleaned_data_copy['EN']\n",
        "\n",
        "# 結果を表示\n",
        "cleaned_data_copy.head(1)"
      ],
      "metadata": {
        "colab": {
          "base_uri": "https://localhost:8080/",
          "height": 200
        },
        "id": "hCEUDKD0Zvdq",
        "outputId": "e164f855-7e29-4c98-ebdb-fa0dde0af807"
      },
      "execution_count": 162,
      "outputs": [
        {
          "output_type": "execute_result",
          "data": {
            "text/plain": [
              "         ID1   ID2_x  ID3_x  MILK1       MILK2      MEAT1      MEAT2  \\\n",
              "0  201100001  2015.0    7.0    0.0  136.111524  39.132063  39.132063   \n",
              "\n",
              "       MEAT3     MEAT4      FISH1  ...      C15SA      C16SI      C17SA  \\\n",
              "0  27.222305  3.387665  41.740867  ...  43.708411  22.084421  44.630987   \n",
              "\n",
              "        C162      C164     C215N3     C224N6  \\\n",
              "0  46.242804  40.19382  39.545785  19.487288   \n",
              "\n",
              "                                 filename_y        BMI       ECF  \n",
              "0  012（会津若松市）全市成人_BDHQ2012_623件【結合】151013_3  23.214198  0.934649  \n",
              "\n",
              "[1 rows x 184 columns]"
            ],
            "text/html": [
              "\n",
              "  <div id=\"df-d50e4107-7c16-48a3-ac56-a566e3cb6b40\" class=\"colab-df-container\">\n",
              "    <div>\n",
              "<style scoped>\n",
              "    .dataframe tbody tr th:only-of-type {\n",
              "        vertical-align: middle;\n",
              "    }\n",
              "\n",
              "    .dataframe tbody tr th {\n",
              "        vertical-align: top;\n",
              "    }\n",
              "\n",
              "    .dataframe thead th {\n",
              "        text-align: right;\n",
              "    }\n",
              "</style>\n",
              "<table border=\"1\" class=\"dataframe\">\n",
              "  <thead>\n",
              "    <tr style=\"text-align: right;\">\n",
              "      <th></th>\n",
              "      <th>ID1</th>\n",
              "      <th>ID2_x</th>\n",
              "      <th>ID3_x</th>\n",
              "      <th>MILK1</th>\n",
              "      <th>MILK2</th>\n",
              "      <th>MEAT1</th>\n",
              "      <th>MEAT2</th>\n",
              "      <th>MEAT3</th>\n",
              "      <th>MEAT4</th>\n",
              "      <th>FISH1</th>\n",
              "      <th>...</th>\n",
              "      <th>C15SA</th>\n",
              "      <th>C16SI</th>\n",
              "      <th>C17SA</th>\n",
              "      <th>C162</th>\n",
              "      <th>C164</th>\n",
              "      <th>C215N3</th>\n",
              "      <th>C224N6</th>\n",
              "      <th>filename_y</th>\n",
              "      <th>BMI</th>\n",
              "      <th>ECF</th>\n",
              "    </tr>\n",
              "  </thead>\n",
              "  <tbody>\n",
              "    <tr>\n",
              "      <th>0</th>\n",
              "      <td>201100001</td>\n",
              "      <td>2015.0</td>\n",
              "      <td>7.0</td>\n",
              "      <td>0.0</td>\n",
              "      <td>136.111524</td>\n",
              "      <td>39.132063</td>\n",
              "      <td>39.132063</td>\n",
              "      <td>27.222305</td>\n",
              "      <td>3.387665</td>\n",
              "      <td>41.740867</td>\n",
              "      <td>...</td>\n",
              "      <td>43.708411</td>\n",
              "      <td>22.084421</td>\n",
              "      <td>44.630987</td>\n",
              "      <td>46.242804</td>\n",
              "      <td>40.19382</td>\n",
              "      <td>39.545785</td>\n",
              "      <td>19.487288</td>\n",
              "      <td>012（会津若松市）全市成人_BDHQ2012_623件【結合】151013_3</td>\n",
              "      <td>23.214198</td>\n",
              "      <td>0.934649</td>\n",
              "    </tr>\n",
              "  </tbody>\n",
              "</table>\n",
              "<p>1 rows × 184 columns</p>\n",
              "</div>\n",
              "    <div class=\"colab-df-buttons\">\n",
              "\n",
              "  <div class=\"colab-df-container\">\n",
              "    <button class=\"colab-df-convert\" onclick=\"convertToInteractive('df-d50e4107-7c16-48a3-ac56-a566e3cb6b40')\"\n",
              "            title=\"Convert this dataframe to an interactive table.\"\n",
              "            style=\"display:none;\">\n",
              "\n",
              "  <svg xmlns=\"http://www.w3.org/2000/svg\" height=\"24px\" viewBox=\"0 -960 960 960\">\n",
              "    <path d=\"M120-120v-720h720v720H120Zm60-500h600v-160H180v160Zm220 220h160v-160H400v160Zm0 220h160v-160H400v160ZM180-400h160v-160H180v160Zm440 0h160v-160H620v160ZM180-180h160v-160H180v160Zm440 0h160v-160H620v160Z\"/>\n",
              "  </svg>\n",
              "    </button>\n",
              "\n",
              "  <style>\n",
              "    .colab-df-container {\n",
              "      display:flex;\n",
              "      gap: 12px;\n",
              "    }\n",
              "\n",
              "    .colab-df-convert {\n",
              "      background-color: #E8F0FE;\n",
              "      border: none;\n",
              "      border-radius: 50%;\n",
              "      cursor: pointer;\n",
              "      display: none;\n",
              "      fill: #1967D2;\n",
              "      height: 32px;\n",
              "      padding: 0 0 0 0;\n",
              "      width: 32px;\n",
              "    }\n",
              "\n",
              "    .colab-df-convert:hover {\n",
              "      background-color: #E2EBFA;\n",
              "      box-shadow: 0px 1px 2px rgba(60, 64, 67, 0.3), 0px 1px 3px 1px rgba(60, 64, 67, 0.15);\n",
              "      fill: #174EA6;\n",
              "    }\n",
              "\n",
              "    .colab-df-buttons div {\n",
              "      margin-bottom: 4px;\n",
              "    }\n",
              "\n",
              "    [theme=dark] .colab-df-convert {\n",
              "      background-color: #3B4455;\n",
              "      fill: #D2E3FC;\n",
              "    }\n",
              "\n",
              "    [theme=dark] .colab-df-convert:hover {\n",
              "      background-color: #434B5C;\n",
              "      box-shadow: 0px 1px 3px 1px rgba(0, 0, 0, 0.15);\n",
              "      filter: drop-shadow(0px 1px 2px rgba(0, 0, 0, 0.3));\n",
              "      fill: #FFFFFF;\n",
              "    }\n",
              "  </style>\n",
              "\n",
              "    <script>\n",
              "      const buttonEl =\n",
              "        document.querySelector('#df-d50e4107-7c16-48a3-ac56-a566e3cb6b40 button.colab-df-convert');\n",
              "      buttonEl.style.display =\n",
              "        google.colab.kernel.accessAllowed ? 'block' : 'none';\n",
              "\n",
              "      async function convertToInteractive(key) {\n",
              "        const element = document.querySelector('#df-d50e4107-7c16-48a3-ac56-a566e3cb6b40');\n",
              "        const dataTable =\n",
              "          await google.colab.kernel.invokeFunction('convertToInteractive',\n",
              "                                                    [key], {});\n",
              "        if (!dataTable) return;\n",
              "\n",
              "        const docLinkHtml = 'Like what you see? Visit the ' +\n",
              "          '<a target=\"_blank\" href=https://colab.research.google.com/notebooks/data_table.ipynb>data table notebook</a>'\n",
              "          + ' to learn more about interactive tables.';\n",
              "        element.innerHTML = '';\n",
              "        dataTable['output_type'] = 'display_data';\n",
              "        await google.colab.output.renderOutput(dataTable, element);\n",
              "        const docLink = document.createElement('div');\n",
              "        docLink.innerHTML = docLinkHtml;\n",
              "        element.appendChild(docLink);\n",
              "      }\n",
              "    </script>\n",
              "  </div>\n",
              "\n",
              "    </div>\n",
              "  </div>\n"
            ]
          },
          "metadata": {},
          "execution_count": 162
        }
      ]
    },
    {
      "cell_type": "code",
      "source": [
        "# 変数を選択\n",
        "selected_columns = cleaned_data_copy.loc[:, 'MILK1':'SAKE6'].copy()\n",
        "selected_columns['BMI'] = cleaned_data_copy['BMI']\n",
        "selected_columns['ECF'] = cleaned_data_copy['ECF']\n",
        "selected_columns['AGE'] = cleaned_data_copy['AGE']\n",
        "selected_columns['SEX'] = cleaned_data_copy['SEX']\n",
        "values_dataframe = selected_columns\n",
        "\n",
        "values_dataframe.describe()"
      ],
      "metadata": {
        "colab": {
          "base_uri": "https://localhost:8080/",
          "height": 350
        },
        "id": "AN0DY1BCIy2Y",
        "outputId": "84542789-824f-49ed-9219-0228c4afe576"
      },
      "execution_count": 163,
      "outputs": [
        {
          "output_type": "execute_result",
          "data": {
            "text/plain": [
              "             MILK1        MILK2        MEAT1        MEAT2        MEAT3  \\\n",
              "count  2738.000000  2738.000000  2738.000000  2738.000000  2738.000000   \n",
              "mean     34.764657    80.053713    23.631035    34.314375     8.926266   \n",
              "std      66.259886    86.099265    22.957716    26.478498     9.045182   \n",
              "min       0.000000     0.000000     0.000000     0.000000     0.000000   \n",
              "25%       0.000000     0.000000     7.968711    14.229841     2.309771   \n",
              "50%       0.000000    53.571429    14.785714    30.803571     5.142857   \n",
              "75%      42.857143   136.111524    33.883929    39.132063    11.785714   \n",
              "max     415.758836   415.758836   239.061331   239.061331    83.151767   \n",
              "\n",
              "             MEAT4        FISH1        FISH2        FISH3        FISH4  ...  \\\n",
              "count  2738.000000  2738.000000  2738.000000  2738.000000  2738.000000  ...   \n",
              "mean      0.900346    12.274938    10.216225     4.194806    22.520833  ...   \n",
              "std       3.193298    16.541838    17.636710     6.338933    24.262516  ...   \n",
              "min       0.000000     0.000000     0.000000     0.000000     0.000000  ...   \n",
              "25%       0.000000     5.520000     0.000000     0.000000     5.866667  ...   \n",
              "50%       0.000000     7.083299     4.781227     3.066667    13.198693  ...   \n",
              "75%       0.000000    14.457143    10.842857     5.914286    31.428571  ...   \n",
              "max      92.390852   254.998753   191.249064    82.800000   192.000000  ...   \n",
              "\n",
              "              MISO        SAKE2        SAKE3        SAKE4        SAKE5  \\\n",
              "count  2738.000000  2738.000000  2738.000000  2738.000000  2738.000000   \n",
              "mean    179.497053    15.817197    79.613473    16.170111     3.313994   \n",
              "std     131.107118    54.583057   194.906525    44.273592    17.352807   \n",
              "min       0.000000     0.000000     0.000000     0.000000     0.000000   \n",
              "25%      96.000000     0.000000     0.000000     0.000000     0.000000   \n",
              "50%     132.000000     0.000000     0.000000     0.000000     0.000000   \n",
              "75%     249.455301     0.000000    63.300000     1.928571     0.000000   \n",
              "max     990.891892   540.000000  1899.000000   270.000000   201.000000   \n",
              "\n",
              "             SAKE6          BMI          ECF          AGE          SEX  \n",
              "count  2738.000000  2710.000000  2710.000000  2710.000000  2710.000000  \n",
              "mean      4.279675    22.857073     1.282921    53.947232     1.609963  \n",
              "std      22.564087     3.506897     0.492430    19.101461     0.487848  \n",
              "min       0.000000    13.473917     0.259846    15.000000     1.000000  \n",
              "25%       0.000000    20.406081     0.969508    41.000000     1.000000  \n",
              "50%       0.000000    22.456083     1.187820    58.000000     2.000000  \n",
              "75%       0.000000    24.820016     1.476786    69.000000     2.000000  \n",
              "max     330.000000    50.781250     5.894433    96.000000     2.000000  \n",
              "\n",
              "[8 rows x 57 columns]"
            ],
            "text/html": [
              "\n",
              "  <div id=\"df-a20ddd76-6fa1-4c6b-82ac-563f2ef6acf7\" class=\"colab-df-container\">\n",
              "    <div>\n",
              "<style scoped>\n",
              "    .dataframe tbody tr th:only-of-type {\n",
              "        vertical-align: middle;\n",
              "    }\n",
              "\n",
              "    .dataframe tbody tr th {\n",
              "        vertical-align: top;\n",
              "    }\n",
              "\n",
              "    .dataframe thead th {\n",
              "        text-align: right;\n",
              "    }\n",
              "</style>\n",
              "<table border=\"1\" class=\"dataframe\">\n",
              "  <thead>\n",
              "    <tr style=\"text-align: right;\">\n",
              "      <th></th>\n",
              "      <th>MILK1</th>\n",
              "      <th>MILK2</th>\n",
              "      <th>MEAT1</th>\n",
              "      <th>MEAT2</th>\n",
              "      <th>MEAT3</th>\n",
              "      <th>MEAT4</th>\n",
              "      <th>FISH1</th>\n",
              "      <th>FISH2</th>\n",
              "      <th>FISH3</th>\n",
              "      <th>FISH4</th>\n",
              "      <th>...</th>\n",
              "      <th>MISO</th>\n",
              "      <th>SAKE2</th>\n",
              "      <th>SAKE3</th>\n",
              "      <th>SAKE4</th>\n",
              "      <th>SAKE5</th>\n",
              "      <th>SAKE6</th>\n",
              "      <th>BMI</th>\n",
              "      <th>ECF</th>\n",
              "      <th>AGE</th>\n",
              "      <th>SEX</th>\n",
              "    </tr>\n",
              "  </thead>\n",
              "  <tbody>\n",
              "    <tr>\n",
              "      <th>count</th>\n",
              "      <td>2738.000000</td>\n",
              "      <td>2738.000000</td>\n",
              "      <td>2738.000000</td>\n",
              "      <td>2738.000000</td>\n",
              "      <td>2738.000000</td>\n",
              "      <td>2738.000000</td>\n",
              "      <td>2738.000000</td>\n",
              "      <td>2738.000000</td>\n",
              "      <td>2738.000000</td>\n",
              "      <td>2738.000000</td>\n",
              "      <td>...</td>\n",
              "      <td>2738.000000</td>\n",
              "      <td>2738.000000</td>\n",
              "      <td>2738.000000</td>\n",
              "      <td>2738.000000</td>\n",
              "      <td>2738.000000</td>\n",
              "      <td>2738.000000</td>\n",
              "      <td>2710.000000</td>\n",
              "      <td>2710.000000</td>\n",
              "      <td>2710.000000</td>\n",
              "      <td>2710.000000</td>\n",
              "    </tr>\n",
              "    <tr>\n",
              "      <th>mean</th>\n",
              "      <td>34.764657</td>\n",
              "      <td>80.053713</td>\n",
              "      <td>23.631035</td>\n",
              "      <td>34.314375</td>\n",
              "      <td>8.926266</td>\n",
              "      <td>0.900346</td>\n",
              "      <td>12.274938</td>\n",
              "      <td>10.216225</td>\n",
              "      <td>4.194806</td>\n",
              "      <td>22.520833</td>\n",
              "      <td>...</td>\n",
              "      <td>179.497053</td>\n",
              "      <td>15.817197</td>\n",
              "      <td>79.613473</td>\n",
              "      <td>16.170111</td>\n",
              "      <td>3.313994</td>\n",
              "      <td>4.279675</td>\n",
              "      <td>22.857073</td>\n",
              "      <td>1.282921</td>\n",
              "      <td>53.947232</td>\n",
              "      <td>1.609963</td>\n",
              "    </tr>\n",
              "    <tr>\n",
              "      <th>std</th>\n",
              "      <td>66.259886</td>\n",
              "      <td>86.099265</td>\n",
              "      <td>22.957716</td>\n",
              "      <td>26.478498</td>\n",
              "      <td>9.045182</td>\n",
              "      <td>3.193298</td>\n",
              "      <td>16.541838</td>\n",
              "      <td>17.636710</td>\n",
              "      <td>6.338933</td>\n",
              "      <td>24.262516</td>\n",
              "      <td>...</td>\n",
              "      <td>131.107118</td>\n",
              "      <td>54.583057</td>\n",
              "      <td>194.906525</td>\n",
              "      <td>44.273592</td>\n",
              "      <td>17.352807</td>\n",
              "      <td>22.564087</td>\n",
              "      <td>3.506897</td>\n",
              "      <td>0.492430</td>\n",
              "      <td>19.101461</td>\n",
              "      <td>0.487848</td>\n",
              "    </tr>\n",
              "    <tr>\n",
              "      <th>min</th>\n",
              "      <td>0.000000</td>\n",
              "      <td>0.000000</td>\n",
              "      <td>0.000000</td>\n",
              "      <td>0.000000</td>\n",
              "      <td>0.000000</td>\n",
              "      <td>0.000000</td>\n",
              "      <td>0.000000</td>\n",
              "      <td>0.000000</td>\n",
              "      <td>0.000000</td>\n",
              "      <td>0.000000</td>\n",
              "      <td>...</td>\n",
              "      <td>0.000000</td>\n",
              "      <td>0.000000</td>\n",
              "      <td>0.000000</td>\n",
              "      <td>0.000000</td>\n",
              "      <td>0.000000</td>\n",
              "      <td>0.000000</td>\n",
              "      <td>13.473917</td>\n",
              "      <td>0.259846</td>\n",
              "      <td>15.000000</td>\n",
              "      <td>1.000000</td>\n",
              "    </tr>\n",
              "    <tr>\n",
              "      <th>25%</th>\n",
              "      <td>0.000000</td>\n",
              "      <td>0.000000</td>\n",
              "      <td>7.968711</td>\n",
              "      <td>14.229841</td>\n",
              "      <td>2.309771</td>\n",
              "      <td>0.000000</td>\n",
              "      <td>5.520000</td>\n",
              "      <td>0.000000</td>\n",
              "      <td>0.000000</td>\n",
              "      <td>5.866667</td>\n",
              "      <td>...</td>\n",
              "      <td>96.000000</td>\n",
              "      <td>0.000000</td>\n",
              "      <td>0.000000</td>\n",
              "      <td>0.000000</td>\n",
              "      <td>0.000000</td>\n",
              "      <td>0.000000</td>\n",
              "      <td>20.406081</td>\n",
              "      <td>0.969508</td>\n",
              "      <td>41.000000</td>\n",
              "      <td>1.000000</td>\n",
              "    </tr>\n",
              "    <tr>\n",
              "      <th>50%</th>\n",
              "      <td>0.000000</td>\n",
              "      <td>53.571429</td>\n",
              "      <td>14.785714</td>\n",
              "      <td>30.803571</td>\n",
              "      <td>5.142857</td>\n",
              "      <td>0.000000</td>\n",
              "      <td>7.083299</td>\n",
              "      <td>4.781227</td>\n",
              "      <td>3.066667</td>\n",
              "      <td>13.198693</td>\n",
              "      <td>...</td>\n",
              "      <td>132.000000</td>\n",
              "      <td>0.000000</td>\n",
              "      <td>0.000000</td>\n",
              "      <td>0.000000</td>\n",
              "      <td>0.000000</td>\n",
              "      <td>0.000000</td>\n",
              "      <td>22.456083</td>\n",
              "      <td>1.187820</td>\n",
              "      <td>58.000000</td>\n",
              "      <td>2.000000</td>\n",
              "    </tr>\n",
              "    <tr>\n",
              "      <th>75%</th>\n",
              "      <td>42.857143</td>\n",
              "      <td>136.111524</td>\n",
              "      <td>33.883929</td>\n",
              "      <td>39.132063</td>\n",
              "      <td>11.785714</td>\n",
              "      <td>0.000000</td>\n",
              "      <td>14.457143</td>\n",
              "      <td>10.842857</td>\n",
              "      <td>5.914286</td>\n",
              "      <td>31.428571</td>\n",
              "      <td>...</td>\n",
              "      <td>249.455301</td>\n",
              "      <td>0.000000</td>\n",
              "      <td>63.300000</td>\n",
              "      <td>1.928571</td>\n",
              "      <td>0.000000</td>\n",
              "      <td>0.000000</td>\n",
              "      <td>24.820016</td>\n",
              "      <td>1.476786</td>\n",
              "      <td>69.000000</td>\n",
              "      <td>2.000000</td>\n",
              "    </tr>\n",
              "    <tr>\n",
              "      <th>max</th>\n",
              "      <td>415.758836</td>\n",
              "      <td>415.758836</td>\n",
              "      <td>239.061331</td>\n",
              "      <td>239.061331</td>\n",
              "      <td>83.151767</td>\n",
              "      <td>92.390852</td>\n",
              "      <td>254.998753</td>\n",
              "      <td>191.249064</td>\n",
              "      <td>82.800000</td>\n",
              "      <td>192.000000</td>\n",
              "      <td>...</td>\n",
              "      <td>990.891892</td>\n",
              "      <td>540.000000</td>\n",
              "      <td>1899.000000</td>\n",
              "      <td>270.000000</td>\n",
              "      <td>201.000000</td>\n",
              "      <td>330.000000</td>\n",
              "      <td>50.781250</td>\n",
              "      <td>5.894433</td>\n",
              "      <td>96.000000</td>\n",
              "      <td>2.000000</td>\n",
              "    </tr>\n",
              "  </tbody>\n",
              "</table>\n",
              "<p>8 rows × 57 columns</p>\n",
              "</div>\n",
              "    <div class=\"colab-df-buttons\">\n",
              "\n",
              "  <div class=\"colab-df-container\">\n",
              "    <button class=\"colab-df-convert\" onclick=\"convertToInteractive('df-a20ddd76-6fa1-4c6b-82ac-563f2ef6acf7')\"\n",
              "            title=\"Convert this dataframe to an interactive table.\"\n",
              "            style=\"display:none;\">\n",
              "\n",
              "  <svg xmlns=\"http://www.w3.org/2000/svg\" height=\"24px\" viewBox=\"0 -960 960 960\">\n",
              "    <path d=\"M120-120v-720h720v720H120Zm60-500h600v-160H180v160Zm220 220h160v-160H400v160Zm0 220h160v-160H400v160ZM180-400h160v-160H180v160Zm440 0h160v-160H620v160ZM180-180h160v-160H180v160Zm440 0h160v-160H620v160Z\"/>\n",
              "  </svg>\n",
              "    </button>\n",
              "\n",
              "  <style>\n",
              "    .colab-df-container {\n",
              "      display:flex;\n",
              "      gap: 12px;\n",
              "    }\n",
              "\n",
              "    .colab-df-convert {\n",
              "      background-color: #E8F0FE;\n",
              "      border: none;\n",
              "      border-radius: 50%;\n",
              "      cursor: pointer;\n",
              "      display: none;\n",
              "      fill: #1967D2;\n",
              "      height: 32px;\n",
              "      padding: 0 0 0 0;\n",
              "      width: 32px;\n",
              "    }\n",
              "\n",
              "    .colab-df-convert:hover {\n",
              "      background-color: #E2EBFA;\n",
              "      box-shadow: 0px 1px 2px rgba(60, 64, 67, 0.3), 0px 1px 3px 1px rgba(60, 64, 67, 0.15);\n",
              "      fill: #174EA6;\n",
              "    }\n",
              "\n",
              "    .colab-df-buttons div {\n",
              "      margin-bottom: 4px;\n",
              "    }\n",
              "\n",
              "    [theme=dark] .colab-df-convert {\n",
              "      background-color: #3B4455;\n",
              "      fill: #D2E3FC;\n",
              "    }\n",
              "\n",
              "    [theme=dark] .colab-df-convert:hover {\n",
              "      background-color: #434B5C;\n",
              "      box-shadow: 0px 1px 3px 1px rgba(0, 0, 0, 0.15);\n",
              "      filter: drop-shadow(0px 1px 2px rgba(0, 0, 0, 0.3));\n",
              "      fill: #FFFFFF;\n",
              "    }\n",
              "  </style>\n",
              "\n",
              "    <script>\n",
              "      const buttonEl =\n",
              "        document.querySelector('#df-a20ddd76-6fa1-4c6b-82ac-563f2ef6acf7 button.colab-df-convert');\n",
              "      buttonEl.style.display =\n",
              "        google.colab.kernel.accessAllowed ? 'block' : 'none';\n",
              "\n",
              "      async function convertToInteractive(key) {\n",
              "        const element = document.querySelector('#df-a20ddd76-6fa1-4c6b-82ac-563f2ef6acf7');\n",
              "        const dataTable =\n",
              "          await google.colab.kernel.invokeFunction('convertToInteractive',\n",
              "                                                    [key], {});\n",
              "        if (!dataTable) return;\n",
              "\n",
              "        const docLinkHtml = 'Like what you see? Visit the ' +\n",
              "          '<a target=\"_blank\" href=https://colab.research.google.com/notebooks/data_table.ipynb>data table notebook</a>'\n",
              "          + ' to learn more about interactive tables.';\n",
              "        element.innerHTML = '';\n",
              "        dataTable['output_type'] = 'display_data';\n",
              "        await google.colab.output.renderOutput(dataTable, element);\n",
              "        const docLink = document.createElement('div');\n",
              "        docLink.innerHTML = docLinkHtml;\n",
              "        element.appendChild(docLink);\n",
              "      }\n",
              "    </script>\n",
              "  </div>\n",
              "\n",
              "\n",
              "<div id=\"df-e408c75e-0b71-402e-b513-6e301dc09801\">\n",
              "  <button class=\"colab-df-quickchart\" onclick=\"quickchart('df-e408c75e-0b71-402e-b513-6e301dc09801')\"\n",
              "            title=\"Suggest charts\"\n",
              "            style=\"display:none;\">\n",
              "\n",
              "<svg xmlns=\"http://www.w3.org/2000/svg\" height=\"24px\"viewBox=\"0 0 24 24\"\n",
              "     width=\"24px\">\n",
              "    <g>\n",
              "        <path d=\"M19 3H5c-1.1 0-2 .9-2 2v14c0 1.1.9 2 2 2h14c1.1 0 2-.9 2-2V5c0-1.1-.9-2-2-2zM9 17H7v-7h2v7zm4 0h-2V7h2v10zm4 0h-2v-4h2v4z\"/>\n",
              "    </g>\n",
              "</svg>\n",
              "  </button>\n",
              "\n",
              "<style>\n",
              "  .colab-df-quickchart {\n",
              "      --bg-color: #E8F0FE;\n",
              "      --fill-color: #1967D2;\n",
              "      --hover-bg-color: #E2EBFA;\n",
              "      --hover-fill-color: #174EA6;\n",
              "      --disabled-fill-color: #AAA;\n",
              "      --disabled-bg-color: #DDD;\n",
              "  }\n",
              "\n",
              "  [theme=dark] .colab-df-quickchart {\n",
              "      --bg-color: #3B4455;\n",
              "      --fill-color: #D2E3FC;\n",
              "      --hover-bg-color: #434B5C;\n",
              "      --hover-fill-color: #FFFFFF;\n",
              "      --disabled-bg-color: #3B4455;\n",
              "      --disabled-fill-color: #666;\n",
              "  }\n",
              "\n",
              "  .colab-df-quickchart {\n",
              "    background-color: var(--bg-color);\n",
              "    border: none;\n",
              "    border-radius: 50%;\n",
              "    cursor: pointer;\n",
              "    display: none;\n",
              "    fill: var(--fill-color);\n",
              "    height: 32px;\n",
              "    padding: 0;\n",
              "    width: 32px;\n",
              "  }\n",
              "\n",
              "  .colab-df-quickchart:hover {\n",
              "    background-color: var(--hover-bg-color);\n",
              "    box-shadow: 0 1px 2px rgba(60, 64, 67, 0.3), 0 1px 3px 1px rgba(60, 64, 67, 0.15);\n",
              "    fill: var(--button-hover-fill-color);\n",
              "  }\n",
              "\n",
              "  .colab-df-quickchart-complete:disabled,\n",
              "  .colab-df-quickchart-complete:disabled:hover {\n",
              "    background-color: var(--disabled-bg-color);\n",
              "    fill: var(--disabled-fill-color);\n",
              "    box-shadow: none;\n",
              "  }\n",
              "\n",
              "  .colab-df-spinner {\n",
              "    border: 2px solid var(--fill-color);\n",
              "    border-color: transparent;\n",
              "    border-bottom-color: var(--fill-color);\n",
              "    animation:\n",
              "      spin 1s steps(1) infinite;\n",
              "  }\n",
              "\n",
              "  @keyframes spin {\n",
              "    0% {\n",
              "      border-color: transparent;\n",
              "      border-bottom-color: var(--fill-color);\n",
              "      border-left-color: var(--fill-color);\n",
              "    }\n",
              "    20% {\n",
              "      border-color: transparent;\n",
              "      border-left-color: var(--fill-color);\n",
              "      border-top-color: var(--fill-color);\n",
              "    }\n",
              "    30% {\n",
              "      border-color: transparent;\n",
              "      border-left-color: var(--fill-color);\n",
              "      border-top-color: var(--fill-color);\n",
              "      border-right-color: var(--fill-color);\n",
              "    }\n",
              "    40% {\n",
              "      border-color: transparent;\n",
              "      border-right-color: var(--fill-color);\n",
              "      border-top-color: var(--fill-color);\n",
              "    }\n",
              "    60% {\n",
              "      border-color: transparent;\n",
              "      border-right-color: var(--fill-color);\n",
              "    }\n",
              "    80% {\n",
              "      border-color: transparent;\n",
              "      border-right-color: var(--fill-color);\n",
              "      border-bottom-color: var(--fill-color);\n",
              "    }\n",
              "    90% {\n",
              "      border-color: transparent;\n",
              "      border-bottom-color: var(--fill-color);\n",
              "    }\n",
              "  }\n",
              "</style>\n",
              "\n",
              "  <script>\n",
              "    async function quickchart(key) {\n",
              "      const quickchartButtonEl =\n",
              "        document.querySelector('#' + key + ' button');\n",
              "      quickchartButtonEl.disabled = true;  // To prevent multiple clicks.\n",
              "      quickchartButtonEl.classList.add('colab-df-spinner');\n",
              "      try {\n",
              "        const charts = await google.colab.kernel.invokeFunction(\n",
              "            'suggestCharts', [key], {});\n",
              "      } catch (error) {\n",
              "        console.error('Error during call to suggestCharts:', error);\n",
              "      }\n",
              "      quickchartButtonEl.classList.remove('colab-df-spinner');\n",
              "      quickchartButtonEl.classList.add('colab-df-quickchart-complete');\n",
              "    }\n",
              "    (() => {\n",
              "      let quickchartButtonEl =\n",
              "        document.querySelector('#df-e408c75e-0b71-402e-b513-6e301dc09801 button');\n",
              "      quickchartButtonEl.style.display =\n",
              "        google.colab.kernel.accessAllowed ? 'block' : 'none';\n",
              "    })();\n",
              "  </script>\n",
              "</div>\n",
              "    </div>\n",
              "  </div>\n"
            ]
          },
          "metadata": {},
          "execution_count": 163
        }
      ]
    },
    {
      "cell_type": "code",
      "source": [
        "# NA処理\n",
        "values_dataframe_cleaned = values_dataframe.dropna()"
      ],
      "metadata": {
        "id": "7KoHtNo3S3sQ"
      },
      "execution_count": 164,
      "outputs": []
    },
    {
      "cell_type": "code",
      "source": [
        "checksVariables(values_dataframe_cleaned)"
      ],
      "metadata": {
        "colab": {
          "base_uri": "https://localhost:8080/",
          "height": 1000
        },
        "id": "UWd3qCf5CSNG",
        "outputId": "73fc8a52-c829-4e01-d2c2-18a02969e064"
      },
      "execution_count": 165,
      "outputs": [
        {
          "output_type": "display_data",
          "data": {
            "text/plain": [
              "<Figure size 1200x900 with 1 Axes>"
            ],
            "image/png": "[encoded data removed]"
          },
          "metadata": {}
        },
        {
          "output_type": "stream",
          "name": "stdout",
          "text": [
            "('VEG3', 'VEG5', 0.5111778005695479)\n",
            "('VEG5', 'VEG3', 0.5111778005695479)\n",
            "('VEG5', 'VEG6', 0.5423405377044409)\n",
            "('VEG5', 'VEG7', 0.5130633464363883)\n",
            "('VEG6', 'VEG5', 0.5423405377044409)\n",
            "('VEG6', 'VEG8', 0.5394437595174767)\n",
            "('VEG7', 'VEG5', 0.5130633464363883)\n",
            "('VEG8', 'VEG6', 0.5394437595174767)\n",
            "('RICE', 'MISO', 0.5631280489864002)\n",
            "('MISO', 'RICE', 0.5631280489864002)\n"
          ]
        },
        {
          "output_type": "display_data",
          "data": {
            "text/plain": [
              "<Figure size 1500x1500 with 2 Axes>"
            ],
            "image/png": "[encoded data removed]"
          },
          "metadata": {}
        }
      ]
    },
    {
      "cell_type": "markdown",
      "source": [
        "### LiNGAMの関数定義"
      ],
      "metadata": {
        "id": "IyPSW40NaOfi"
      }
    },
    {
      "cell_type": "code",
      "source": [
        "# 解析に使用する変数の選択（）\n",
        "def select(df):\n",
        "    # 基本統計量の確認\n",
        "    df.describe()\n",
        "\n",
        "    # 各列について、上:0.5%,下:0.5%のデータを外れ値として除去\n",
        "    for column in df.columns:\n",
        "        lower_limit = df[column].quantile(0.005)\n",
        "        upper_limit = df[column].quantile(0.995)\n",
        "        df = df[(df[column] > lower_limit) & (df[column] < upper_limit)]\n",
        "\n",
        "    # 修正されたデータフレームを表示\n",
        "    df.describe()\n",
        "\n",
        "    len(df)\n",
        "\n",
        "    return df"
      ],
      "metadata": {
        "id": "g4uu6dPN_6W_"
      },
      "execution_count": 166,
      "outputs": []
    },
    {
      "cell_type": "code",
      "source": [
        "def modeling(selected_columns):\n",
        "  # 標準化\n",
        "  scaler = StandardScaler()\n",
        "  Xy = scaler.fit_transform(selected_columns)\n",
        "\n",
        "  # モデル作成\n",
        "  model = lingam.DirectLiNGAM(random_state=1)\n",
        "  model.fit(Xy)\n",
        "\n",
        "  # 因果の順番\n",
        "  print(f\"因果の順番\\n_____________\\n{model.causal_order_}\\n_________\")\n",
        "\n",
        "  # 隣接行列\n",
        "  print(f\"隣接行列\\n_____________\\n{model.adjacency_matrix_}\\n_________\")\n",
        "\n",
        "  # 推定した因果モデルにおける、誤差同士の独立性のp値\n",
        "  p_values = model.get_error_independence_p_values(Xy)\n",
        "  print(p_values)\n",
        "\n",
        "  return model"
      ],
      "metadata": {
        "id": "iuXgwvpCN_Sy"
      },
      "execution_count": 167,
      "outputs": []
    },
    {
      "cell_type": "code",
      "source": [
        "def gragh(model, selected_columns):\n",
        "    # 因果グラフの描画\n",
        "    dot = make_dot(model.adjacency_matrix_, labels=selected_columns.columns.to_list())\n",
        "    dot.format = 'png'\n",
        "    dot.render('food_all')\n",
        "    return dot"
      ],
      "metadata": {
        "id": "WMVLBuIDOBzs"
      },
      "execution_count": 168,
      "outputs": []
    },
    {
      "cell_type": "code",
      "source": [
        "def lingam_matrix(df):\n",
        "    scaler = StandardScaler()\n",
        "    Xy = scaler.fit_transform(df)\n",
        "\n",
        "    model = lingam.DirectLiNGAM(random_state=1)\n",
        "    result = model.bootstrap(Xy, n_sampling=100)\n",
        "    # sklearn.utils.resampleで重複ありのリサンプリングをしている。リサンプル後のサンプル数は元データと同じ。\n",
        "\n",
        "    # bootstrappingの各サンプルにおける、因果方向の有無のカウント結果を取得する\n",
        "    cdc = result.get_causal_direction_counts(n_directions=8, min_causal_effect=0.01, split_by_causal_effect_sign=True)\n",
        "    print_causal_directions(cdc, 100, labels=df.columns.to_list())\n",
        "\n",
        "    # カウント結果を確率として、隣接行列の形式で表示\n",
        "    prob = result.get_probabilities(min_causal_effect=0.01)\n",
        "    print(prob)\n",
        "\n",
        "    # bootstrappingの各サンプルにおける、DAG(Directed Acyclic Graphs)のカウント結果を取得する\n",
        "    dagc = result.get_directed_acyclic_graph_counts(n_dags=3, min_causal_effect=0.01, split_by_causal_effect_sign=True)\n",
        "    print_dagc(dagc, 100, labels=df.columns.to_list())\n",
        "\n",
        "    # Total Causal Effects\n",
        "    causal_effects = result.get_total_causal_effects(min_causal_effect=0.01)\n",
        "\n",
        "    # # Assign to pandas.DataFrame for pretty display\n",
        "    # df = pd.DataFrame(causal_effects)\n",
        "    # labels = df.columns.to_list()\n",
        "    # # 'from' 列と 'to' 列のラベルを適用する\n",
        "    # df['from'] = df['from'].apply(lambda x: labels[x])\n",
        "    # df['to'] = df['to'].apply(lambda x: labels[x])\n",
        "    # return df"
      ],
      "metadata": {
        "id": "_HPR6342ODvK"
      },
      "execution_count": 188,
      "outputs": []
    },
    {
      "cell_type": "code",
      "source": [
        "def LiNGAM(df):\n",
        "  selected_columns = select(df)\n",
        "  model = modeling(selected_columns)\n",
        "  dot = gragh(model, selected_columns)\n",
        "  lingam_matrix(selected_columns)\n",
        "  return dot"
      ],
      "metadata": {
        "id": "JY3nHCSAOFuq"
      },
      "execution_count": 189,
      "outputs": []
    },
    {
      "cell_type": "code",
      "source": [
        "# # 変数とインデックス\n",
        "# for index, column_name in enumerate(values_dataframe_cleaned.columns):\n",
        "#     print(f\"{index}:{column_name}\",end=\", \")\n",
        "i=0\n",
        "for column_name in values_dataframe_cleaned.columns:\n",
        "  print(f\"{column_name}\",end='\\t')\n",
        "  if i==1 or i==5 or i==11 or i==12 or i==14 or i==15 or i==26 or i==30 or i==33 or i==34 or i==39 or i==44 or i==45 or i==46 or i==47 or i==52:\n",
        "    print()\n",
        "  i += 1"
      ],
      "metadata": {
        "colab": {
          "base_uri": "https://localhost:8080/"
        },
        "id": "hhgu6OB3HOS4",
        "outputId": "dc22d2de-5648-470b-8957-3f499b30c49c"
      },
      "execution_count": 183,
      "outputs": [
        {
          "output_type": "stream",
          "name": "stdout",
          "text": [
            "MILK1\tMILK2\t\n",
            "MEAT1\tMEAT2\tMEAT3\tMEAT4\t\n",
            "FISH1\tFISH2\tFISH3\tFISH4\tFISH5\tFISH6\t\n",
            "EGG1\t\n",
            "SOY1\tSOY2\t\n",
            "PTT1\t\n",
            "VEG1\tVEG2\tVEG3\tVEG4\tVEG5\tVEG6\tVEG7\tVEG8\tVEG9\tVEG10\tVEG11\t\n",
            "SWT1\tSWT2\tSWT3\tSWT4\t\n",
            "FRT1\tFRT2\tFRT3\t\n",
            "MAYO1\t\n",
            "CRL1\tCRL2\tCRL3\tCRL4\tCRL5\t\n",
            "BEV1\tBEV2\tBEV3\tBEV4\tBEV5\t\n",
            "SGR\t\n",
            "RICE\t\n",
            "MISO\t\n",
            "SAKE2\tSAKE3\tSAKE4\tSAKE5\tSAKE6\t\n",
            "BMI\tECF\tAGE\tSEX\t"
          ]
        }
      ]
    },
    {
      "cell_type": "code",
      "source": [
        "# 変数を指定するリスト\n",
        "selected_variables = ['RICE','EGG1','SOY1','MEAT2','VEG8','PTT1','CRL1','FISH6','ECF','BMI']\n",
        "\n",
        "# 使用する変数を確認\n",
        "df = values_dataframe_cleaned[selected_variables]\n",
        "df"
      ],
      "metadata": {
        "colab": {
          "base_uri": "https://localhost:8080/",
          "height": 424
        },
        "id": "MYmEwWiwIkvN",
        "outputId": "6ef37297-4bf6-40d7-cded-a20e4c96e151"
      },
      "execution_count": 184,
      "outputs": [
        {
          "output_type": "execute_result",
          "data": {
            "text/plain": [
              "            RICE       EGG1        SOY1      MEAT2       VEG8        PTT1  \\\n",
              "0     300.270270  83.844699   44.349671  39.132063  31.305650  127.037422   \n",
              "1     720.648649  91.466944   19.352584  85.379047  68.303237   69.293139   \n",
              "2     405.364865  76.222453   16.127153  35.574603  28.459682   23.097713   \n",
              "3     300.270270  59.889070   88.699343  39.132063  62.611301  127.037422   \n",
              "4     165.148649  32.666766  135.468087  42.689523  13.660647   27.717256   \n",
              "...          ...        ...         ...        ...        ...         ...   \n",
              "2792  650.000000  47.142857   69.821429  61.607143  49.285714  100.000000   \n",
              "2793  390.000000  66.000000   34.910714  30.803571  24.642857   50.000000   \n",
              "2794  260.000000  47.142857   34.910714  30.803571  24.642857   50.000000   \n",
              "2795  351.000000  42.428571   62.839286  11.089286  22.178571   90.000000   \n",
              "2796  234.000000  51.857143   76.803571  33.883929  54.214286  110.000000   \n",
              "\n",
              "           CRL1      FISH6       ECF        BMI  \n",
              "0     28.872141  83.481734  0.934649  23.214198  \n",
              "1     69.293139  45.535492  0.736540  25.854639  \n",
              "2     25.984927   7.083299  1.422898  19.568236  \n",
              "3     80.841996   7.791629  0.980858  29.384757  \n",
              "4     88.926195  18.214197  1.231252  22.340297  \n",
              "...         ...        ...       ...        ...  \n",
              "2792  25.000000  32.857143  0.536910  21.938776  \n",
              "2793  25.000000  32.857143  1.112934  18.845467  \n",
              "2794  70.000000  13.142857  1.057415  23.415859  \n",
              "2795  22.500000  29.571429  0.904527  26.886957  \n",
              "2796   4.200000  36.142857  0.905828  23.671359  \n",
              "\n",
              "[2710 rows x 10 columns]"
            ],
            "text/html": [
              "\n",
              "  <div id=\"df-0225b615-9e50-4a66-888a-97e2e9893290\" class=\"colab-df-container\">\n",
              "    <div>\n",
              "<style scoped>\n",
              "    .dataframe tbody tr th:only-of-type {\n",
              "        vertical-align: middle;\n",
              "    }\n",
              "\n",
              "    .dataframe tbody tr th {\n",
              "        vertical-align: top;\n",
              "    }\n",
              "\n",
              "    .dataframe thead th {\n",
              "        text-align: right;\n",
              "    }\n",
              "</style>\n",
              "<table border=\"1\" class=\"dataframe\">\n",
              "  <thead>\n",
              "    <tr style=\"text-align: right;\">\n",
              "      <th></th>\n",
              "      <th>RICE</th>\n",
              "      <th>EGG1</th>\n",
              "      <th>SOY1</th>\n",
              "      <th>MEAT2</th>\n",
              "      <th>VEG8</th>\n",
              "      <th>PTT1</th>\n",
              "      <th>CRL1</th>\n",
              "      <th>FISH6</th>\n",
              "      <th>ECF</th>\n",
              "      <th>BMI</th>\n",
              "    </tr>\n",
              "  </thead>\n",
              "  <tbody>\n",
              "    <tr>\n",
              "      <th>0</th>\n",
              "      <td>300.270270</td>\n",
              "      <td>83.844699</td>\n",
              "      <td>44.349671</td>\n",
              "      <td>39.132063</td>\n",
              "      <td>31.305650</td>\n",
              "      <td>127.037422</td>\n",
              "      <td>28.872141</td>\n",
              "      <td>83.481734</td>\n",
              "      <td>0.934649</td>\n",
              "      <td>23.214198</td>\n",
              "    </tr>\n",
              "    <tr>\n",
              "      <th>1</th>\n",
              "      <td>720.648649</td>\n",
              "      <td>91.466944</td>\n",
              "      <td>19.352584</td>\n",
              "      <td>85.379047</td>\n",
              "      <td>68.303237</td>\n",
              "      <td>69.293139</td>\n",
              "      <td>69.293139</td>\n",
              "      <td>45.535492</td>\n",
              "      <td>0.736540</td>\n",
              "      <td>25.854639</td>\n",
              "    </tr>\n",
              "    <tr>\n",
              "      <th>2</th>\n",
              "      <td>405.364865</td>\n",
              "      <td>76.222453</td>\n",
              "      <td>16.127153</td>\n",
              "      <td>35.574603</td>\n",
              "      <td>28.459682</td>\n",
              "      <td>23.097713</td>\n",
              "      <td>25.984927</td>\n",
              "      <td>7.083299</td>\n",
              "      <td>1.422898</td>\n",
              "      <td>19.568236</td>\n",
              "    </tr>\n",
              "    <tr>\n",
              "      <th>3</th>\n",
              "      <td>300.270270</td>\n",
              "      <td>59.889070</td>\n",
              "      <td>88.699343</td>\n",
              "      <td>39.132063</td>\n",
              "      <td>62.611301</td>\n",
              "      <td>127.037422</td>\n",
              "      <td>80.841996</td>\n",
              "      <td>7.791629</td>\n",
              "      <td>0.980858</td>\n",
              "      <td>29.384757</td>\n",
              "    </tr>\n",
              "    <tr>\n",
              "      <th>4</th>\n",
              "      <td>165.148649</td>\n",
              "      <td>32.666766</td>\n",
              "      <td>135.468087</td>\n",
              "      <td>42.689523</td>\n",
              "      <td>13.660647</td>\n",
              "      <td>27.717256</td>\n",
              "      <td>88.926195</td>\n",
              "      <td>18.214197</td>\n",
              "      <td>1.231252</td>\n",
              "      <td>22.340297</td>\n",
              "    </tr>\n",
              "    <tr>\n",
              "      <th>...</th>\n",
              "      <td>...</td>\n",
              "      <td>...</td>\n",
              "      <td>...</td>\n",
              "      <td>...</td>\n",
              "      <td>...</td>\n",
              "      <td>...</td>\n",
              "      <td>...</td>\n",
              "      <td>...</td>\n",
              "      <td>...</td>\n",
              "      <td>...</td>\n",
              "    </tr>\n",
              "    <tr>\n",
              "      <th>2792</th>\n",
              "      <td>650.000000</td>\n",
              "      <td>47.142857</td>\n",
              "      <td>69.821429</td>\n",
              "      <td>61.607143</td>\n",
              "      <td>49.285714</td>\n",
              "      <td>100.000000</td>\n",
              "      <td>25.000000</td>\n",
              "      <td>32.857143</td>\n",
              "      <td>0.536910</td>\n",
              "      <td>21.938776</td>\n",
              "    </tr>\n",
              "    <tr>\n",
              "      <th>2793</th>\n",
              "      <td>390.000000</td>\n",
              "      <td>66.000000</td>\n",
              "      <td>34.910714</td>\n",
              "      <td>30.803571</td>\n",
              "      <td>24.642857</td>\n",
              "      <td>50.000000</td>\n",
              "      <td>25.000000</td>\n",
              "      <td>32.857143</td>\n",
              "      <td>1.112934</td>\n",
              "      <td>18.845467</td>\n",
              "    </tr>\n",
              "    <tr>\n",
              "      <th>2794</th>\n",
              "      <td>260.000000</td>\n",
              "      <td>47.142857</td>\n",
              "      <td>34.910714</td>\n",
              "      <td>30.803571</td>\n",
              "      <td>24.642857</td>\n",
              "      <td>50.000000</td>\n",
              "      <td>70.000000</td>\n",
              "      <td>13.142857</td>\n",
              "      <td>1.057415</td>\n",
              "      <td>23.415859</td>\n",
              "    </tr>\n",
              "    <tr>\n",
              "      <th>2795</th>\n",
              "      <td>351.000000</td>\n",
              "      <td>42.428571</td>\n",
              "      <td>62.839286</td>\n",
              "      <td>11.089286</td>\n",
              "      <td>22.178571</td>\n",
              "      <td>90.000000</td>\n",
              "      <td>22.500000</td>\n",
              "      <td>29.571429</td>\n",
              "      <td>0.904527</td>\n",
              "      <td>26.886957</td>\n",
              "    </tr>\n",
              "    <tr>\n",
              "      <th>2796</th>\n",
              "      <td>234.000000</td>\n",
              "      <td>51.857143</td>\n",
              "      <td>76.803571</td>\n",
              "      <td>33.883929</td>\n",
              "      <td>54.214286</td>\n",
              "      <td>110.000000</td>\n",
              "      <td>4.200000</td>\n",
              "      <td>36.142857</td>\n",
              "      <td>0.905828</td>\n",
              "      <td>23.671359</td>\n",
              "    </tr>\n",
              "  </tbody>\n",
              "</table>\n",
              "<p>2710 rows × 10 columns</p>\n",
              "</div>\n",
              "    <div class=\"colab-df-buttons\">\n",
              "\n",
              "  <div class=\"colab-df-container\">\n",
              "    <button class=\"colab-df-convert\" onclick=\"convertToInteractive('df-0225b615-9e50-4a66-888a-97e2e9893290')\"\n",
              "            title=\"Convert this dataframe to an interactive table.\"\n",
              "            style=\"display:none;\">\n",
              "\n",
              "  <svg xmlns=\"http://www.w3.org/2000/svg\" height=\"24px\" viewBox=\"0 -960 960 960\">\n",
              "    <path d=\"M120-120v-720h720v720H120Zm60-500h600v-160H180v160Zm220 220h160v-160H400v160Zm0 220h160v-160H400v160ZM180-400h160v-160H180v160Zm440 0h160v-160H620v160ZM180-180h160v-160H180v160Zm440 0h160v-160H620v160Z\"/>\n",
              "  </svg>\n",
              "    </button>\n",
              "\n",
              "  <style>\n",
              "    .colab-df-container {\n",
              "      display:flex;\n",
              "      gap: 12px;\n",
              "    }\n",
              "\n",
              "    .colab-df-convert {\n",
              "      background-color: #E8F0FE;\n",
              "      border: none;\n",
              "      border-radius: 50%;\n",
              "      cursor: pointer;\n",
              "      display: none;\n",
              "      fill: #1967D2;\n",
              "      height: 32px;\n",
              "      padding: 0 0 0 0;\n",
              "      width: 32px;\n",
              "    }\n",
              "\n",
              "    .colab-df-convert:hover {\n",
              "      background-color: #E2EBFA;\n",
              "      box-shadow: 0px 1px 2px rgba(60, 64, 67, 0.3), 0px 1px 3px 1px rgba(60, 64, 67, 0.15);\n",
              "      fill: #174EA6;\n",
              "    }\n",
              "\n",
              "    .colab-df-buttons div {\n",
              "      margin-bottom: 4px;\n",
              "    }\n",
              "\n",
              "    [theme=dark] .colab-df-convert {\n",
              "      background-color: #3B4455;\n",
              "      fill: #D2E3FC;\n",
              "    }\n",
              "\n",
              "    [theme=dark] .colab-df-convert:hover {\n",
              "      background-color: #434B5C;\n",
              "      box-shadow: 0px 1px 3px 1px rgba(0, 0, 0, 0.15);\n",
              "      filter: drop-shadow(0px 1px 2px rgba(0, 0, 0, 0.3));\n",
              "      fill: #FFFFFF;\n",
              "    }\n",
              "  </style>\n",
              "\n",
              "    <script>\n",
              "      const buttonEl =\n",
              "        document.querySelector('#df-0225b615-9e50-4a66-888a-97e2e9893290 button.colab-df-convert');\n",
              "      buttonEl.style.display =\n",
              "        google.colab.kernel.accessAllowed ? 'block' : 'none';\n",
              "\n",
              "      async function convertToInteractive(key) {\n",
              "        const element = document.querySelector('#df-0225b615-9e50-4a66-888a-97e2e9893290');\n",
              "        const dataTable =\n",
              "          await google.colab.kernel.invokeFunction('convertToInteractive',\n",
              "                                                    [key], {});\n",
              "        if (!dataTable) return;\n",
              "\n",
              "        const docLinkHtml = 'Like what you see? Visit the ' +\n",
              "          '<a target=\"_blank\" href=https://colab.research.google.com/notebooks/data_table.ipynb>data table notebook</a>'\n",
              "          + ' to learn more about interactive tables.';\n",
              "        element.innerHTML = '';\n",
              "        dataTable['output_type'] = 'display_data';\n",
              "        await google.colab.output.renderOutput(dataTable, element);\n",
              "        const docLink = document.createElement('div');\n",
              "        docLink.innerHTML = docLinkHtml;\n",
              "        element.appendChild(docLink);\n",
              "      }\n",
              "    </script>\n",
              "  </div>\n",
              "\n",
              "\n",
              "<div id=\"df-cb1d1554-5ae6-42ce-a9ba-d81fb831288c\">\n",
              "  <button class=\"colab-df-quickchart\" onclick=\"quickchart('df-cb1d1554-5ae6-42ce-a9ba-d81fb831288c')\"\n",
              "            title=\"Suggest charts\"\n",
              "            style=\"display:none;\">\n",
              "\n",
              "<svg xmlns=\"http://www.w3.org/2000/svg\" height=\"24px\"viewBox=\"0 0 24 24\"\n",
              "     width=\"24px\">\n",
              "    <g>\n",
              "        <path d=\"M19 3H5c-1.1 0-2 .9-2 2v14c0 1.1.9 2 2 2h14c1.1 0 2-.9 2-2V5c0-1.1-.9-2-2-2zM9 17H7v-7h2v7zm4 0h-2V7h2v10zm4 0h-2v-4h2v4z\"/>\n",
              "    </g>\n",
              "</svg>\n",
              "  </button>\n",
              "\n",
              "<style>\n",
              "  .colab-df-quickchart {\n",
              "      --bg-color: #E8F0FE;\n",
              "      --fill-color: #1967D2;\n",
              "      --hover-bg-color: #E2EBFA;\n",
              "      --hover-fill-color: #174EA6;\n",
              "      --disabled-fill-color: #AAA;\n",
              "      --disabled-bg-color: #DDD;\n",
              "  }\n",
              "\n",
              "  [theme=dark] .colab-df-quickchart {\n",
              "      --bg-color: #3B4455;\n",
              "      --fill-color: #D2E3FC;\n",
              "      --hover-bg-color: #434B5C;\n",
              "      --hover-fill-color: #FFFFFF;\n",
              "      --disabled-bg-color: #3B4455;\n",
              "      --disabled-fill-color: #666;\n",
              "  }\n",
              "\n",
              "  .colab-df-quickchart {\n",
              "    background-color: var(--bg-color);\n",
              "    border: none;\n",
              "    border-radius: 50%;\n",
              "    cursor: pointer;\n",
              "    display: none;\n",
              "    fill: var(--fill-color);\n",
              "    height: 32px;\n",
              "    padding: 0;\n",
              "    width: 32px;\n",
              "  }\n",
              "\n",
              "  .colab-df-quickchart:hover {\n",
              "    background-color: var(--hover-bg-color);\n",
              "    box-shadow: 0 1px 2px rgba(60, 64, 67, 0.3), 0 1px 3px 1px rgba(60, 64, 67, 0.15);\n",
              "    fill: var(--button-hover-fill-color);\n",
              "  }\n",
              "\n",
              "  .colab-df-quickchart-complete:disabled,\n",
              "  .colab-df-quickchart-complete:disabled:hover {\n",
              "    background-color: var(--disabled-bg-color);\n",
              "    fill: var(--disabled-fill-color);\n",
              "    box-shadow: none;\n",
              "  }\n",
              "\n",
              "  .colab-df-spinner {\n",
              "    border: 2px solid var(--fill-color);\n",
              "    border-color: transparent;\n",
              "    border-bottom-color: var(--fill-color);\n",
              "    animation:\n",
              "      spin 1s steps(1) infinite;\n",
              "  }\n",
              "\n",
              "  @keyframes spin {\n",
              "    0% {\n",
              "      border-color: transparent;\n",
              "      border-bottom-color: var(--fill-color);\n",
              "      border-left-color: var(--fill-color);\n",
              "    }\n",
              "    20% {\n",
              "      border-color: transparent;\n",
              "      border-left-color: var(--fill-color);\n",
              "      border-top-color: var(--fill-color);\n",
              "    }\n",
              "    30% {\n",
              "      border-color: transparent;\n",
              "      border-left-color: var(--fill-color);\n",
              "      border-top-color: var(--fill-color);\n",
              "      border-right-color: var(--fill-color);\n",
              "    }\n",
              "    40% {\n",
              "      border-color: transparent;\n",
              "      border-right-color: var(--fill-color);\n",
              "      border-top-color: var(--fill-color);\n",
              "    }\n",
              "    60% {\n",
              "      border-color: transparent;\n",
              "      border-right-color: var(--fill-color);\n",
              "    }\n",
              "    80% {\n",
              "      border-color: transparent;\n",
              "      border-right-color: var(--fill-color);\n",
              "      border-bottom-color: var(--fill-color);\n",
              "    }\n",
              "    90% {\n",
              "      border-color: transparent;\n",
              "      border-bottom-color: var(--fill-color);\n",
              "    }\n",
              "  }\n",
              "</style>\n",
              "\n",
              "  <script>\n",
              "    async function quickchart(key) {\n",
              "      const quickchartButtonEl =\n",
              "        document.querySelector('#' + key + ' button');\n",
              "      quickchartButtonEl.disabled = true;  // To prevent multiple clicks.\n",
              "      quickchartButtonEl.classList.add('colab-df-spinner');\n",
              "      try {\n",
              "        const charts = await google.colab.kernel.invokeFunction(\n",
              "            'suggestCharts', [key], {});\n",
              "      } catch (error) {\n",
              "        console.error('Error during call to suggestCharts:', error);\n",
              "      }\n",
              "      quickchartButtonEl.classList.remove('colab-df-spinner');\n",
              "      quickchartButtonEl.classList.add('colab-df-quickchart-complete');\n",
              "    }\n",
              "    (() => {\n",
              "      let quickchartButtonEl =\n",
              "        document.querySelector('#df-cb1d1554-5ae6-42ce-a9ba-d81fb831288c button');\n",
              "      quickchartButtonEl.style.display =\n",
              "        google.colab.kernel.accessAllowed ? 'block' : 'none';\n",
              "    })();\n",
              "  </script>\n",
              "</div>\n",
              "    </div>\n",
              "  </div>\n"
            ]
          },
          "metadata": {},
          "execution_count": 184
        }
      ]
    },
    {
      "cell_type": "code",
      "source": [
        "# 0data削除\n",
        "df_filtered = df[(df != 0).all(axis=1)]\n",
        "\n",
        "# 結果を表示\n",
        "print(df_filtered.describe())"
      ],
      "metadata": {
        "colab": {
          "base_uri": "https://localhost:8080/"
        },
        "id": "ltotcXEXBU21",
        "outputId": "e2d7c13c-5f5f-48f3-b2f3-50b5fa3af081"
      },
      "execution_count": 185,
      "outputs": [
        {
          "output_type": "stream",
          "name": "stdout",
          "text": [
            "              RICE         EGG1         SOY1        MEAT2         VEG8  \\\n",
            "count  2037.000000  2037.000000  2037.000000  2037.000000  2037.000000   \n",
            "mean    304.643348    42.991576    54.287576    36.293834    43.262404   \n",
            "std     154.843529    25.321039    39.826875    25.803136    32.943263   \n",
            "min      52.000000     3.520000     5.213333     4.600000     3.680000   \n",
            "25%     208.000000    23.571429    31.419643    24.642857    22.178571   \n",
            "50%     300.270270    42.428571    40.317883    32.017142    31.305650   \n",
            "75%     390.000000    59.889070    78.200000    39.132063    56.919364   \n",
            "max    1441.297297   167.689397   270.936175   239.061331   191.249064   \n",
            "\n",
            "              PTT1         CRL1        FISH6          ECF          BMI  \n",
            "count  2037.000000  2037.000000  2037.000000  2037.000000  2037.000000  \n",
            "mean     63.118205    29.693427    23.787361     1.201825    22.788960  \n",
            "std      53.252678    24.694530    22.766265     0.388371     3.320420  \n",
            "min       7.466667     3.733333     4.906667     0.259846    14.951514  \n",
            "25%      22.000000     9.000000     7.791629     0.941273    20.446742  \n",
            "50%      50.000000    22.500000    14.457143     1.138196    22.427413  \n",
            "75%      90.000000    45.000000    34.151619     1.385632    24.701691  \n",
            "max     388.041580   168.000000   202.400000     3.394720    41.457095  \n"
          ]
        }
      ]
    },
    {
      "cell_type": "code",
      "source": [
        "# ECF列を掛ける\n",
        "multiplied_df_filtered = df_filtered.drop('ECF', axis=1).multiply(df_filtered['ECF'], axis=0)\n",
        "# print(multiplied_df_filtered.describe())\n",
        "checksVariables(multiplied_df_filtered)"
      ],
      "metadata": {
        "colab": {
          "base_uri": "https://localhost:8080/",
          "height": 1000
        },
        "id": "579Sst3eBvxa",
        "outputId": "92b87310-0e91-4854-d3ef-2c8afc63479a"
      },
      "execution_count": 186,
      "outputs": [
        {
          "output_type": "display_data",
          "data": {
            "text/plain": [
              "<Figure size 1200x900 with 1 Axes>"
            ],
            "image/png": "[encoded data removed]"
          },
          "metadata": {}
        },
        {
          "output_type": "display_data",
          "data": {
            "text/plain": [
              "<Figure size 1500x1500 with 2 Axes>"
            ],
            "image/png": "[encoded data removed]"
          },
          "metadata": {}
        }
      ]
    },
    {
      "cell_type": "code",
      "source": [
        "dot = LiNGAM(multiplied_df_filtered)\n",
        "dot"
      ],
      "metadata": {
        "colab": {
          "base_uri": "https://localhost:8080/",
          "height": 1000
        },
        "id": "zVzKw5vkA5so",
        "outputId": "9e8bf612-8bbb-4781-c7c0-22a5fbd93ed0"
      },
      "execution_count": 191,
      "outputs": [
        {
          "output_type": "stream",
          "name": "stdout",
          "text": [
            "因果の順番：[3, 6, 7, 0, 5, 2, 1, 8, 4]\n",
            "隣接行列：[[ 0.          0.          0.          0.          0.          0.\n",
            "  -0.12705845 -0.14966994  0.        ]\n",
            " [ 0.          0.          0.12169949  0.11999953  0.          0.06980817\n",
            "   0.          0.          0.        ]\n",
            " [-0.19444362  0.          0.          0.          0.          0.08578914\n",
            "  -0.07691527  0.          0.        ]\n",
            " [ 0.          0.          0.          0.          0.          0.\n",
            "   0.          0.          0.        ]\n",
            " [-0.10766384  0.          0.11881987  0.11250207  0.          0.2146744\n",
            "  -0.10244965  0.          0.        ]\n",
            " [-0.154332    0.          0.          0.          0.          0.\n",
            "  -0.06988823  0.          0.        ]\n",
            " [ 0.          0.          0.          0.          0.          0.\n",
            "   0.          0.          0.        ]\n",
            " [ 0.          0.          0.          0.          0.          0.\n",
            "  -0.10644898  0.          0.        ]\n",
            " [ 0.18491707  0.09382933  0.          0.08624758  0.         -0.08962314\n",
            "   0.12479458  0.          0.        ]]\n",
            "[[0.00000000e+00 1.10239891e-05 9.17887991e-07 9.15096852e-03\n",
            "  1.74874917e-02 4.13459280e-07 2.70061876e-04 1.73956602e-04\n",
            "  1.60732830e-05]\n",
            " [1.10239891e-05 0.00000000e+00 5.38264515e-09 2.49151048e-04\n",
            "  3.29284434e-09 5.24735191e-06 2.07492423e-01 2.99070664e-11\n",
            "  1.80954857e-21]\n",
            " [9.17887991e-07 5.38264515e-09 0.00000000e+00 5.16552909e-02\n",
            "  2.13266741e-10 7.09968915e-12 1.88984625e-02 2.95631302e-04\n",
            "  7.60527713e-07]\n",
            " [9.15096852e-03 2.49151048e-04 5.16552909e-02 0.00000000e+00\n",
            "  2.34831680e-03 4.36888320e-03 3.37386669e-01 8.29618406e-09\n",
            "  1.56157322e-17]\n",
            " [1.74874917e-02 3.29284434e-09 2.13266741e-10 2.34831680e-03\n",
            "  0.00000000e+00 5.84259179e-09 8.81550538e-02 1.71941990e-03\n",
            "  4.66049124e-04]\n",
            " [4.13459280e-07 5.24735191e-06 7.09968915e-12 4.36888320e-03\n",
            "  5.84259179e-09 0.00000000e+00 4.96582555e-01 7.15058276e-07\n",
            "  8.40058557e-06]\n",
            " [2.70061876e-04 2.07492423e-01 1.88984625e-02 3.37386669e-01\n",
            "  8.81550538e-02 4.96582555e-01 0.00000000e+00 8.00767959e-16\n",
            "  2.93742965e-08]\n",
            " [1.73956602e-04 2.99070664e-11 2.95631302e-04 8.29618406e-09\n",
            "  1.71941990e-03 7.15058276e-07 8.00767959e-16 0.00000000e+00\n",
            "  2.91572080e-18]\n",
            " [1.60732830e-05 1.80954857e-21 7.60527713e-07 1.56157322e-17\n",
            "  4.66049124e-04 8.40058557e-06 2.93742965e-08 2.91572080e-18\n",
            "  0.00000000e+00]]\n",
            "BMI <--- CRL1 (b>0) (100.0%)\n",
            "VEG8 <--- MEAT2 (b>0) (100.0%)\n",
            "VEG8 <--- CRL1 (b<0) (100.0%)\n",
            "RICE <--- CRL1 (b<0) (100.0%)\n",
            "RICE <--- FISH6 (b<0) (99.0%)\n",
            "BMI <--- RICE (b>0) (98.0%)\n",
            "BMI <--- MEAT2 (b>0) (94.0%)\n",
            "EGG1 <--- MEAT2 (b>0) (94.0%)\n",
            "[[0.   0.03 0.43 0.05 0.23 0.46 1.   0.99 0.02]\n",
            " [0.04 0.   0.94 0.94 0.04 0.44 0.05 0.04 0.  ]\n",
            " [0.57 0.05 0.   0.04 0.53 0.58 0.47 0.34 0.  ]\n",
            " [0.02 0.05 0.01 0.   0.   0.   0.08 0.   0.01]\n",
            " [0.77 0.07 0.47 1.   0.   0.92 1.   0.06 0.15]\n",
            " [0.52 0.28 0.17 0.11 0.08 0.   0.47 0.49 0.27]\n",
            " [0.   0.   0.   0.05 0.   0.   0.   0.47 0.  ]\n",
            " [0.01 0.   0.   0.   0.   0.04 0.51 0.   0.  ]\n",
            " [0.98 0.88 0.16 0.94 0.06 0.66 1.   0.13 0.  ]]\n",
            "DAG[0]: 2.0%\n",
            "\tRICE <--- SOY1 (b<0)\n",
            "\tRICE <--- VEG8 (b<0)\n",
            "\tRICE <--- PTT1 (b<0)\n",
            "\tRICE <--- CRL1 (b<0)\n",
            "\tRICE <--- FISH6 (b<0)\n",
            "\tEGG1 <--- SOY1 (b>0)\n",
            "\tEGG1 <--- MEAT2 (b>0)\n",
            "\tSOY1 <--- VEG8 (b>0)\n",
            "\tSOY1 <--- PTT1 (b>0)\n",
            "\tSOY1 <--- FISH6 (b>0)\n",
            "\tVEG8 <--- MEAT2 (b>0)\n",
            "\tVEG8 <--- PTT1 (b>0)\n",
            "\tVEG8 <--- CRL1 (b<0)\n",
            "\tCRL1 <--- FISH6 (b<0)\n",
            "\tBMI <--- RICE (b>0)\n",
            "\tBMI <--- EGG1 (b>0)\n",
            "\tBMI <--- MEAT2 (b>0)\n",
            "\tBMI <--- PTT1 (b<0)\n",
            "\tBMI <--- CRL1 (b>0)\n",
            "DAG[1]: 1.0%\n",
            "\tRICE <--- SOY1 (b<0)\n",
            "\tRICE <--- MEAT2 (b<0)\n",
            "\tRICE <--- PTT1 (b<0)\n",
            "\tRICE <--- CRL1 (b<0)\n",
            "\tRICE <--- FISH6 (b<0)\n",
            "\tEGG1 <--- SOY1 (b>0)\n",
            "\tEGG1 <--- MEAT2 (b>0)\n",
            "\tEGG1 <--- PTT1 (b>0)\n",
            "\tSOY1 <--- PTT1 (b>0)\n",
            "\tSOY1 <--- CRL1 (b<0)\n",
            "\tVEG8 <--- RICE (b<0)\n",
            "\tVEG8 <--- SOY1 (b>0)\n",
            "\tVEG8 <--- MEAT2 (b>0)\n",
            "\tVEG8 <--- PTT1 (b>0)\n",
            "\tVEG8 <--- CRL1 (b<0)\n",
            "\tPTT1 <--- CRL1 (b<0)\n",
            "\tPTT1 <--- FISH6 (b>0)\n",
            "\tFISH6 <--- CRL1 (b<0)\n",
            "\tBMI <--- RICE (b>0)\n",
            "\tBMI <--- MEAT2 (b>0)\n",
            "\tBMI <--- PTT1 (b<0)\n",
            "\tBMI <--- CRL1 (b>0)\n",
            "DAG[2]: 1.0%\n",
            "\tRICE <--- CRL1 (b<0)\n",
            "\tRICE <--- FISH6 (b<0)\n",
            "\tEGG1 <--- SOY1 (b>0)\n",
            "\tEGG1 <--- MEAT2 (b>0)\n",
            "\tSOY1 <--- RICE (b<0)\n",
            "\tSOY1 <--- PTT1 (b>0)\n",
            "\tVEG8 <--- RICE (b<0)\n",
            "\tVEG8 <--- SOY1 (b>0)\n",
            "\tVEG8 <--- MEAT2 (b>0)\n",
            "\tVEG8 <--- PTT1 (b>0)\n",
            "\tVEG8 <--- CRL1 (b<0)\n",
            "\tVEG8 <--- BMI (b<0)\n",
            "\tPTT1 <--- RICE (b<0)\n",
            "\tPTT1 <--- CRL1 (b<0)\n",
            "\tPTT1 <--- FISH6 (b>0)\n",
            "\tFISH6 <--- CRL1 (b<0)\n",
            "\tBMI <--- RICE (b>0)\n",
            "\tBMI <--- EGG1 (b>0)\n",
            "\tBMI <--- MEAT2 (b>0)\n",
            "\tBMI <--- PTT1 (b<0)\n",
            "\tBMI <--- CRL1 (b>0)\n"
          ]
        },
        {
          "output_type": "execute_result",
          "data": {
            "image/svg+xml": "<?xml version=\"1.0\" encoding=\"UTF-8\" standalone=\"no\"?>\n<!DOCTYPE svg PUBLIC \"-//W3C//DTD SVG 1.1//EN\"\n \"http://www.w3.org/Graphics/SVG/1.1/DTD/svg11.dtd\">\n<!-- Generated by graphviz version 2.43.0 (0)\n -->\n<!-- Title: %3 Pages: 1 -->\n<svg width=\"501pt\" height=\"566pt\"\n viewBox=\"0.00 0.00 501.17 566.00\" xmlns=\"http://www.w3.org/2000/svg\" xmlns:xlink=\"http://www.w3.org/1999/xlink\">\n<g id=\"graph0\" class=\"graph\" transform=\"scale(1 1) rotate(0) translate(4 562)\">\n<title>%3</title>\n<polygon fill=\"white\" stroke=\"transparent\" points=\"-4,4 -4,-562 497.17,-562 497.17,4 -4,4\"/>\n<!-- RICE -->\n<g id=\"node1\" class=\"node\">\n<title>RICE</title>\n<ellipse fill=\"none\" stroke=\"black\" cx=\"98.17\" cy=\"-366\" rx=\"30.59\" ry=\"18\"/>\n<text text-anchor=\"middle\" x=\"98.17\" y=\"-362.3\" font-family=\"Times,serif\" font-size=\"14.00\">RICE</text>\n</g>\n<!-- SOY1 -->\n<g id=\"node3\" class=\"node\">\n<title>SOY1</title>\n<ellipse fill=\"none\" stroke=\"black\" cx=\"144.17\" cy=\"-192\" rx=\"32.49\" ry=\"18\"/>\n<text text-anchor=\"middle\" x=\"144.17\" y=\"-188.3\" font-family=\"Times,serif\" font-size=\"14.00\">SOY1</text>\n</g>\n<!-- RICE&#45;&gt;SOY1 -->\n<g id=\"edge6\" class=\"edge\">\n<title>RICE&#45;&gt;SOY1</title>\n<path fill=\"none\" stroke=\"black\" d=\"M102.67,-348.19C110.67,-318.27 127.45,-255.52 137.04,-219.65\"/>\n<polygon fill=\"black\" stroke=\"black\" points=\"140.46,-220.44 139.66,-209.87 133.69,-218.63 140.46,-220.44\"/>\n<text text-anchor=\"middle\" x=\"140.67\" y=\"-275.3\" font-family=\"Times,serif\" font-size=\"14.00\">&#45;0.19</text>\n</g>\n<!-- VEG8 -->\n<g id=\"node5\" class=\"node\">\n<title>VEG8</title>\n<ellipse fill=\"none\" stroke=\"black\" cx=\"129.17\" cy=\"-105\" rx=\"33.29\" ry=\"18\"/>\n<text text-anchor=\"middle\" x=\"129.17\" y=\"-101.3\" font-family=\"Times,serif\" font-size=\"14.00\">VEG8</text>\n</g>\n<!-- RICE&#45;&gt;VEG8 -->\n<g id=\"edge9\" class=\"edge\">\n<title>RICE&#45;&gt;VEG8</title>\n<path fill=\"none\" stroke=\"black\" d=\"M96.34,-347.85C93.23,-314.05 88.58,-236.68 103.17,-174 106.5,-159.72 112.14,-144.42 117.33,-131.96\"/>\n<polygon fill=\"black\" stroke=\"black\" points=\"120.6,-133.21 121.34,-122.64 114.17,-130.45 120.6,-133.21\"/>\n<text text-anchor=\"middle\" x=\"109.67\" y=\"-231.8\" font-family=\"Times,serif\" font-size=\"14.00\">&#45;0.11</text>\n</g>\n<!-- PTT1 -->\n<g id=\"node6\" class=\"node\">\n<title>PTT1</title>\n<ellipse fill=\"none\" stroke=\"black\" cx=\"248.17\" cy=\"-279\" rx=\"30.59\" ry=\"18\"/>\n<text text-anchor=\"middle\" x=\"248.17\" y=\"-275.3\" font-family=\"Times,serif\" font-size=\"14.00\">PTT1</text>\n</g>\n<!-- RICE&#45;&gt;PTT1 -->\n<g id=\"edge14\" class=\"edge\">\n<title>RICE&#45;&gt;PTT1</title>\n<path fill=\"none\" stroke=\"black\" d=\"M119.34,-353C144.99,-338.47 188.4,-313.87 217.66,-297.29\"/>\n<polygon fill=\"black\" stroke=\"black\" points=\"219.64,-300.19 226.62,-292.21 216.19,-294.1 219.64,-300.19\"/>\n<text text-anchor=\"middle\" x=\"196.67\" y=\"-318.8\" font-family=\"Times,serif\" font-size=\"14.00\">&#45;0.15</text>\n</g>\n<!-- BMI -->\n<g id=\"node9\" class=\"node\">\n<title>BMI</title>\n<ellipse fill=\"none\" stroke=\"black\" cx=\"363.17\" cy=\"-18\" rx=\"27.9\" ry=\"18\"/>\n<text text-anchor=\"middle\" x=\"363.17\" y=\"-14.3\" font-family=\"Times,serif\" font-size=\"14.00\">BMI</text>\n</g>\n<!-- RICE&#45;&gt;BMI -->\n<g id=\"edge17\" class=\"edge\">\n<title>RICE&#45;&gt;BMI</title>\n<path fill=\"none\" stroke=\"black\" d=\"M90.38,-348.34C69.14,-300.19 16.4,-159.67 87.17,-87 120.1,-53.19 257.89,-31.94 325.47,-23.36\"/>\n<polygon fill=\"black\" stroke=\"black\" points=\"326.19,-26.8 335.69,-22.09 325.33,-19.85 326.19,-26.8\"/>\n<text text-anchor=\"middle\" x=\"65.67\" y=\"-188.3\" font-family=\"Times,serif\" font-size=\"14.00\">0.18</text>\n</g>\n<!-- EGG1 -->\n<g id=\"node2\" class=\"node\">\n<title>EGG1</title>\n<ellipse fill=\"none\" stroke=\"black\" cx=\"292.17\" cy=\"-105\" rx=\"33.29\" ry=\"18\"/>\n<text text-anchor=\"middle\" x=\"292.17\" y=\"-101.3\" font-family=\"Times,serif\" font-size=\"14.00\">EGG1</text>\n</g>\n<!-- EGG1&#45;&gt;BMI -->\n<g id=\"edge18\" class=\"edge\">\n<title>EGG1&#45;&gt;BMI</title>\n<path fill=\"none\" stroke=\"black\" d=\"M301.22,-87.47C307.13,-77.34 315.36,-64.37 324.17,-54 328.5,-48.9 333.56,-43.85 338.57,-39.23\"/>\n<polygon fill=\"black\" stroke=\"black\" points=\"341.13,-41.64 346.3,-32.39 336.49,-36.4 341.13,-41.64\"/>\n<text text-anchor=\"middle\" x=\"336.67\" y=\"-57.8\" font-family=\"Times,serif\" font-size=\"14.00\">0.09</text>\n</g>\n<!-- SOY1&#45;&gt;EGG1 -->\n<g id=\"edge3\" class=\"edge\">\n<title>SOY1&#45;&gt;EGG1</title>\n<path fill=\"none\" stroke=\"black\" d=\"M170.19,-181.04C190.86,-172.97 217.94,-161.98 228.17,-156 242.08,-147.87 256.32,-137.04 267.83,-127.53\"/>\n<polygon fill=\"black\" stroke=\"black\" points=\"270.3,-130.03 275.68,-120.9 265.78,-124.68 270.3,-130.03\"/>\n<text text-anchor=\"middle\" x=\"263.67\" y=\"-144.8\" font-family=\"Times,serif\" font-size=\"14.00\">0.12</text>\n</g>\n<!-- SOY1&#45;&gt;VEG8 -->\n<g id=\"edge10\" class=\"edge\">\n<title>SOY1&#45;&gt;VEG8</title>\n<path fill=\"none\" stroke=\"black\" d=\"M136.06,-174.29C133.7,-168.62 131.42,-162.16 130.17,-156 128.71,-148.8 128.1,-140.89 127.95,-133.53\"/>\n<polygon fill=\"black\" stroke=\"black\" points=\"131.45,-133.31 128,-123.29 124.45,-133.27 131.45,-133.31\"/>\n<text text-anchor=\"middle\" x=\"142.67\" y=\"-144.8\" font-family=\"Times,serif\" font-size=\"14.00\">0.12</text>\n</g>\n<!-- MEAT2 -->\n<g id=\"node4\" class=\"node\">\n<title>MEAT2</title>\n<ellipse fill=\"none\" stroke=\"black\" cx=\"356.17\" cy=\"-192\" rx=\"39.79\" ry=\"18\"/>\n<text text-anchor=\"middle\" x=\"356.17\" y=\"-188.3\" font-family=\"Times,serif\" font-size=\"14.00\">MEAT2</text>\n</g>\n<!-- MEAT2&#45;&gt;EGG1 -->\n<g id=\"edge4\" class=\"edge\">\n<title>MEAT2&#45;&gt;EGG1</title>\n<path fill=\"none\" stroke=\"black\" d=\"M340.59,-175.12C335.17,-169.3 329.19,-162.53 324.17,-156 318.24,-148.28 312.33,-139.45 307.23,-131.38\"/>\n<polygon fill=\"black\" stroke=\"black\" points=\"310.1,-129.36 301.86,-122.69 304.14,-133.04 310.1,-129.36\"/>\n<text text-anchor=\"middle\" x=\"336.67\" y=\"-144.8\" font-family=\"Times,serif\" font-size=\"14.00\">0.12</text>\n</g>\n<!-- MEAT2&#45;&gt;VEG8 -->\n<g id=\"edge11\" class=\"edge\">\n<title>MEAT2&#45;&gt;VEG8</title>\n<path fill=\"none\" stroke=\"black\" d=\"M325.24,-180.49C317.74,-178.16 309.71,-175.84 302.17,-174 257.02,-163 241.59,-174.98 199.17,-156 189.35,-151.61 188.83,-147.38 180.17,-141 172.96,-135.69 165.04,-130.13 157.63,-125.04\"/>\n<polygon fill=\"black\" stroke=\"black\" points=\"159.48,-122.06 149.25,-119.33 155.54,-127.85 159.48,-122.06\"/>\n<text text-anchor=\"middle\" x=\"211.67\" y=\"-144.8\" font-family=\"Times,serif\" font-size=\"14.00\">0.11</text>\n</g>\n<!-- MEAT2&#45;&gt;BMI -->\n<g id=\"edge19\" class=\"edge\">\n<title>MEAT2&#45;&gt;BMI</title>\n<path fill=\"none\" stroke=\"black\" d=\"M356.87,-173.88C358.08,-144 360.6,-82.11 362.06,-46.27\"/>\n<polygon fill=\"black\" stroke=\"black\" points=\"365.57,-46.19 362.48,-36.05 358.57,-45.9 365.57,-46.19\"/>\n<text text-anchor=\"middle\" x=\"373.67\" y=\"-101.3\" font-family=\"Times,serif\" font-size=\"14.00\">0.09</text>\n</g>\n<!-- PTT1&#45;&gt;EGG1 -->\n<g id=\"edge5\" class=\"edge\">\n<title>PTT1&#45;&gt;EGG1</title>\n<path fill=\"none\" stroke=\"black\" d=\"M252.55,-260.88C260.23,-230.87 276.16,-168.58 285.31,-132.81\"/>\n<polygon fill=\"black\" stroke=\"black\" points=\"288.72,-133.61 287.81,-123.05 281.94,-131.87 288.72,-133.61\"/>\n<text text-anchor=\"middle\" x=\"287.67\" y=\"-188.3\" font-family=\"Times,serif\" font-size=\"14.00\">0.07</text>\n</g>\n<!-- PTT1&#45;&gt;SOY1 -->\n<g id=\"edge7\" class=\"edge\">\n<title>PTT1&#45;&gt;SOY1</title>\n<path fill=\"none\" stroke=\"black\" d=\"M228.7,-264.88C219.55,-258.52 208.61,-250.62 199.17,-243 188.24,-234.17 176.65,-223.81 166.95,-214.81\"/>\n<polygon fill=\"black\" stroke=\"black\" points=\"169.31,-212.23 159.62,-207.95 164.53,-217.34 169.31,-212.23\"/>\n<text text-anchor=\"middle\" x=\"211.67\" y=\"-231.8\" font-family=\"Times,serif\" font-size=\"14.00\">0.09</text>\n</g>\n<!-- PTT1&#45;&gt;VEG8 -->\n<g id=\"edge12\" class=\"edge\">\n<title>PTT1&#45;&gt;VEG8</title>\n<path fill=\"none\" stroke=\"black\" d=\"M241.1,-261.4C236.66,-251.48 230.57,-238.76 224.17,-228 202.32,-191.26 170.9,-153.03 150.27,-129.37\"/>\n<polygon fill=\"black\" stroke=\"black\" points=\"152.69,-126.83 143.45,-121.64 147.44,-131.45 152.69,-126.83\"/>\n<text text-anchor=\"middle\" x=\"224.67\" y=\"-188.3\" font-family=\"Times,serif\" font-size=\"14.00\">0.21</text>\n</g>\n<!-- PTT1&#45;&gt;BMI -->\n<g id=\"edge20\" class=\"edge\">\n<title>PTT1&#45;&gt;BMI</title>\n<path fill=\"none\" stroke=\"black\" d=\"M278.08,-274.74C315.18,-268.91 376.96,-252.95 405.17,-210 439.5,-157.71 402.67,-81.77 379.32,-43.29\"/>\n<polygon fill=\"black\" stroke=\"black\" points=\"382.27,-41.42 374.01,-34.79 376.34,-45.13 382.27,-41.42\"/>\n<text text-anchor=\"middle\" x=\"433.67\" y=\"-144.8\" font-family=\"Times,serif\" font-size=\"14.00\">&#45;0.09</text>\n</g>\n<!-- CRL1 -->\n<g id=\"node7\" class=\"node\">\n<title>CRL1</title>\n<ellipse fill=\"none\" stroke=\"black\" cx=\"162.17\" cy=\"-540\" rx=\"32.49\" ry=\"18\"/>\n<text text-anchor=\"middle\" x=\"162.17\" y=\"-536.3\" font-family=\"Times,serif\" font-size=\"14.00\">CRL1</text>\n</g>\n<!-- CRL1&#45;&gt;RICE -->\n<g id=\"edge1\" class=\"edge\">\n<title>CRL1&#45;&gt;RICE</title>\n<path fill=\"none\" stroke=\"black\" d=\"M157.59,-521.76C150.35,-495.43 135.22,-443.84 117.17,-402 115.83,-398.89 114.3,-395.69 112.72,-392.54\"/>\n<polygon fill=\"black\" stroke=\"black\" points=\"115.66,-390.62 107.88,-383.43 109.48,-393.9 115.66,-390.62\"/>\n<text text-anchor=\"middle\" x=\"156.67\" y=\"-449.3\" font-family=\"Times,serif\" font-size=\"14.00\">&#45;0.13</text>\n</g>\n<!-- CRL1&#45;&gt;SOY1 -->\n<g id=\"edge8\" class=\"edge\">\n<title>CRL1&#45;&gt;SOY1</title>\n<path fill=\"none\" stroke=\"black\" d=\"M166.26,-522.07C169.36,-508.39 173.38,-488.58 175.17,-471 182.2,-402.02 186.3,-383.74 177.17,-315 172.72,-281.5 161.68,-244.16 153.59,-219.72\"/>\n<polygon fill=\"black\" stroke=\"black\" points=\"156.85,-218.43 150.33,-210.08 150.22,-220.67 156.85,-218.43\"/>\n<text text-anchor=\"middle\" x=\"197.67\" y=\"-362.3\" font-family=\"Times,serif\" font-size=\"14.00\">&#45;0.08</text>\n</g>\n<!-- CRL1&#45;&gt;VEG8 -->\n<g id=\"edge13\" class=\"edge\">\n<title>CRL1&#45;&gt;VEG8</title>\n<path fill=\"none\" stroke=\"black\" d=\"M131,-534.38C96.72,-527.4 43.53,-510.49 21.17,-471 -45.4,-353.43 63.24,-190.86 109.7,-130.14\"/>\n<polygon fill=\"black\" stroke=\"black\" points=\"112.7,-131.98 116.07,-121.94 107.17,-127.69 112.7,-131.98\"/>\n<text text-anchor=\"middle\" x=\"25.67\" y=\"-318.8\" font-family=\"Times,serif\" font-size=\"14.00\">&#45;0.10</text>\n</g>\n<!-- CRL1&#45;&gt;PTT1 -->\n<g id=\"edge15\" class=\"edge\">\n<title>CRL1&#45;&gt;PTT1</title>\n<path fill=\"none\" stroke=\"black\" d=\"M183.77,-526.05C191.67,-520.26 199.94,-512.76 205.17,-504 242.89,-440.88 248.51,-351.47 248.76,-307.13\"/>\n<polygon fill=\"black\" stroke=\"black\" points=\"252.26,-307.1 248.72,-297.11 245.26,-307.13 252.26,-307.1\"/>\n<text text-anchor=\"middle\" x=\"254.67\" y=\"-405.8\" font-family=\"Times,serif\" font-size=\"14.00\">&#45;0.07</text>\n</g>\n<!-- FISH6 -->\n<g id=\"node8\" class=\"node\">\n<title>FISH6</title>\n<ellipse fill=\"none\" stroke=\"black\" cx=\"64.17\" cy=\"-453\" rx=\"34.39\" ry=\"18\"/>\n<text text-anchor=\"middle\" x=\"64.17\" y=\"-449.3\" font-family=\"Times,serif\" font-size=\"14.00\">FISH6</text>\n</g>\n<!-- CRL1&#45;&gt;FISH6 -->\n<g id=\"edge16\" class=\"edge\">\n<title>CRL1&#45;&gt;FISH6</title>\n<path fill=\"none\" stroke=\"black\" d=\"M134.8,-530.11C120.48,-524.41 103.44,-515.82 91.17,-504 84.25,-497.34 78.69,-488.51 74.46,-480.13\"/>\n<polygon fill=\"black\" stroke=\"black\" points=\"77.61,-478.6 70.24,-470.99 71.25,-481.54 77.61,-478.6\"/>\n<text text-anchor=\"middle\" x=\"105.67\" y=\"-492.8\" font-family=\"Times,serif\" font-size=\"14.00\">&#45;0.11</text>\n</g>\n<!-- CRL1&#45;&gt;BMI -->\n<g id=\"edge21\" class=\"edge\">\n<title>CRL1&#45;&gt;BMI</title>\n<path fill=\"none\" stroke=\"black\" d=\"M194.34,-536.91C272.9,-530.92 468.17,-510.38 468.17,-454 468.17,-454 468.17,-454 468.17,-104 468.17,-66.86 427.99,-43.14 397.34,-30.45\"/>\n<polygon fill=\"black\" stroke=\"black\" points=\"398.38,-27.1 387.79,-26.72 395.83,-33.62 398.38,-27.1\"/>\n<text text-anchor=\"middle\" x=\"480.67\" y=\"-275.3\" font-family=\"Times,serif\" font-size=\"14.00\">0.12</text>\n</g>\n<!-- FISH6&#45;&gt;RICE -->\n<g id=\"edge2\" class=\"edge\">\n<title>FISH6&#45;&gt;RICE</title>\n<path fill=\"none\" stroke=\"black\" d=\"M70.89,-435.21C75.68,-423.22 82.23,-406.85 87.71,-393.16\"/>\n<polygon fill=\"black\" stroke=\"black\" points=\"91,-394.34 91.47,-383.76 84.5,-391.74 91,-394.34\"/>\n<text text-anchor=\"middle\" x=\"98.67\" y=\"-405.8\" font-family=\"Times,serif\" font-size=\"14.00\">&#45;0.15</text>\n</g>\n</g>\n</svg>\n",
            "text/plain": [
              "<graphviz.graphs.Digraph at 0x7f0d282b9fc0>"
            ]
          },
          "metadata": {},
          "execution_count": 191
        }
      ]
    },
    {
      "cell_type": "code",
      "source": [],
      "metadata": {
        "id": "CZzNtSDZj_-g"
      },
      "execution_count": null,
      "outputs": []
    }
  ]
}