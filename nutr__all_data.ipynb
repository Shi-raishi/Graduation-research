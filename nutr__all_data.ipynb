{
  "nbformat": 4,
  "nbformat_minor": 0,
  "metadata": {
    "colab": {
      "provenance": [],
      "authorship_tag": "ABX9TyOz0Bpn4m74VvZuJkhXitl0",
      "include_colab_link": true
    },
    "kernelspec": {
      "name": "python3",
      "display_name": "Python 3"
    },
    "language_info": {
      "name": "python"
    }
  },
  "cells": [
    {
      "cell_type": "markdown",
      "metadata": {
        "id": "view-in-github",
        "colab_type": "text"
      },
      "source": [
        "<a href=\"https://colab.research.google.com/github/Shi-raishi/Research/blob/main/nutr__all_data.ipynb\" target=\"_parent\"><img src=\"https://colab.research.google.com/assets/colab-badge.svg\" alt=\"Open In Colab\"/></a>"
      ]
    },
    {
      "cell_type": "markdown",
      "source": [
        "## ②f_nutr1シートのE_CR～E_SSまでの１７食品群別エネルギー<br>\n",
        "## 分析前にnutrシートにある変数EER, EN から求まるエネルギー補正係数(EER/EN) をかける<br>"
      ],
      "metadata": {
        "id": "PFB1bHayFiV3"
      }
    },
    {
      "cell_type": "code",
      "source": [
        "# Google Colabにlingamのライブラリをインストールする\n",
        "# !pip install numpy\n",
        "# !pip install numpy==1.24.3\n",
        "!pip install numpy\n",
        "!pip install lingam"
      ],
      "metadata": {
        "colab": {
          "base_uri": "https://localhost:8080/"
        },
        "id": "eeCJhDI8d5Rf",
        "outputId": "d223e91a-366f-40da-e8ad-bf782fce6331"
      },
      "execution_count": 3,
      "outputs": [
        {
          "output_type": "stream",
          "name": "stdout",
          "text": [
            "Requirement already satisfied: numpy in /usr/local/lib/python3.10/dist-packages (1.26.2)\n",
            "Requirement already satisfied: lingam in /usr/local/lib/python3.10/dist-packages (1.8.2)\n",
            "Requirement already satisfied: numpy in /usr/local/lib/python3.10/dist-packages (from lingam) (1.26.2)\n",
            "Requirement already satisfied: scipy in /usr/local/lib/python3.10/dist-packages (from lingam) (1.11.3)\n",
            "Requirement already satisfied: scikit-learn in /usr/local/lib/python3.10/dist-packages (from lingam) (1.2.2)\n",
            "Requirement already satisfied: graphviz in /usr/local/lib/python3.10/dist-packages (from lingam) (0.20.1)\n",
            "Requirement already satisfied: statsmodels in /usr/local/lib/python3.10/dist-packages (from lingam) (0.14.0)\n",
            "Requirement already satisfied: networkx in /usr/local/lib/python3.10/dist-packages (from lingam) (3.2.1)\n",
            "Requirement already satisfied: pandas in /usr/local/lib/python3.10/dist-packages (from lingam) (1.5.3)\n",
            "Requirement already satisfied: pygam in /usr/local/lib/python3.10/dist-packages (from lingam) (0.9.0)\n",
            "Requirement already satisfied: matplotlib in /usr/local/lib/python3.10/dist-packages (from lingam) (3.7.1)\n",
            "Requirement already satisfied: psy in /usr/local/lib/python3.10/dist-packages (from lingam) (0.0.1)\n",
            "Requirement already satisfied: contourpy>=1.0.1 in /usr/local/lib/python3.10/dist-packages (from matplotlib->lingam) (1.2.0)\n",
            "Requirement already satisfied: cycler>=0.10 in /usr/local/lib/python3.10/dist-packages (from matplotlib->lingam) (0.12.1)\n",
            "Requirement already satisfied: fonttools>=4.22.0 in /usr/local/lib/python3.10/dist-packages (from matplotlib->lingam) (4.44.3)\n",
            "Requirement already satisfied: kiwisolver>=1.0.1 in /usr/local/lib/python3.10/dist-packages (from matplotlib->lingam) (1.4.5)\n",
            "Requirement already satisfied: packaging>=20.0 in /usr/local/lib/python3.10/dist-packages (from matplotlib->lingam) (23.2)\n",
            "Requirement already satisfied: pillow>=6.2.0 in /usr/local/lib/python3.10/dist-packages (from matplotlib->lingam) (9.4.0)\n",
            "Requirement already satisfied: pyparsing>=2.3.1 in /usr/local/lib/python3.10/dist-packages (from matplotlib->lingam) (3.1.1)\n",
            "Requirement already satisfied: python-dateutil>=2.7 in /usr/local/lib/python3.10/dist-packages (from matplotlib->lingam) (2.8.2)\n",
            "Requirement already satisfied: pytz>=2020.1 in /usr/local/lib/python3.10/dist-packages (from pandas->lingam) (2023.3.post1)\n",
            "Requirement already satisfied: progressbar2 in /usr/local/lib/python3.10/dist-packages (from psy->lingam) (4.2.0)\n",
            "Requirement already satisfied: joblib>=1.1.1 in /usr/local/lib/python3.10/dist-packages (from scikit-learn->lingam) (1.3.2)\n",
            "Requirement already satisfied: threadpoolctl>=2.0.0 in /usr/local/lib/python3.10/dist-packages (from scikit-learn->lingam) (3.2.0)\n",
            "Requirement already satisfied: patsy>=0.5.2 in /usr/local/lib/python3.10/dist-packages (from statsmodels->lingam) (0.5.3)\n",
            "Requirement already satisfied: six in /usr/local/lib/python3.10/dist-packages (from patsy>=0.5.2->statsmodels->lingam) (1.16.0)\n",
            "Requirement already satisfied: python-utils>=3.0.0 in /usr/local/lib/python3.10/dist-packages (from progressbar2->psy->lingam) (3.8.1)\n",
            "Requirement already satisfied: typing-extensions>3.10.0.2 in /usr/local/lib/python3.10/dist-packages (from python-utils>=3.0.0->progressbar2->psy->lingam) (4.5.0)\n"
          ]
        }
      ]
    },
    {
      "cell_type": "code",
      "source": [
        "import numpy as np\n",
        "import pandas as pd\n",
        "import graphviz\n",
        "import lingam\n",
        "from lingam.utils import make_dot\n",
        "from lingam.utils import print_causal_directions, print_dagc\n",
        "import matplotlib.pyplot as plt\n",
        "import seaborn as sns\n",
        "from sklearn.preprocessing import StandardScaler\n",
        "\n",
        "print([np.__version__, pd.__version__, graphviz.__version__, lingam.__version__])"
      ],
      "metadata": {
        "colab": {
          "base_uri": "https://localhost:8080/"
        },
        "id": "aQXef0nEgz8_",
        "outputId": "e888bfe0-e98e-49ac-bb6c-82bcbe841596"
      },
      "execution_count": 1,
      "outputs": [
        {
          "output_type": "stream",
          "name": "stdout",
          "text": [
            "['1.26.2', '1.5.3', '0.20.1', '1.8.2']\n"
          ]
        }
      ]
    },
    {
      "cell_type": "code",
      "source": [
        "from google.colab import drive\n",
        "drive.mount('/content/drive')"
      ],
      "metadata": {
        "colab": {
          "base_uri": "https://localhost:8080/"
        },
        "id": "1L-DOLSge5Kg",
        "outputId": "b150f62d-295e-4cb3-9041-b6a98fbb2092"
      },
      "execution_count": 2,
      "outputs": [
        {
          "output_type": "stream",
          "name": "stdout",
          "text": [
            "Mounted at /content/drive\n"
          ]
        }
      ]
    },
    {
      "cell_type": "code",
      "source": [
        "%cd /content/drive/MyDrive/'Colab Notebooks'\n",
        "%ls CSV"
      ],
      "metadata": {
        "colab": {
          "base_uri": "https://localhost:8080/"
        },
        "id": "2ulPtRf6fO1b",
        "outputId": "7f56c942-056b-4ec7-bfc0-53153937985b"
      },
      "execution_count": 3,
      "outputs": [
        {
          "output_type": "stream",
          "name": "stdout",
          "text": [
            "/content/drive/MyDrive/Colab Notebooks\n",
            "'BDHQ フォーマット LongDataSet (f_nutr1).csv'\n",
            "'BDHQ フォーマット LongDataSet (nutr).csv'\n",
            "'BDHQ フォーマット LongDataSet (signal).csv'\n",
            "'BDHQ 児童生徒用フォーマット LongDataSet (food2).csv'\n",
            "'BDHQ 成人用フォーマット LongDataSet (food).csv'\n",
            " \u001b[0m\u001b[01;34mShift-JISに変換したもの\u001b[0m/\n"
          ]
        }
      ]
    },
    {
      "cell_type": "markdown",
      "source": [
        "### 関数定義"
      ],
      "metadata": {
        "id": "zmy_ASJXYY6Q"
      }
    },
    {
      "cell_type": "code",
      "source": [
        "# 変数同士の相関を確認\n",
        "def corrMatrix(df):\n",
        "  # 相関行列の作成\n",
        "  corr_matrix = df.corr()\n",
        "\n",
        "  # 高い相関を持つ変数ペアの抽出\n",
        "  threshold = 0.5  # 閾値を設定\n",
        "  high_corr_var = [(column, index, corr_matrix[column][index]) for column in corr_matrix.columns for index in corr_matrix.columns if (corr_matrix[column][index] > threshold) & (column != index)]\n",
        "  for var_pair in high_corr_var:\n",
        "      print(var_pair)"
      ],
      "metadata": {
        "id": "LUVOVjt7A621"
      },
      "execution_count": 4,
      "outputs": []
    },
    {
      "cell_type": "code",
      "source": [
        "# # 特定の変数と他の変数との相関を確認\n",
        "# def targetCorrMatrix(df):\n",
        "#   df = 'VEG3'\n",
        "#   correlations = values_dataframe.corrwith(values_dataframe[df])\n",
        "#   correlations.sort_values(ascending=False)"
      ],
      "metadata": {
        "id": "IwjADMFMXnHL"
      },
      "execution_count": 5,
      "outputs": []
    },
    {
      "cell_type": "code",
      "source": [
        "# ヒートマップで相関関係の可視化\n",
        "def heatMap(df):\n",
        "  plt.figure(figsize=(15, 15))\n",
        "  sns.heatmap(df.corr(), annot=False, cmap='coolwarm')\n",
        "  plt.show()"
      ],
      "metadata": {
        "id": "AvVL9FGtBSmb"
      },
      "execution_count": 6,
      "outputs": []
    },
    {
      "cell_type": "code",
      "source": [
        "# 個々の変数の分布を確認\n",
        "def distribution(df):\n",
        "  for column in df.columns:\n",
        "      plt.figure()\n",
        "      sns.histplot(df[column], kde=True)\n",
        "      plt.title(column)\n",
        "      plt.show()"
      ],
      "metadata": {
        "id": "yq7iPwMUBmbL"
      },
      "execution_count": 7,
      "outputs": []
    },
    {
      "cell_type": "code",
      "source": [
        "# 変数の0データを確認\n",
        "def countZeroData(df):\n",
        "  # 各変数における0の数をカウントし、少ない順にソート\n",
        "  zero_counts_sorted = (df == 0).sum().sort_values()\n",
        "  # 各変数における0データ数の表示\n",
        "  print(zero_counts_sorted)"
      ],
      "metadata": {
        "id": "ikgSFwLcCfT4"
      },
      "execution_count": 8,
      "outputs": []
    },
    {
      "cell_type": "code",
      "source": [
        "# 0データの数をグラフで確認\n",
        "def countAvairableVariable(df):\n",
        "  # 0が含まれる数をカウント\n",
        "  zero_counts = (df == 0).sum().sort_values()\n",
        "\n",
        "  # グラフのサイズを設定\n",
        "  plt.figure(figsize=(12, 9))\n",
        "\n",
        "  # 棒グラフの作成\n",
        "  sns.barplot(x=len(df)-zero_counts.values, y=zero_counts.index)\n",
        "\n",
        "  # グラフのタイトルとラベルを設定\n",
        "  plt.title('Number of non-zero data in each variable')\n",
        "  plt.xlabel('number of non-zero data')\n",
        "  plt.ylabel('variable name')\n",
        "\n",
        "  # グラフの表示\n",
        "  plt.show()"
      ],
      "metadata": {
        "id": "Gn1gqbnHB6_K"
      },
      "execution_count": 9,
      "outputs": []
    },
    {
      "cell_type": "code",
      "source": [
        "def checksVariables(df):\n",
        "  # # non-zeroのデータ数を確認\n",
        "  # countZeroData(df)\n",
        "  # non-zeroのデータ数をグラフで確認\n",
        "  countAvairableVariable(df)\n",
        "  # 相関行列を確認\n",
        "  corrMatrix(df)\n",
        "  # ヒートマップ確認\n",
        "  heatMap(df)\n",
        "  # 各変数の分布を確認\n",
        "  # distribution(df)"
      ],
      "metadata": {
        "id": "sUkdvumxdL3X"
      },
      "execution_count": 10,
      "outputs": []
    },
    {
      "cell_type": "markdown",
      "source": [
        "### データ前処理"
      ],
      "metadata": {
        "id": "TFxydNcOYc0Z"
      }
    },
    {
      "cell_type": "code",
      "source": [
        "# CSVの読み込み\n",
        "data_nutr = pd.read_csv('./CSV/BDHQ フォーマット LongDataSet (nutr).csv')\n",
        "data_fnutr1 = pd.read_csv('./CSV/BDHQ フォーマット LongDataSet (f_nutr1).csv')"
      ],
      "metadata": {
        "id": "iKw_DVrLgTgx"
      },
      "execution_count": 11,
      "outputs": []
    },
    {
      "cell_type": "code",
      "source": [
        "print(len(data_nutr),len(data_fnutr1))"
      ],
      "metadata": {
        "colab": {
          "base_uri": "https://localhost:8080/"
        },
        "id": "7O5K-kUuYDLz",
        "outputId": "d511b725-24f5-42dd-f5ca-8b525ac2fcd0"
      },
      "execution_count": 12,
      "outputs": [
        {
          "output_type": "stream",
          "name": "stdout",
          "text": [
            "3329 3347\n"
          ]
        }
      ]
    },
    {
      "cell_type": "markdown",
      "source": [
        "## ↓idの重複削除、結合"
      ],
      "metadata": {
        "id": "IN1dnWlQod_H"
      }
    },
    {
      "cell_type": "code",
      "source": [
        "# data_fnutr1重複を確認\n",
        "print(\"data_fnutr1 で重複のある行数:\", data_fnutr1['ID1'].duplicated(keep=False).sum())\n",
        "\n",
        "# data_nutr重複を確認\n",
        "print(\"data_nutr で重複のある行数:\", data_nutr['ID1'].duplicated(keep=False).sum())\n"
      ],
      "metadata": {
        "colab": {
          "base_uri": "https://localhost:8080/"
        },
        "id": "fYqYFE62UDPO",
        "outputId": "2fabc740-4647-4d17-a6ef-16181bc8461b"
      },
      "execution_count": 13,
      "outputs": [
        {
          "output_type": "stream",
          "name": "stdout",
          "text": [
            "data_fnutr1 で重複のある行数: 136\n",
            "data_nutr で重複のある行数: 116\n"
          ]
        }
      ]
    },
    {
      "cell_type": "code",
      "source": [
        "# data_nutrから重複を除去\n",
        "data_nutr_cleaned = data_nutr.drop_duplicates(subset='ID1', keep=False)\n",
        "print(len(data_nutr_cleaned))"
      ],
      "metadata": {
        "colab": {
          "base_uri": "https://localhost:8080/"
        },
        "id": "SbgitzmRUJGu",
        "outputId": "0bf38a83-1aed-4760-f5e3-dc4d8c658689"
      },
      "execution_count": 14,
      "outputs": [
        {
          "output_type": "stream",
          "name": "stdout",
          "text": [
            "3213\n"
          ]
        }
      ]
    },
    {
      "cell_type": "code",
      "source": [
        "# 左結合\n",
        "merged_data = pd.merge(data_fnutr1, data_nutr_cleaned, on='ID1', how='left')\n",
        "print(merged_data.info())"
      ],
      "metadata": {
        "id": "tHR7okUqUMrc",
        "colab": {
          "base_uri": "https://localhost:8080/"
        },
        "outputId": "85fed458-04b6-4659-b3cc-d18c480b00a9"
      },
      "execution_count": 15,
      "outputs": [
        {
          "output_type": "stream",
          "name": "stdout",
          "text": [
            "<class 'pandas.core.frame.DataFrame'>\n",
            "Int64Index: 3347 entries, 0 to 3346\n",
            "Columns: 352 entries, ID1 to filename_y\n",
            "dtypes: float64(322), int64(26), object(4)\n",
            "memory usage: 9.0+ MB\n",
            "None\n"
          ]
        }
      ]
    },
    {
      "cell_type": "code",
      "source": [
        "# 結合後のデータフレームのIDの重複を確認\n",
        "merged_data['ID1'].duplicated(keep=False).sum()"
      ],
      "metadata": {
        "colab": {
          "base_uri": "https://localhost:8080/"
        },
        "id": "HZGzZ_VmUgbr",
        "outputId": "51c1cf8c-704b-4b7b-d826-6359aae91846"
      },
      "execution_count": 16,
      "outputs": [
        {
          "output_type": "execute_result",
          "data": {
            "text/plain": [
              "136"
            ]
          },
          "metadata": {},
          "execution_count": 16
        }
      ]
    },
    {
      "cell_type": "code",
      "source": [
        "# 結合後のデータフレームのIDの重複を削除\n",
        "cleaned_data = merged_data.drop_duplicates(subset='ID1',keep=False)# 重複の確認\n",
        "print(cleaned_data['ID1'].duplicated().sum())\n",
        "print(len(cleaned_data))"
      ],
      "metadata": {
        "id": "qABmWYIoUrnv",
        "colab": {
          "base_uri": "https://localhost:8080/"
        },
        "outputId": "9262d48c-f809-4c5a-fd5f-cf184292f22d"
      },
      "execution_count": 17,
      "outputs": [
        {
          "output_type": "stream",
          "name": "stdout",
          "text": [
            "0\n",
            "3211\n"
          ]
        }
      ]
    },
    {
      "cell_type": "code",
      "source": [
        "print(cleaned_data.info())\n",
        "print(len(cleaned_data))"
      ],
      "metadata": {
        "colab": {
          "base_uri": "https://localhost:8080/"
        },
        "id": "M5PwjSPTVDJ3",
        "outputId": "e1ea5a9f-5ebf-4d93-b95a-99ed0f6c7a7d"
      },
      "execution_count": 18,
      "outputs": [
        {
          "output_type": "stream",
          "name": "stdout",
          "text": [
            "<class 'pandas.core.frame.DataFrame'>\n",
            "Int64Index: 3211 entries, 0 to 3302\n",
            "Columns: 352 entries, ID1 to filename_y\n",
            "dtypes: float64(322), int64(26), object(4)\n",
            "memory usage: 8.6+ MB\n",
            "None\n",
            "3211\n"
          ]
        }
      ]
    },
    {
      "cell_type": "markdown",
      "source": [
        "### ↓変数作成\n"
      ],
      "metadata": {
        "id": "zU9ZOuVeWnjw"
      }
    },
    {
      "cell_type": "code",
      "source": [
        "## エネルギー補正係数とBMIを作成\n",
        "# cleaned_dataのコピーを作成（SettingWithCopyWarningというエラーが出るため）\n",
        "cleaned_data_copy = cleaned_data.copy()\n",
        "\n",
        "# 新しい列を追加(ECF:Energy correction factor)\n",
        "cleaned_data_copy['BMI'] = cleaned_data_copy['BW'] / ((cleaned_data_copy['BH'] / 100) ** 2)\n",
        "cleaned_data_copy['ECF'] = cleaned_data_copy['EER'] / cleaned_data_copy['EN']\n",
        "\n",
        "# 結果を表示\n",
        "cleaned_data_copy.head(1)"
      ],
      "metadata": {
        "colab": {
          "base_uri": "https://localhost:8080/",
          "height": 200
        },
        "id": "hCEUDKD0Zvdq",
        "outputId": "06bd6e92-751c-40e2-d4a4-248ade30ebf5"
      },
      "execution_count": 19,
      "outputs": [
        {
          "output_type": "execute_result",
          "data": {
            "text/plain": [
              "         ID1   ID2_x ID3_x        W_CR       W_PT      W_SG        W_PL  \\\n",
              "0  201100005  2015.0    11  303.195981  27.717256  8.135054  144.377205   \n",
              "\n",
              "         W_GV        W_OV        W_FR  ...      C15SA      C16SI      C17SA  \\\n",
              "0  145.014042  111.979363  268.098456  ...  66.705377  33.840735  68.422717   \n",
              "\n",
              "        C162       C164     C215N3    C224N6  \\\n",
              "0  12.778114  11.422267  10.633959  6.529471   \n",
              "\n",
              "                                 filename_y        BMI       ECF  \n",
              "0  012（会津若松市）全市成人_BDHQ2012_623件【結合】151013_3  22.340297  1.231252  \n",
              "\n",
              "[1 rows x 354 columns]"
            ],
            "text/html": [
              "\n",
              "  <div id=\"df-2e81dfd2-ddb4-47c5-94e7-f359dc6b080d\" class=\"colab-df-container\">\n",
              "    <div>\n",
              "<style scoped>\n",
              "    .dataframe tbody tr th:only-of-type {\n",
              "        vertical-align: middle;\n",
              "    }\n",
              "\n",
              "    .dataframe tbody tr th {\n",
              "        vertical-align: top;\n",
              "    }\n",
              "\n",
              "    .dataframe thead th {\n",
              "        text-align: right;\n",
              "    }\n",
              "</style>\n",
              "<table border=\"1\" class=\"dataframe\">\n",
              "  <thead>\n",
              "    <tr style=\"text-align: right;\">\n",
              "      <th></th>\n",
              "      <th>ID1</th>\n",
              "      <th>ID2_x</th>\n",
              "      <th>ID3_x</th>\n",
              "      <th>W_CR</th>\n",
              "      <th>W_PT</th>\n",
              "      <th>W_SG</th>\n",
              "      <th>W_PL</th>\n",
              "      <th>W_GV</th>\n",
              "      <th>W_OV</th>\n",
              "      <th>W_FR</th>\n",
              "      <th>...</th>\n",
              "      <th>C15SA</th>\n",
              "      <th>C16SI</th>\n",
              "      <th>C17SA</th>\n",
              "      <th>C162</th>\n",
              "      <th>C164</th>\n",
              "      <th>C215N3</th>\n",
              "      <th>C224N6</th>\n",
              "      <th>filename_y</th>\n",
              "      <th>BMI</th>\n",
              "      <th>ECF</th>\n",
              "    </tr>\n",
              "  </thead>\n",
              "  <tbody>\n",
              "    <tr>\n",
              "      <th>0</th>\n",
              "      <td>201100005</td>\n",
              "      <td>2015.0</td>\n",
              "      <td>11</td>\n",
              "      <td>303.195981</td>\n",
              "      <td>27.717256</td>\n",
              "      <td>8.135054</td>\n",
              "      <td>144.377205</td>\n",
              "      <td>145.014042</td>\n",
              "      <td>111.979363</td>\n",
              "      <td>268.098456</td>\n",
              "      <td>...</td>\n",
              "      <td>66.705377</td>\n",
              "      <td>33.840735</td>\n",
              "      <td>68.422717</td>\n",
              "      <td>12.778114</td>\n",
              "      <td>11.422267</td>\n",
              "      <td>10.633959</td>\n",
              "      <td>6.529471</td>\n",
              "      <td>012（会津若松市）全市成人_BDHQ2012_623件【結合】151013_3</td>\n",
              "      <td>22.340297</td>\n",
              "      <td>1.231252</td>\n",
              "    </tr>\n",
              "  </tbody>\n",
              "</table>\n",
              "<p>1 rows × 354 columns</p>\n",
              "</div>\n",
              "    <div class=\"colab-df-buttons\">\n",
              "\n",
              "  <div class=\"colab-df-container\">\n",
              "    <button class=\"colab-df-convert\" onclick=\"convertToInteractive('df-2e81dfd2-ddb4-47c5-94e7-f359dc6b080d')\"\n",
              "            title=\"Convert this dataframe to an interactive table.\"\n",
              "            style=\"display:none;\">\n",
              "\n",
              "  <svg xmlns=\"http://www.w3.org/2000/svg\" height=\"24px\" viewBox=\"0 -960 960 960\">\n",
              "    <path d=\"M120-120v-720h720v720H120Zm60-500h600v-160H180v160Zm220 220h160v-160H400v160Zm0 220h160v-160H400v160ZM180-400h160v-160H180v160Zm440 0h160v-160H620v160ZM180-180h160v-160H180v160Zm440 0h160v-160H620v160Z\"/>\n",
              "  </svg>\n",
              "    </button>\n",
              "\n",
              "  <style>\n",
              "    .colab-df-container {\n",
              "      display:flex;\n",
              "      gap: 12px;\n",
              "    }\n",
              "\n",
              "    .colab-df-convert {\n",
              "      background-color: #E8F0FE;\n",
              "      border: none;\n",
              "      border-radius: 50%;\n",
              "      cursor: pointer;\n",
              "      display: none;\n",
              "      fill: #1967D2;\n",
              "      height: 32px;\n",
              "      padding: 0 0 0 0;\n",
              "      width: 32px;\n",
              "    }\n",
              "\n",
              "    .colab-df-convert:hover {\n",
              "      background-color: #E2EBFA;\n",
              "      box-shadow: 0px 1px 2px rgba(60, 64, 67, 0.3), 0px 1px 3px 1px rgba(60, 64, 67, 0.15);\n",
              "      fill: #174EA6;\n",
              "    }\n",
              "\n",
              "    .colab-df-buttons div {\n",
              "      margin-bottom: 4px;\n",
              "    }\n",
              "\n",
              "    [theme=dark] .colab-df-convert {\n",
              "      background-color: #3B4455;\n",
              "      fill: #D2E3FC;\n",
              "    }\n",
              "\n",
              "    [theme=dark] .colab-df-convert:hover {\n",
              "      background-color: #434B5C;\n",
              "      box-shadow: 0px 1px 3px 1px rgba(0, 0, 0, 0.15);\n",
              "      filter: drop-shadow(0px 1px 2px rgba(0, 0, 0, 0.3));\n",
              "      fill: #FFFFFF;\n",
              "    }\n",
              "  </style>\n",
              "\n",
              "    <script>\n",
              "      const buttonEl =\n",
              "        document.querySelector('#df-2e81dfd2-ddb4-47c5-94e7-f359dc6b080d button.colab-df-convert');\n",
              "      buttonEl.style.display =\n",
              "        google.colab.kernel.accessAllowed ? 'block' : 'none';\n",
              "\n",
              "      async function convertToInteractive(key) {\n",
              "        const element = document.querySelector('#df-2e81dfd2-ddb4-47c5-94e7-f359dc6b080d');\n",
              "        const dataTable =\n",
              "          await google.colab.kernel.invokeFunction('convertToInteractive',\n",
              "                                                    [key], {});\n",
              "        if (!dataTable) return;\n",
              "\n",
              "        const docLinkHtml = 'Like what you see? Visit the ' +\n",
              "          '<a target=\"_blank\" href=https://colab.research.google.com/notebooks/data_table.ipynb>data table notebook</a>'\n",
              "          + ' to learn more about interactive tables.';\n",
              "        element.innerHTML = '';\n",
              "        dataTable['output_type'] = 'display_data';\n",
              "        await google.colab.output.renderOutput(dataTable, element);\n",
              "        const docLink = document.createElement('div');\n",
              "        docLink.innerHTML = docLinkHtml;\n",
              "        element.appendChild(docLink);\n",
              "      }\n",
              "    </script>\n",
              "  </div>\n",
              "\n",
              "    </div>\n",
              "  </div>\n"
            ]
          },
          "metadata": {},
          "execution_count": 19
        }
      ]
    },
    {
      "cell_type": "code",
      "source": [
        "# 変数を選択\n",
        "selected_columns = cleaned_data_copy.loc[:, 'E_CR':'E_SS'].copy()\n",
        "selected_columns['BMI'] = cleaned_data_copy['BMI']\n",
        "selected_columns['ECF'] = cleaned_data_copy['ECF']\n",
        "selected_columns['AGE'] = cleaned_data_copy['AGE']\n",
        "selected_columns['SEX'] = cleaned_data_copy['SEX']\n",
        "values_dataframe = selected_columns\n",
        "\n",
        "values_dataframe.describe()"
      ],
      "metadata": {
        "colab": {
          "base_uri": "https://localhost:8080/",
          "height": 320
        },
        "id": "CKbvaDlklhGX",
        "outputId": "65692ed1-1110-4fce-e46c-8d9812ac0e64"
      },
      "execution_count": 20,
      "outputs": [
        {
          "output_type": "execute_result",
          "data": {
            "text/plain": [
              "              E_CR         E_PT         E_SG         E_PL         E_GV  \\\n",
              "count  3211.000000  3211.000000  3211.000000  3211.000000  3211.000000   \n",
              "mean    718.571548    50.411233    18.212708    73.328395    32.447372   \n",
              "std     367.152819    44.818075    14.877232    54.599812    22.708942   \n",
              "min      20.981333     0.000000     0.000000     0.000000     0.000000   \n",
              "25%     495.650412    17.691071     7.812617    30.781927    16.613035   \n",
              "50%     666.067491    42.551282    15.032625    61.333836    27.118384   \n",
              "75%     851.336016    69.686258    24.072308   105.481068    42.860439   \n",
              "max    5202.143086   330.233334   141.620005   432.728702   177.452680   \n",
              "\n",
              "              E_OV         E_FR         E_FS         E_MT         E_EG  \\\n",
              "count  3211.000000  3211.000000  3211.000000  3211.000000  3211.000000   \n",
              "mean     38.622535    45.711714   145.961651   137.943696    62.759368   \n",
              "std      25.633737    46.285147   122.277501    87.598725    40.147394   \n",
              "min       0.000000     0.000000     0.000000     0.000000     0.000000   \n",
              "25%      20.654462    12.303194    63.145533    82.901157    35.060232   \n",
              "50%      33.100241    32.739018   111.759260   126.005859    56.948571   \n",
              "75%      50.234088    63.991357   191.924707   169.401280    90.432496   \n",
              "max     178.625893   431.759097  1192.206400   951.942218   253.210990   \n",
              "\n",
              "              E_MK         E_OL         E_SW         E_BR         E_SS  \\\n",
              "count  3211.000000  3211.000000  3211.000000  3211.000000  3211.000000   \n",
              "mean    143.407969    96.285807   179.458348   120.820796    54.307191   \n",
              "std     122.020847    53.547513   162.579887   177.117455    36.027271   \n",
              "min       0.000000     0.000000     0.000000     0.000000     0.000000   \n",
              "25%      56.324967    59.048827    62.329747    19.529291    29.027599   \n",
              "50%     116.335714    88.581030   137.361087    46.464286    46.618420   \n",
              "75%     193.928571   126.588080   245.750421   130.637962    73.753514   \n",
              "max    1234.340143   588.183023  1672.645467  2011.630053   261.886802   \n",
              "\n",
              "               BMI          ECF          AGE          SEX  \n",
              "count  3201.000000  3201.000000  3201.000000  3201.000000  \n",
              "mean     22.312986     1.255976    47.716963     1.606061  \n",
              "std       3.649318     0.476263    22.889282     0.488698  \n",
              "min      12.326516     0.259846    10.000000     1.000000  \n",
              "25%      19.735976     0.952504    25.000000     1.000000  \n",
              "50%      21.953125     1.168960    53.000000     2.000000  \n",
              "75%      24.444444     1.441831    67.000000     2.000000  \n",
              "max      50.781250     5.894433    96.000000     2.000000  "
            ],
            "text/html": [
              "\n",
              "  <div id=\"df-6c11bab1-6a4c-40fc-8b3a-27057602a3fb\" class=\"colab-df-container\">\n",
              "    <div>\n",
              "<style scoped>\n",
              "    .dataframe tbody tr th:only-of-type {\n",
              "        vertical-align: middle;\n",
              "    }\n",
              "\n",
              "    .dataframe tbody tr th {\n",
              "        vertical-align: top;\n",
              "    }\n",
              "\n",
              "    .dataframe thead th {\n",
              "        text-align: right;\n",
              "    }\n",
              "</style>\n",
              "<table border=\"1\" class=\"dataframe\">\n",
              "  <thead>\n",
              "    <tr style=\"text-align: right;\">\n",
              "      <th></th>\n",
              "      <th>E_CR</th>\n",
              "      <th>E_PT</th>\n",
              "      <th>E_SG</th>\n",
              "      <th>E_PL</th>\n",
              "      <th>E_GV</th>\n",
              "      <th>E_OV</th>\n",
              "      <th>E_FR</th>\n",
              "      <th>E_FS</th>\n",
              "      <th>E_MT</th>\n",
              "      <th>E_EG</th>\n",
              "      <th>E_MK</th>\n",
              "      <th>E_OL</th>\n",
              "      <th>E_SW</th>\n",
              "      <th>E_BR</th>\n",
              "      <th>E_SS</th>\n",
              "      <th>BMI</th>\n",
              "      <th>ECF</th>\n",
              "      <th>AGE</th>\n",
              "      <th>SEX</th>\n",
              "    </tr>\n",
              "  </thead>\n",
              "  <tbody>\n",
              "    <tr>\n",
              "      <th>count</th>\n",
              "      <td>3211.000000</td>\n",
              "      <td>3211.000000</td>\n",
              "      <td>3211.000000</td>\n",
              "      <td>3211.000000</td>\n",
              "      <td>3211.000000</td>\n",
              "      <td>3211.000000</td>\n",
              "      <td>3211.000000</td>\n",
              "      <td>3211.000000</td>\n",
              "      <td>3211.000000</td>\n",
              "      <td>3211.000000</td>\n",
              "      <td>3211.000000</td>\n",
              "      <td>3211.000000</td>\n",
              "      <td>3211.000000</td>\n",
              "      <td>3211.000000</td>\n",
              "      <td>3211.000000</td>\n",
              "      <td>3201.000000</td>\n",
              "      <td>3201.000000</td>\n",
              "      <td>3201.000000</td>\n",
              "      <td>3201.000000</td>\n",
              "    </tr>\n",
              "    <tr>\n",
              "      <th>mean</th>\n",
              "      <td>718.571548</td>\n",
              "      <td>50.411233</td>\n",
              "      <td>18.212708</td>\n",
              "      <td>73.328395</td>\n",
              "      <td>32.447372</td>\n",
              "      <td>38.622535</td>\n",
              "      <td>45.711714</td>\n",
              "      <td>145.961651</td>\n",
              "      <td>137.943696</td>\n",
              "      <td>62.759368</td>\n",
              "      <td>143.407969</td>\n",
              "      <td>96.285807</td>\n",
              "      <td>179.458348</td>\n",
              "      <td>120.820796</td>\n",
              "      <td>54.307191</td>\n",
              "      <td>22.312986</td>\n",
              "      <td>1.255976</td>\n",
              "      <td>47.716963</td>\n",
              "      <td>1.606061</td>\n",
              "    </tr>\n",
              "    <tr>\n",
              "      <th>std</th>\n",
              "      <td>367.152819</td>\n",
              "      <td>44.818075</td>\n",
              "      <td>14.877232</td>\n",
              "      <td>54.599812</td>\n",
              "      <td>22.708942</td>\n",
              "      <td>25.633737</td>\n",
              "      <td>46.285147</td>\n",
              "      <td>122.277501</td>\n",
              "      <td>87.598725</td>\n",
              "      <td>40.147394</td>\n",
              "      <td>122.020847</td>\n",
              "      <td>53.547513</td>\n",
              "      <td>162.579887</td>\n",
              "      <td>177.117455</td>\n",
              "      <td>36.027271</td>\n",
              "      <td>3.649318</td>\n",
              "      <td>0.476263</td>\n",
              "      <td>22.889282</td>\n",
              "      <td>0.488698</td>\n",
              "    </tr>\n",
              "    <tr>\n",
              "      <th>min</th>\n",
              "      <td>20.981333</td>\n",
              "      <td>0.000000</td>\n",
              "      <td>0.000000</td>\n",
              "      <td>0.000000</td>\n",
              "      <td>0.000000</td>\n",
              "      <td>0.000000</td>\n",
              "      <td>0.000000</td>\n",
              "      <td>0.000000</td>\n",
              "      <td>0.000000</td>\n",
              "      <td>0.000000</td>\n",
              "      <td>0.000000</td>\n",
              "      <td>0.000000</td>\n",
              "      <td>0.000000</td>\n",
              "      <td>0.000000</td>\n",
              "      <td>0.000000</td>\n",
              "      <td>12.326516</td>\n",
              "      <td>0.259846</td>\n",
              "      <td>10.000000</td>\n",
              "      <td>1.000000</td>\n",
              "    </tr>\n",
              "    <tr>\n",
              "      <th>25%</th>\n",
              "      <td>495.650412</td>\n",
              "      <td>17.691071</td>\n",
              "      <td>7.812617</td>\n",
              "      <td>30.781927</td>\n",
              "      <td>16.613035</td>\n",
              "      <td>20.654462</td>\n",
              "      <td>12.303194</td>\n",
              "      <td>63.145533</td>\n",
              "      <td>82.901157</td>\n",
              "      <td>35.060232</td>\n",
              "      <td>56.324967</td>\n",
              "      <td>59.048827</td>\n",
              "      <td>62.329747</td>\n",
              "      <td>19.529291</td>\n",
              "      <td>29.027599</td>\n",
              "      <td>19.735976</td>\n",
              "      <td>0.952504</td>\n",
              "      <td>25.000000</td>\n",
              "      <td>1.000000</td>\n",
              "    </tr>\n",
              "    <tr>\n",
              "      <th>50%</th>\n",
              "      <td>666.067491</td>\n",
              "      <td>42.551282</td>\n",
              "      <td>15.032625</td>\n",
              "      <td>61.333836</td>\n",
              "      <td>27.118384</td>\n",
              "      <td>33.100241</td>\n",
              "      <td>32.739018</td>\n",
              "      <td>111.759260</td>\n",
              "      <td>126.005859</td>\n",
              "      <td>56.948571</td>\n",
              "      <td>116.335714</td>\n",
              "      <td>88.581030</td>\n",
              "      <td>137.361087</td>\n",
              "      <td>46.464286</td>\n",
              "      <td>46.618420</td>\n",
              "      <td>21.953125</td>\n",
              "      <td>1.168960</td>\n",
              "      <td>53.000000</td>\n",
              "      <td>2.000000</td>\n",
              "    </tr>\n",
              "    <tr>\n",
              "      <th>75%</th>\n",
              "      <td>851.336016</td>\n",
              "      <td>69.686258</td>\n",
              "      <td>24.072308</td>\n",
              "      <td>105.481068</td>\n",
              "      <td>42.860439</td>\n",
              "      <td>50.234088</td>\n",
              "      <td>63.991357</td>\n",
              "      <td>191.924707</td>\n",
              "      <td>169.401280</td>\n",
              "      <td>90.432496</td>\n",
              "      <td>193.928571</td>\n",
              "      <td>126.588080</td>\n",
              "      <td>245.750421</td>\n",
              "      <td>130.637962</td>\n",
              "      <td>73.753514</td>\n",
              "      <td>24.444444</td>\n",
              "      <td>1.441831</td>\n",
              "      <td>67.000000</td>\n",
              "      <td>2.000000</td>\n",
              "    </tr>\n",
              "    <tr>\n",
              "      <th>max</th>\n",
              "      <td>5202.143086</td>\n",
              "      <td>330.233334</td>\n",
              "      <td>141.620005</td>\n",
              "      <td>432.728702</td>\n",
              "      <td>177.452680</td>\n",
              "      <td>178.625893</td>\n",
              "      <td>431.759097</td>\n",
              "      <td>1192.206400</td>\n",
              "      <td>951.942218</td>\n",
              "      <td>253.210990</td>\n",
              "      <td>1234.340143</td>\n",
              "      <td>588.183023</td>\n",
              "      <td>1672.645467</td>\n",
              "      <td>2011.630053</td>\n",
              "      <td>261.886802</td>\n",
              "      <td>50.781250</td>\n",
              "      <td>5.894433</td>\n",
              "      <td>96.000000</td>\n",
              "      <td>2.000000</td>\n",
              "    </tr>\n",
              "  </tbody>\n",
              "</table>\n",
              "</div>\n",
              "    <div class=\"colab-df-buttons\">\n",
              "\n",
              "  <div class=\"colab-df-container\">\n",
              "    <button class=\"colab-df-convert\" onclick=\"convertToInteractive('df-6c11bab1-6a4c-40fc-8b3a-27057602a3fb')\"\n",
              "            title=\"Convert this dataframe to an interactive table.\"\n",
              "            style=\"display:none;\">\n",
              "\n",
              "  <svg xmlns=\"http://www.w3.org/2000/svg\" height=\"24px\" viewBox=\"0 -960 960 960\">\n",
              "    <path d=\"M120-120v-720h720v720H120Zm60-500h600v-160H180v160Zm220 220h160v-160H400v160Zm0 220h160v-160H400v160ZM180-400h160v-160H180v160Zm440 0h160v-160H620v160ZM180-180h160v-160H180v160Zm440 0h160v-160H620v160Z\"/>\n",
              "  </svg>\n",
              "    </button>\n",
              "\n",
              "  <style>\n",
              "    .colab-df-container {\n",
              "      display:flex;\n",
              "      gap: 12px;\n",
              "    }\n",
              "\n",
              "    .colab-df-convert {\n",
              "      background-color: #E8F0FE;\n",
              "      border: none;\n",
              "      border-radius: 50%;\n",
              "      cursor: pointer;\n",
              "      display: none;\n",
              "      fill: #1967D2;\n",
              "      height: 32px;\n",
              "      padding: 0 0 0 0;\n",
              "      width: 32px;\n",
              "    }\n",
              "\n",
              "    .colab-df-convert:hover {\n",
              "      background-color: #E2EBFA;\n",
              "      box-shadow: 0px 1px 2px rgba(60, 64, 67, 0.3), 0px 1px 3px 1px rgba(60, 64, 67, 0.15);\n",
              "      fill: #174EA6;\n",
              "    }\n",
              "\n",
              "    .colab-df-buttons div {\n",
              "      margin-bottom: 4px;\n",
              "    }\n",
              "\n",
              "    [theme=dark] .colab-df-convert {\n",
              "      background-color: #3B4455;\n",
              "      fill: #D2E3FC;\n",
              "    }\n",
              "\n",
              "    [theme=dark] .colab-df-convert:hover {\n",
              "      background-color: #434B5C;\n",
              "      box-shadow: 0px 1px 3px 1px rgba(0, 0, 0, 0.15);\n",
              "      filter: drop-shadow(0px 1px 2px rgba(0, 0, 0, 0.3));\n",
              "      fill: #FFFFFF;\n",
              "    }\n",
              "  </style>\n",
              "\n",
              "    <script>\n",
              "      const buttonEl =\n",
              "        document.querySelector('#df-6c11bab1-6a4c-40fc-8b3a-27057602a3fb button.colab-df-convert');\n",
              "      buttonEl.style.display =\n",
              "        google.colab.kernel.accessAllowed ? 'block' : 'none';\n",
              "\n",
              "      async function convertToInteractive(key) {\n",
              "        const element = document.querySelector('#df-6c11bab1-6a4c-40fc-8b3a-27057602a3fb');\n",
              "        const dataTable =\n",
              "          await google.colab.kernel.invokeFunction('convertToInteractive',\n",
              "                                                    [key], {});\n",
              "        if (!dataTable) return;\n",
              "\n",
              "        const docLinkHtml = 'Like what you see? Visit the ' +\n",
              "          '<a target=\"_blank\" href=https://colab.research.google.com/notebooks/data_table.ipynb>data table notebook</a>'\n",
              "          + ' to learn more about interactive tables.';\n",
              "        element.innerHTML = '';\n",
              "        dataTable['output_type'] = 'display_data';\n",
              "        await google.colab.output.renderOutput(dataTable, element);\n",
              "        const docLink = document.createElement('div');\n",
              "        docLink.innerHTML = docLinkHtml;\n",
              "        element.appendChild(docLink);\n",
              "      }\n",
              "    </script>\n",
              "  </div>\n",
              "\n",
              "\n",
              "<div id=\"df-f86d706f-037d-45ac-ae3c-dcfc33cd8a3c\">\n",
              "  <button class=\"colab-df-quickchart\" onclick=\"quickchart('df-f86d706f-037d-45ac-ae3c-dcfc33cd8a3c')\"\n",
              "            title=\"Suggest charts\"\n",
              "            style=\"display:none;\">\n",
              "\n",
              "<svg xmlns=\"http://www.w3.org/2000/svg\" height=\"24px\"viewBox=\"0 0 24 24\"\n",
              "     width=\"24px\">\n",
              "    <g>\n",
              "        <path d=\"M19 3H5c-1.1 0-2 .9-2 2v14c0 1.1.9 2 2 2h14c1.1 0 2-.9 2-2V5c0-1.1-.9-2-2-2zM9 17H7v-7h2v7zm4 0h-2V7h2v10zm4 0h-2v-4h2v4z\"/>\n",
              "    </g>\n",
              "</svg>\n",
              "  </button>\n",
              "\n",
              "<style>\n",
              "  .colab-df-quickchart {\n",
              "      --bg-color: #E8F0FE;\n",
              "      --fill-color: #1967D2;\n",
              "      --hover-bg-color: #E2EBFA;\n",
              "      --hover-fill-color: #174EA6;\n",
              "      --disabled-fill-color: #AAA;\n",
              "      --disabled-bg-color: #DDD;\n",
              "  }\n",
              "\n",
              "  [theme=dark] .colab-df-quickchart {\n",
              "      --bg-color: #3B4455;\n",
              "      --fill-color: #D2E3FC;\n",
              "      --hover-bg-color: #434B5C;\n",
              "      --hover-fill-color: #FFFFFF;\n",
              "      --disabled-bg-color: #3B4455;\n",
              "      --disabled-fill-color: #666;\n",
              "  }\n",
              "\n",
              "  .colab-df-quickchart {\n",
              "    background-color: var(--bg-color);\n",
              "    border: none;\n",
              "    border-radius: 50%;\n",
              "    cursor: pointer;\n",
              "    display: none;\n",
              "    fill: var(--fill-color);\n",
              "    height: 32px;\n",
              "    padding: 0;\n",
              "    width: 32px;\n",
              "  }\n",
              "\n",
              "  .colab-df-quickchart:hover {\n",
              "    background-color: var(--hover-bg-color);\n",
              "    box-shadow: 0 1px 2px rgba(60, 64, 67, 0.3), 0 1px 3px 1px rgba(60, 64, 67, 0.15);\n",
              "    fill: var(--button-hover-fill-color);\n",
              "  }\n",
              "\n",
              "  .colab-df-quickchart-complete:disabled,\n",
              "  .colab-df-quickchart-complete:disabled:hover {\n",
              "    background-color: var(--disabled-bg-color);\n",
              "    fill: var(--disabled-fill-color);\n",
              "    box-shadow: none;\n",
              "  }\n",
              "\n",
              "  .colab-df-spinner {\n",
              "    border: 2px solid var(--fill-color);\n",
              "    border-color: transparent;\n",
              "    border-bottom-color: var(--fill-color);\n",
              "    animation:\n",
              "      spin 1s steps(1) infinite;\n",
              "  }\n",
              "\n",
              "  @keyframes spin {\n",
              "    0% {\n",
              "      border-color: transparent;\n",
              "      border-bottom-color: var(--fill-color);\n",
              "      border-left-color: var(--fill-color);\n",
              "    }\n",
              "    20% {\n",
              "      border-color: transparent;\n",
              "      border-left-color: var(--fill-color);\n",
              "      border-top-color: var(--fill-color);\n",
              "    }\n",
              "    30% {\n",
              "      border-color: transparent;\n",
              "      border-left-color: var(--fill-color);\n",
              "      border-top-color: var(--fill-color);\n",
              "      border-right-color: var(--fill-color);\n",
              "    }\n",
              "    40% {\n",
              "      border-color: transparent;\n",
              "      border-right-color: var(--fill-color);\n",
              "      border-top-color: var(--fill-color);\n",
              "    }\n",
              "    60% {\n",
              "      border-color: transparent;\n",
              "      border-right-color: var(--fill-color);\n",
              "    }\n",
              "    80% {\n",
              "      border-color: transparent;\n",
              "      border-right-color: var(--fill-color);\n",
              "      border-bottom-color: var(--fill-color);\n",
              "    }\n",
              "    90% {\n",
              "      border-color: transparent;\n",
              "      border-bottom-color: var(--fill-color);\n",
              "    }\n",
              "  }\n",
              "</style>\n",
              "\n",
              "  <script>\n",
              "    async function quickchart(key) {\n",
              "      const quickchartButtonEl =\n",
              "        document.querySelector('#' + key + ' button');\n",
              "      quickchartButtonEl.disabled = true;  // To prevent multiple clicks.\n",
              "      quickchartButtonEl.classList.add('colab-df-spinner');\n",
              "      try {\n",
              "        const charts = await google.colab.kernel.invokeFunction(\n",
              "            'suggestCharts', [key], {});\n",
              "      } catch (error) {\n",
              "        console.error('Error during call to suggestCharts:', error);\n",
              "      }\n",
              "      quickchartButtonEl.classList.remove('colab-df-spinner');\n",
              "      quickchartButtonEl.classList.add('colab-df-quickchart-complete');\n",
              "    }\n",
              "    (() => {\n",
              "      let quickchartButtonEl =\n",
              "        document.querySelector('#df-f86d706f-037d-45ac-ae3c-dcfc33cd8a3c button');\n",
              "      quickchartButtonEl.style.display =\n",
              "        google.colab.kernel.accessAllowed ? 'block' : 'none';\n",
              "    })();\n",
              "  </script>\n",
              "</div>\n",
              "    </div>\n",
              "  </div>\n"
            ]
          },
          "metadata": {},
          "execution_count": 20
        }
      ]
    },
    {
      "cell_type": "code",
      "source": [
        "# NA処理\n",
        "values_dataframe_cleaned = values_dataframe.dropna()"
      ],
      "metadata": {
        "id": "7KoHtNo3S3sQ"
      },
      "execution_count": 21,
      "outputs": []
    },
    {
      "cell_type": "code",
      "source": [
        "checksVariables(values_dataframe_cleaned)"
      ],
      "metadata": {
        "colab": {
          "base_uri": "https://localhost:8080/",
          "height": 1000
        },
        "id": "UWd3qCf5CSNG",
        "outputId": "f048c76d-741f-4e3a-c638-8f44db5b53ce"
      },
      "execution_count": 22,
      "outputs": [
        {
          "output_type": "display_data",
          "data": {
            "text/plain": [
              "<Figure size 1200x900 with 1 Axes>"
            ],
            "image/png": "[encoded data removed]"
          },
          "metadata": {}
        },
        {
          "output_type": "stream",
          "name": "stdout",
          "text": [
            "('E_GV', 'E_OV', 0.7040129248500424)\n",
            "('E_GV', 'E_FR', 0.567757844868274)\n",
            "('E_OV', 'E_GV', 0.7040129248500424)\n",
            "('E_FR', 'E_GV', 0.567757844868274)\n",
            "('E_MT', 'E_OL', 0.5948509316936996)\n",
            "('E_OL', 'E_MT', 0.5948509316936996)\n"
          ]
        },
        {
          "output_type": "display_data",
          "data": {
            "text/plain": [
              "<Figure size 1500x1500 with 2 Axes>"
            ],
            "image/png": "[encoded data removed]"
          },
          "metadata": {}
        }
      ]
    },
    {
      "cell_type": "markdown",
      "source": [
        "### LiNGAMの関数定義"
      ],
      "metadata": {
        "id": "IyPSW40NaOfi"
      }
    },
    {
      "cell_type": "code",
      "source": [
        "# 解析に使用する変数の選択（）\n",
        "def select(df):\n",
        "    # 基本統計量の確認\n",
        "    df.describe()\n",
        "\n",
        "    # 各列について、上:0.5%,下:0.5%のデータを外れ値として除去\n",
        "    for column in df.columns:\n",
        "        lower_limit = df[column].quantile(0.005)\n",
        "        upper_limit = df[column].quantile(0.995)\n",
        "        df = df[(df[column] > lower_limit) & (df[column] < upper_limit)]\n",
        "\n",
        "    # 修正されたデータフレームを表示\n",
        "    df.describe()\n",
        "\n",
        "    len(df)\n",
        "\n",
        "    return df"
      ],
      "metadata": {
        "id": "g4uu6dPN_6W_"
      },
      "execution_count": 23,
      "outputs": []
    },
    {
      "cell_type": "code",
      "source": [
        "def modeling(selected_columns):\n",
        "  # 標準化\n",
        "  scaler = StandardScaler()\n",
        "  Xy = scaler.fit_transform(selected_columns)\n",
        "\n",
        "  # モデル作成\n",
        "  model = lingam.DirectLiNGAM(random_state=1)\n",
        "  model.fit(Xy)\n",
        "\n",
        "  # 因果の順番\n",
        "  print(f\"因果の順番\\n{model.causal_order_}\\n\\n\")\n",
        "\n",
        "  # 隣接行列\n",
        "  print(f\"隣接行列\\n{model.adjacency_matrix_}\\n\\n\")\n",
        "\n",
        "  # 推定した因果モデルにおける、誤差同士の独立性のp値\n",
        "  p_values = model.get_error_independence_p_values(Xy)\n",
        "  print(f\"推定した因果モデルにおける、誤差同士の独立性のp値\\n{p_values}\\n\\n\")\n",
        "\n",
        "  return model"
      ],
      "metadata": {
        "id": "iuXgwvpCN_Sy"
      },
      "execution_count": 24,
      "outputs": []
    },
    {
      "cell_type": "code",
      "source": [
        "def gragh(model, selected_columns,dagname):\n",
        "    # 因果グラフの描画\n",
        "    dot = make_dot(model.adjacency_matrix_, labels=selected_columns.columns.to_list())\n",
        "    dot.format = 'png'\n",
        "    dot.render(dagname)\n",
        "    return dot"
      ],
      "metadata": {
        "id": "WMVLBuIDOBzs"
      },
      "execution_count": 25,
      "outputs": []
    },
    {
      "cell_type": "code",
      "source": [
        "def lingam_matrix(df):\n",
        "    scaler = StandardScaler()\n",
        "    Xy = scaler.fit_transform(df)\n",
        "\n",
        "    model = lingam.DirectLiNGAM(random_state=1)\n",
        "    result = model.bootstrap(Xy, n_sampling=100)\n",
        "    # sklearn.utils.resampleで重複ありのリサンプリングをしている。リサンプル後のサンプル数は元データと同じ。\n",
        "\n",
        "    # bootstrappingの各サンプルにおける、因果方向の有無のカウント結果を取得する\n",
        "    cdc = result.get_causal_direction_counts(n_directions=8, min_causal_effect=0.01, split_by_causal_effect_sign=True)\n",
        "    print_causal_directions(cdc, 100, labels=df.columns.to_list())\n",
        "\n",
        "    # カウント結果を確率として、隣接行列の形式で表示\n",
        "    prob = result.get_probabilities(min_causal_effect=0.01)\n",
        "    print(prob)\n",
        "\n",
        "    # bootstrappingの各サンプルにおける、DAG(Directed Acyclic Graphs)のカウント結果を取得する\n",
        "    dagc = result.get_directed_acyclic_graph_counts(n_dags=3, min_causal_effect=0.01, split_by_causal_effect_sign=True)\n",
        "    print_dagc(dagc, 100, labels=df.columns.to_list())\n",
        "\n",
        "    # Total Causal Effects\n",
        "    causal_effects = result.get_total_causal_effects(min_causal_effect=0.01)\n",
        "\n",
        "    # Assign to pandas.DataFrame for pretty display\n",
        "    causal_df = pd.DataFrame(causal_effects)\n",
        "    labels = df.columns.to_list()\n",
        "    # 'from' 列と 'to' 列のラベルを適用する\n",
        "    causal_df['from'] = causal_df['from'].apply(lambda x: labels[x])\n",
        "    causal_df['to'] = causal_df['to'].apply(lambda x: labels[x])\n",
        "    return causal_df"
      ],
      "metadata": {
        "id": "_HPR6342ODvK"
      },
      "execution_count": 26,
      "outputs": []
    },
    {
      "cell_type": "code",
      "source": [
        "def LiNGAM(df,dagname):\n",
        "  selected_columns = select(df)\n",
        "  model = modeling(selected_columns)\n",
        "  dot = gragh(model, selected_columns,dagname)\n",
        "  re_df = lingam_matrix(selected_columns)\n",
        "  return dot,re_df"
      ],
      "metadata": {
        "id": "JY3nHCSAOFuq"
      },
      "execution_count": 27,
      "outputs": []
    },
    {
      "cell_type": "code",
      "source": [
        "print(values_dataframe_cleaned.columns.tolist())"
      ],
      "metadata": {
        "colab": {
          "base_uri": "https://localhost:8080/"
        },
        "id": "hhgu6OB3HOS4",
        "outputId": "8e29a142-432e-4f62-aab2-32b194842f07"
      },
      "execution_count": 28,
      "outputs": [
        {
          "output_type": "stream",
          "name": "stdout",
          "text": [
            "['E_CR', 'E_PT', 'E_SG', 'E_PL', 'E_GV', 'E_OV', 'E_FR', 'E_FS', 'E_MT', 'E_EG', 'E_MK', 'E_OL', 'E_SW', 'E_BR', 'E_SS', 'BMI', 'ECF', 'AGE', 'SEX']\n"
          ]
        }
      ]
    },
    {
      "cell_type": "code",
      "source": [
        "# 変数を指定するリスト(16)\n",
        "selected_variables = ['E_CR', 'E_PT', 'E_SG', 'E_PL', 'E_GV', 'E_OV', 'E_FR', 'E_FS', 'E_MT', 'E_EG', 'E_MK', 'E_OL', 'E_SW', 'E_BR', 'E_SS', 'BMI', 'ECF']\n",
        "\n",
        "# 使用する変数を確認\n",
        "df = values_dataframe_cleaned[selected_variables]\n",
        "df"
      ],
      "metadata": {
        "id": "MYmEwWiwIkvN"
      },
      "execution_count": null,
      "outputs": []
    },
    {
      "cell_type": "code",
      "source": [
        "# 0data削除\n",
        "df_filtered = df[(df != 0).all(axis=1)]\n",
        "\n",
        "# 結果を表示\n",
        "print(df_filtered.describe())"
      ],
      "metadata": {
        "id": "ltotcXEXBU21"
      },
      "execution_count": null,
      "outputs": []
    },
    {
      "cell_type": "code",
      "source": [
        "# ECF列を掛ける\n",
        "multiplied_df_filtered = df_filtered.drop('ECF', axis=1).multiply(df_filtered['ECF'], axis=0)\n",
        "# print(multiplied_df_filtered.describe())\n",
        "checksVariables(multiplied_df_filtered)"
      ],
      "metadata": {
        "id": "579Sst3eBvxa"
      },
      "execution_count": null,
      "outputs": []
    },
    {
      "cell_type": "code",
      "source": [
        "dot,causal_df = LiNGAM(multiplied_df_filtered,'nutr_all_data_allvar')\n",
        "dot"
      ],
      "metadata": {
        "id": "zVzKw5vkA5so"
      },
      "execution_count": null,
      "outputs": []
    },
    {
      "cell_type": "code",
      "source": [
        "causal_df"
      ],
      "metadata": {
        "id": "CZzNtSDZj_-g"
      },
      "execution_count": null,
      "outputs": []
    },
    {
      "cell_type": "markdown",
      "source": [
        "## 8変数"
      ],
      "metadata": {
        "id": "5q6ZZ3SSOVfZ"
      }
    },
    {
      "cell_type": "code",
      "source": [
        "# 変数を指定するリスト(8)\n",
        "selected_variables = ['E_CR', 'E_PT', 'E_SG', 'E_PL', 'E_GV', 'E_FS', 'E_MT', 'BMI', 'ECF']\n",
        "df = values_dataframe_cleaned[selected_variables]\n",
        "# 0data削除\n",
        "df_filtered = df[(df != 0).all(axis=1)]\n",
        "# ECF列を掛ける\n",
        "multiplied_df_filtered = df_filtered.drop('ECF', axis=1).multiply(df_filtered['ECF'], axis=0)\n",
        "checksVariables(multiplied_df_filtered)\n",
        "dot,causal_df = LiNGAM(multiplied_df_filtered,'nutr_all_data_8var')\n",
        "dot"
      ],
      "metadata": {
        "id": "v0a0dnP-rVV0",
        "colab": {
          "base_uri": "https://localhost:8080/",
          "height": 1000
        },
        "outputId": "dfc64fcc-aa8d-47a8-874e-8a8ab45a3103"
      },
      "execution_count": 36,
      "outputs": [
        {
          "output_type": "display_data",
          "data": {
            "text/plain": [
              "<Figure size 1200x900 with 1 Axes>"
            ],
            "image/png": "[encoded data removed]"
          },
          "metadata": {}
        },
        {
          "output_type": "display_data",
          "data": {
            "text/plain": [
              "<Figure size 1500x1500 with 2 Axes>"
            ],
            "image/png": "[encoded data removed]"
          },
          "metadata": {}
        },
        {
          "output_type": "stream",
          "name": "stdout",
          "text": [
            "因果の順番\n",
            "[5, 4, 6, 2, 3, 7, 1, 0]\n",
            "\n",
            "\n",
            "隣接行列\n",
            "[[ 0.         -0.07587756  0.         -0.16027934 -0.16989328 -0.24486002\n",
            "  -0.05437247  0.11921851]\n",
            " [ 0.          0.          0.          0.05783832  0.22268185  0.05616901\n",
            "   0.         -0.08157273]\n",
            " [ 0.          0.          0.          0.          0.          0.13741096\n",
            "   0.          0.        ]\n",
            " [ 0.          0.          0.07318073  0.          0.21165769  0.18754996\n",
            "  -0.0676133   0.        ]\n",
            " [ 0.          0.          0.          0.          0.          0.18753221\n",
            "   0.          0.        ]\n",
            " [ 0.          0.          0.          0.          0.          0.\n",
            "   0.          0.        ]\n",
            " [ 0.          0.          0.          0.          0.          0.\n",
            "   0.          0.        ]\n",
            " [ 0.          0.          0.11922007  0.05025689  0.         -0.09682638\n",
            "   0.07841623  0.        ]]\n",
            "\n",
            "\n",
            "推定した因果モデルにおける、誤差同士の独立性のp値\n",
            "[[0.00000000e+00 7.50035024e-02 9.08148710e-02 1.56915302e-01\n",
            "  8.74217126e-04 7.56669375e-03 1.38769744e-03 2.60515370e-07]\n",
            " [7.50035024e-02 0.00000000e+00 9.29829706e-04 1.73171389e-08\n",
            "  1.43029686e-13 5.36310492e-02 2.78485352e-04 9.74618878e-05]\n",
            " [9.08148710e-02 9.29829706e-04 0.00000000e+00 1.06216356e-04\n",
            "  3.14854813e-05 3.04660220e-05 5.32054845e-01 2.58661276e-07]\n",
            " [1.56915302e-01 1.73171389e-08 1.06216356e-04 0.00000000e+00\n",
            "  3.37011049e-08 6.14543339e-08 1.58044613e-01 5.65753586e-11]\n",
            " [8.74217126e-04 1.43029686e-13 3.14854813e-05 3.37011049e-08\n",
            "  0.00000000e+00 3.05017589e-07 1.45300013e-05 9.92515966e-02]\n",
            " [7.56669375e-03 5.36310492e-02 3.04660220e-05 6.14543339e-08\n",
            "  3.05017589e-07 0.00000000e+00 2.51561750e-02 1.40221726e-02]\n",
            " [1.38769744e-03 2.78485352e-04 5.32054845e-01 1.58044613e-01\n",
            "  1.45300013e-05 2.51561750e-02 0.00000000e+00 4.98569757e-08]\n",
            " [2.60515370e-07 9.74618878e-05 2.58661276e-07 5.65753586e-11\n",
            "  9.92515966e-02 1.40221726e-02 4.98569757e-08 0.00000000e+00]]\n",
            "\n",
            "\n",
            "E_CR <--- E_FS (b<0) (100.0%)\n",
            "BMI <--- E_SG (b>0) (100.0%)\n",
            "E_SG <--- E_FS (b>0) (100.0%)\n",
            "E_PL <--- E_FS (b>0) (99.0%)\n",
            "E_CR <--- E_GV (b<0) (96.0%)\n",
            "BMI <--- E_MT (b>0) (94.0%)\n",
            "E_PL <--- E_GV (b>0) (92.0%)\n",
            "E_PT <--- E_GV (b>0) (91.0%)\n",
            "[[0.   0.64 0.16 0.71 0.96 1.   0.61 0.62]\n",
            " [0.33 0.   0.02 0.51 0.91 0.7  0.33 0.88]\n",
            " [0.01 0.01 0.   0.46 0.02 1.   0.12 0.  ]\n",
            " [0.29 0.15 0.42 0.   0.92 0.99 0.84 0.05]\n",
            " [0.04 0.09 0.   0.08 0.   0.76 0.02 0.  ]\n",
            " [0.   0.01 0.   0.01 0.24 0.   0.   0.  ]\n",
            " [0.   0.   0.   0.   0.02 0.   0.   0.  ]\n",
            " [0.38 0.06 1.   0.64 0.12 0.87 0.94 0.  ]]\n",
            "DAG[0]: 3.0%\n",
            "\tE_CR <--- E_GV (b<0)\n",
            "\tE_CR <--- E_FS (b<0)\n",
            "\tE_PT <--- E_CR (b<0)\n",
            "\tE_PT <--- E_PL (b>0)\n",
            "\tE_PT <--- E_GV (b>0)\n",
            "\tE_PT <--- E_MT (b>0)\n",
            "\tE_PT <--- BMI (b<0)\n",
            "\tE_SG <--- E_FS (b>0)\n",
            "\tE_PL <--- E_CR (b<0)\n",
            "\tE_PL <--- E_SG (b>0)\n",
            "\tE_PL <--- E_GV (b>0)\n",
            "\tE_PL <--- E_FS (b>0)\n",
            "\tE_PL <--- E_MT (b<0)\n",
            "\tE_GV <--- E_FS (b>0)\n",
            "\tBMI <--- E_CR (b>0)\n",
            "\tBMI <--- E_SG (b>0)\n",
            "\tBMI <--- E_PL (b>0)\n",
            "\tBMI <--- E_FS (b<0)\n",
            "\tBMI <--- E_MT (b>0)\n",
            "DAG[1]: 2.0%\n",
            "\tE_CR <--- E_PT (b<0)\n",
            "\tE_CR <--- E_PL (b<0)\n",
            "\tE_CR <--- E_GV (b<0)\n",
            "\tE_CR <--- E_FS (b<0)\n",
            "\tE_CR <--- E_MT (b<0)\n",
            "\tE_CR <--- BMI (b>0)\n",
            "\tE_PT <--- E_GV (b>0)\n",
            "\tE_PT <--- E_FS (b>0)\n",
            "\tE_PT <--- BMI (b<0)\n",
            "\tE_SG <--- E_PL (b>0)\n",
            "\tE_SG <--- E_FS (b>0)\n",
            "\tE_PL <--- E_GV (b>0)\n",
            "\tE_PL <--- E_FS (b>0)\n",
            "\tE_PL <--- E_MT (b<0)\n",
            "\tE_GV <--- E_FS (b>0)\n",
            "\tBMI <--- E_SG (b>0)\n",
            "\tBMI <--- E_FS (b<0)\n",
            "\tBMI <--- E_MT (b>0)\n",
            "DAG[2]: 2.0%\n",
            "\tE_CR <--- E_PT (b<0)\n",
            "\tE_CR <--- E_SG (b<0)\n",
            "\tE_CR <--- E_PL (b<0)\n",
            "\tE_CR <--- E_GV (b<0)\n",
            "\tE_CR <--- E_FS (b<0)\n",
            "\tE_CR <--- E_MT (b<0)\n",
            "\tE_CR <--- BMI (b>0)\n",
            "\tE_PT <--- E_PL (b>0)\n",
            "\tE_PT <--- E_GV (b>0)\n",
            "\tE_PT <--- E_FS (b>0)\n",
            "\tE_PT <--- E_MT (b>0)\n",
            "\tE_PT <--- BMI (b<0)\n",
            "\tE_SG <--- E_FS (b>0)\n",
            "\tE_PL <--- E_SG (b>0)\n",
            "\tE_PL <--- E_GV (b>0)\n",
            "\tE_PL <--- E_FS (b>0)\n",
            "\tE_PL <--- E_MT (b<0)\n",
            "\tE_GV <--- E_FS (b>0)\n",
            "\tBMI <--- E_SG (b>0)\n",
            "\tBMI <--- E_PL (b>0)\n",
            "\tBMI <--- E_FS (b<0)\n",
            "\tBMI <--- E_MT (b>0)\n"
          ]
        },
        {
          "output_type": "execute_result",
          "data": {
            "image/svg+xml": "<?xml version=\"1.0\" encoding=\"UTF-8\" standalone=\"no\"?>\n<!DOCTYPE svg PUBLIC \"-//W3C//DTD SVG 1.1//EN\"\n \"http://www.w3.org/Graphics/SVG/1.1/DTD/svg11.dtd\">\n<!-- Generated by graphviz version 2.43.0 (0)\n -->\n<!-- Title: %3 Pages: 1 -->\n<svg width=\"484pt\" height=\"479pt\"\n viewBox=\"0.00 0.00 484.00 479.00\" xmlns=\"http://www.w3.org/2000/svg\" xmlns:xlink=\"http://www.w3.org/1999/xlink\">\n<g id=\"graph0\" class=\"graph\" transform=\"scale(1 1) rotate(0) translate(4 475)\">\n<title>%3</title>\n<polygon fill=\"white\" stroke=\"transparent\" points=\"-4,4 -4,-475 480,-475 480,4 -4,4\"/>\n<!-- E_CR -->\n<g id=\"node1\" class=\"node\">\n<title>E_CR</title>\n<ellipse fill=\"none\" stroke=\"black\" cx=\"237\" cy=\"-18\" rx=\"32.49\" ry=\"18\"/>\n<text text-anchor=\"middle\" x=\"237\" y=\"-14.3\" font-family=\"Times,serif\" font-size=\"14.00\">E_CR</text>\n</g>\n<!-- E_PT -->\n<g id=\"node2\" class=\"node\">\n<title>E_PT</title>\n<ellipse fill=\"none\" stroke=\"black\" cx=\"175\" cy=\"-105\" rx=\"30.59\" ry=\"18\"/>\n<text text-anchor=\"middle\" x=\"175\" y=\"-101.3\" font-family=\"Times,serif\" font-size=\"14.00\">E_PT</text>\n</g>\n<!-- E_PT&#45;&gt;E_CR -->\n<g id=\"edge1\" class=\"edge\">\n<title>E_PT&#45;&gt;E_CR</title>\n<path fill=\"none\" stroke=\"black\" d=\"M186.66,-88.01C195.84,-75.43 208.79,-57.68 219.25,-43.33\"/>\n<polygon fill=\"black\" stroke=\"black\" points=\"222.33,-45.06 225.39,-34.92 216.67,-40.93 222.33,-45.06\"/>\n<text text-anchor=\"middle\" x=\"223.5\" y=\"-57.8\" font-family=\"Times,serif\" font-size=\"14.00\">&#45;0.08</text>\n</g>\n<!-- E_SG -->\n<g id=\"node3\" class=\"node\">\n<title>E_SG</title>\n<ellipse fill=\"none\" stroke=\"black\" cx=\"284\" cy=\"-366\" rx=\"31.7\" ry=\"18\"/>\n<text text-anchor=\"middle\" x=\"284\" y=\"-362.3\" font-family=\"Times,serif\" font-size=\"14.00\">E_SG</text>\n</g>\n<!-- E_PL -->\n<g id=\"node4\" class=\"node\">\n<title>E_PL</title>\n<ellipse fill=\"none\" stroke=\"black\" cx=\"242\" cy=\"-279\" rx=\"30.59\" ry=\"18\"/>\n<text text-anchor=\"middle\" x=\"242\" y=\"-275.3\" font-family=\"Times,serif\" font-size=\"14.00\">E_PL</text>\n</g>\n<!-- E_SG&#45;&gt;E_PL -->\n<g id=\"edge12\" class=\"edge\">\n<title>E_SG&#45;&gt;E_PL</title>\n<path fill=\"none\" stroke=\"black\" d=\"M262.64,-352.27C255,-346.51 247.24,-338.97 243,-330 239.68,-322.99 238.56,-314.78 238.5,-307.06\"/>\n<polygon fill=\"black\" stroke=\"black\" points=\"242,-307.16 238.98,-297 235.01,-306.82 242,-307.16\"/>\n<text text-anchor=\"middle\" x=\"255.5\" y=\"-318.8\" font-family=\"Times,serif\" font-size=\"14.00\">0.07</text>\n</g>\n<!-- BMI -->\n<g id=\"node8\" class=\"node\">\n<title>BMI</title>\n<ellipse fill=\"none\" stroke=\"black\" cx=\"326\" cy=\"-192\" rx=\"27.9\" ry=\"18\"/>\n<text text-anchor=\"middle\" x=\"326\" y=\"-188.3\" font-family=\"Times,serif\" font-size=\"14.00\">BMI</text>\n</g>\n<!-- E_SG&#45;&gt;BMI -->\n<g id=\"edge17\" class=\"edge\">\n<title>E_SG&#45;&gt;BMI</title>\n<path fill=\"none\" stroke=\"black\" d=\"M303.08,-351.38C309.65,-345.6 316.29,-338.27 320,-330 335.9,-294.56 333.97,-248.64 330.48,-220\"/>\n<polygon fill=\"black\" stroke=\"black\" points=\"333.92,-219.36 329.1,-209.93 326.99,-220.31 333.92,-219.36\"/>\n<text text-anchor=\"middle\" x=\"344.5\" y=\"-275.3\" font-family=\"Times,serif\" font-size=\"14.00\">0.12</text>\n</g>\n<!-- E_PL&#45;&gt;E_CR -->\n<g id=\"edge2\" class=\"edge\">\n<title>E_PL&#45;&gt;E_CR</title>\n<path fill=\"none\" stroke=\"black\" d=\"M242.83,-260.83C244.46,-223.27 247.47,-131 242,-54 241.82,-51.43 241.56,-48.76 241.26,-46.09\"/>\n<polygon fill=\"black\" stroke=\"black\" points=\"244.71,-45.49 239.93,-36.04 237.77,-46.41 244.71,-45.49\"/>\n<text text-anchor=\"middle\" x=\"259.5\" y=\"-144.8\" font-family=\"Times,serif\" font-size=\"14.00\">&#45;0.16</text>\n</g>\n<!-- E_PL&#45;&gt;E_PT -->\n<g id=\"edge7\" class=\"edge\">\n<title>E_PL&#45;&gt;E_PT</title>\n<path fill=\"none\" stroke=\"black\" d=\"M234.44,-261.21C224.05,-237.85 205.04,-194.13 191,-156 188.2,-148.39 185.41,-140.03 182.96,-132.35\"/>\n<polygon fill=\"black\" stroke=\"black\" points=\"186.3,-131.29 179.98,-122.79 179.62,-133.38 186.3,-131.29\"/>\n<text text-anchor=\"middle\" x=\"223.5\" y=\"-188.3\" font-family=\"Times,serif\" font-size=\"14.00\">0.06</text>\n</g>\n<!-- E_PL&#45;&gt;BMI -->\n<g id=\"edge18\" class=\"edge\">\n<title>E_PL&#45;&gt;BMI</title>\n<path fill=\"none\" stroke=\"black\" d=\"M256.63,-263.19C269.76,-249.91 289.21,-230.23 304.18,-215.08\"/>\n<polygon fill=\"black\" stroke=\"black\" points=\"307,-217.21 311.54,-207.64 302.02,-212.29 307,-217.21\"/>\n<text text-anchor=\"middle\" x=\"301.5\" y=\"-231.8\" font-family=\"Times,serif\" font-size=\"14.00\">0.05</text>\n</g>\n<!-- E_GV -->\n<g id=\"node5\" class=\"node\">\n<title>E_GV</title>\n<ellipse fill=\"none\" stroke=\"black\" cx=\"138\" cy=\"-366\" rx=\"33.29\" ry=\"18\"/>\n<text text-anchor=\"middle\" x=\"138\" y=\"-362.3\" font-family=\"Times,serif\" font-size=\"14.00\">E_GV</text>\n</g>\n<!-- E_GV&#45;&gt;E_CR -->\n<g id=\"edge3\" class=\"edge\">\n<title>E_GV&#45;&gt;E_CR</title>\n<path fill=\"none\" stroke=\"black\" d=\"M132.2,-348.11C117.55,-302.24 83.74,-173.04 135,-87 150.03,-61.77 178.49,-43.98 201.54,-32.94\"/>\n<polygon fill=\"black\" stroke=\"black\" points=\"203.06,-36.1 210.71,-28.76 200.16,-29.73 203.06,-36.1\"/>\n<text text-anchor=\"middle\" x=\"122.5\" y=\"-188.3\" font-family=\"Times,serif\" font-size=\"14.00\">&#45;0.17</text>\n</g>\n<!-- E_GV&#45;&gt;E_PT -->\n<g id=\"edge8\" class=\"edge\">\n<title>E_GV&#45;&gt;E_PT</title>\n<path fill=\"none\" stroke=\"black\" d=\"M140.43,-348.01C146.7,-304.1 163.49,-186.6 171.12,-133.15\"/>\n<polygon fill=\"black\" stroke=\"black\" points=\"174.61,-133.45 172.56,-123.06 167.68,-132.46 174.61,-133.45\"/>\n<text text-anchor=\"middle\" x=\"169.5\" y=\"-231.8\" font-family=\"Times,serif\" font-size=\"14.00\">0.22</text>\n</g>\n<!-- E_GV&#45;&gt;E_PL -->\n<g id=\"edge13\" class=\"edge\">\n<title>E_GV&#45;&gt;E_PL</title>\n<path fill=\"none\" stroke=\"black\" d=\"M145.85,-348.01C151.4,-337.45 159.68,-324.18 170,-315 180.59,-305.58 194.17,-298.11 206.68,-292.53\"/>\n<polygon fill=\"black\" stroke=\"black\" points=\"208.1,-295.73 215.97,-288.63 205.39,-289.27 208.1,-295.73\"/>\n<text text-anchor=\"middle\" x=\"182.5\" y=\"-318.8\" font-family=\"Times,serif\" font-size=\"14.00\">0.21</text>\n</g>\n<!-- E_FS -->\n<g id=\"node6\" class=\"node\">\n<title>E_FS</title>\n<ellipse fill=\"none\" stroke=\"black\" cx=\"189\" cy=\"-453\" rx=\"30.59\" ry=\"18\"/>\n<text text-anchor=\"middle\" x=\"189\" y=\"-449.3\" font-family=\"Times,serif\" font-size=\"14.00\">E_FS</text>\n</g>\n<!-- E_FS&#45;&gt;E_CR -->\n<g id=\"edge4\" class=\"edge\">\n<title>E_FS&#45;&gt;E_CR</title>\n<path fill=\"none\" stroke=\"black\" d=\"M158.21,-451.61C104.66,-449.14 0,-435.54 0,-367 0,-367 0,-367 0,-104 0,-62.84 128.27,-36.24 196.08,-25.05\"/>\n<polygon fill=\"black\" stroke=\"black\" points=\"196.7,-28.49 206.02,-23.45 195.59,-21.58 196.7,-28.49\"/>\n<text text-anchor=\"middle\" x=\"14.5\" y=\"-231.8\" font-family=\"Times,serif\" font-size=\"14.00\">&#45;0.24</text>\n</g>\n<!-- E_FS&#45;&gt;E_PT -->\n<g id=\"edge9\" class=\"edge\">\n<title>E_FS&#45;&gt;E_PT</title>\n<path fill=\"none\" stroke=\"black\" d=\"M159.37,-447.85C117.48,-440.12 46,-419.27 46,-367 46,-367 46,-367 46,-234.5 46,-205.57 51.66,-196.37 70,-174 89.25,-150.53 118.77,-132.42 141.61,-120.81\"/>\n<polygon fill=\"black\" stroke=\"black\" points=\"143.2,-123.94 150.63,-116.39 140.11,-117.65 143.2,-123.94\"/>\n<text text-anchor=\"middle\" x=\"58.5\" y=\"-275.3\" font-family=\"Times,serif\" font-size=\"14.00\">0.06</text>\n</g>\n<!-- E_FS&#45;&gt;E_SG -->\n<g id=\"edge11\" class=\"edge\">\n<title>E_FS&#45;&gt;E_SG</title>\n<path fill=\"none\" stroke=\"black\" d=\"M205.12,-437.58C220.17,-424.11 242.85,-403.82 260.03,-388.45\"/>\n<polygon fill=\"black\" stroke=\"black\" points=\"262.37,-391.05 267.49,-381.78 257.7,-385.84 262.37,-391.05\"/>\n<text text-anchor=\"middle\" x=\"254.5\" y=\"-405.8\" font-family=\"Times,serif\" font-size=\"14.00\">0.14</text>\n</g>\n<!-- E_FS&#45;&gt;E_PL -->\n<g id=\"edge14\" class=\"edge\">\n<title>E_FS&#45;&gt;E_PL</title>\n<path fill=\"none\" stroke=\"black\" d=\"M193.37,-434.96C198.77,-414.28 208.41,-378.39 218,-348 222.4,-334.06 227.78,-318.68 232.33,-306.09\"/>\n<polygon fill=\"black\" stroke=\"black\" points=\"235.63,-307.26 235.77,-296.66 229.05,-304.86 235.63,-307.26\"/>\n<text text-anchor=\"middle\" x=\"230.5\" y=\"-362.3\" font-family=\"Times,serif\" font-size=\"14.00\">0.19</text>\n</g>\n<!-- E_FS&#45;&gt;E_GV -->\n<g id=\"edge16\" class=\"edge\">\n<title>E_FS&#45;&gt;E_GV</title>\n<path fill=\"none\" stroke=\"black\" d=\"M179.17,-435.61C171.76,-423.26 161.47,-406.12 153.03,-392.05\"/>\n<polygon fill=\"black\" stroke=\"black\" points=\"155.95,-390.11 147.8,-383.34 149.95,-393.71 155.95,-390.11\"/>\n<text text-anchor=\"middle\" x=\"178.5\" y=\"-405.8\" font-family=\"Times,serif\" font-size=\"14.00\">0.19</text>\n</g>\n<!-- E_FS&#45;&gt;BMI -->\n<g id=\"edge19\" class=\"edge\">\n<title>E_FS&#45;&gt;BMI</title>\n<path fill=\"none\" stroke=\"black\" d=\"M218.65,-448.34C278.52,-440.28 410.4,-418.88 437,-384 481.56,-325.58 397.26,-247.63 352.02,-212.1\"/>\n<polygon fill=\"black\" stroke=\"black\" points=\"354.12,-209.3 344.06,-205.97 349.85,-214.85 354.12,-209.3\"/>\n<text text-anchor=\"middle\" x=\"460.5\" y=\"-318.8\" font-family=\"Times,serif\" font-size=\"14.00\">&#45;0.10</text>\n</g>\n<!-- E_MT -->\n<g id=\"node7\" class=\"node\">\n<title>E_MT</title>\n<ellipse fill=\"none\" stroke=\"black\" cx=\"394\" cy=\"-366\" rx=\"34.39\" ry=\"18\"/>\n<text text-anchor=\"middle\" x=\"394\" y=\"-362.3\" font-family=\"Times,serif\" font-size=\"14.00\">E_MT</text>\n</g>\n<!-- E_MT&#45;&gt;E_CR -->\n<g id=\"edge5\" class=\"edge\">\n<title>E_MT&#45;&gt;E_CR</title>\n<path fill=\"none\" stroke=\"black\" d=\"M410.48,-350.14C426.04,-334.4 447,-308 447,-280 447,-280 447,-280 447,-104 447,-32.61 341.44,-19.72 280,-18.27\"/>\n<polygon fill=\"black\" stroke=\"black\" points=\"279.86,-14.77 269.81,-18.12 279.76,-21.77 279.86,-14.77\"/>\n<text text-anchor=\"middle\" x=\"461.5\" y=\"-188.3\" font-family=\"Times,serif\" font-size=\"14.00\">&#45;0.05</text>\n</g>\n<!-- E_MT&#45;&gt;E_PL -->\n<g id=\"edge15\" class=\"edge\">\n<title>E_MT&#45;&gt;E_PL</title>\n<path fill=\"none\" stroke=\"black\" d=\"M371.24,-352.27C344.94,-337.56 301.53,-313.29 272.37,-296.98\"/>\n<polygon fill=\"black\" stroke=\"black\" points=\"273.87,-293.81 263.44,-291.99 270.46,-299.92 273.87,-293.81\"/>\n<text text-anchor=\"middle\" x=\"341.5\" y=\"-318.8\" font-family=\"Times,serif\" font-size=\"14.00\">&#45;0.07</text>\n</g>\n<!-- E_MT&#45;&gt;BMI -->\n<g id=\"edge20\" class=\"edge\">\n<title>E_MT&#45;&gt;BMI</title>\n<path fill=\"none\" stroke=\"black\" d=\"M389.37,-347.8C383.56,-326.96 372.93,-290.91 361,-261 354.96,-245.86 352.45,-242.5 345,-228 343.37,-224.83 341.63,-221.51 339.88,-218.24\"/>\n<polygon fill=\"black\" stroke=\"black\" points=\"342.88,-216.43 335.05,-209.3 336.72,-219.76 342.88,-216.43\"/>\n<text text-anchor=\"middle\" x=\"385.5\" y=\"-275.3\" font-family=\"Times,serif\" font-size=\"14.00\">0.08</text>\n</g>\n<!-- BMI&#45;&gt;E_CR -->\n<g id=\"edge6\" class=\"edge\">\n<title>BMI&#45;&gt;E_CR</title>\n<path fill=\"none\" stroke=\"black\" d=\"M322.14,-173.83C315.47,-146.68 299.96,-92.95 274,-54 270.81,-49.22 266.86,-44.61 262.73,-40.39\"/>\n<polygon fill=\"black\" stroke=\"black\" points=\"264.91,-37.63 255.25,-33.27 260.08,-42.7 264.91,-37.63\"/>\n<text text-anchor=\"middle\" x=\"318.5\" y=\"-101.3\" font-family=\"Times,serif\" font-size=\"14.00\">0.12</text>\n</g>\n<!-- BMI&#45;&gt;E_PT -->\n<g id=\"edge10\" class=\"edge\">\n<title>BMI&#45;&gt;E_PT</title>\n<path fill=\"none\" stroke=\"black\" d=\"M298.6,-188.1C273.29,-184.26 235.68,-175.54 209,-156 200.33,-149.65 193.15,-140.37 187.66,-131.53\"/>\n<polygon fill=\"black\" stroke=\"black\" points=\"190.57,-129.56 182.56,-122.62 184.49,-133.04 190.57,-129.56\"/>\n<text text-anchor=\"middle\" x=\"223.5\" y=\"-144.8\" font-family=\"Times,serif\" font-size=\"14.00\">&#45;0.08</text>\n</g>\n</g>\n</svg>\n",
            "text/plain": [
              "<graphviz.graphs.Digraph at 0x789889f6fbb0>"
            ]
          },
          "metadata": {},
          "execution_count": 36
        }
      ]
    },
    {
      "cell_type": "code",
      "source": [
        "causal_df"
      ],
      "metadata": {
        "id": "VB1LOu94Ohy_",
        "colab": {
          "base_uri": "https://localhost:8080/",
          "height": 424
        },
        "outputId": "45fcaaf6-682c-4f8a-bdde-f7af5ee942a0"
      },
      "execution_count": 35,
      "outputs": [
        {
          "output_type": "execute_result",
          "data": {
            "text/plain": [
              "     from    to    effect  probability\n",
              "0    E_BR  E_MK -0.158564         1.00\n",
              "1    E_SS  E_OV  0.132987         1.00\n",
              "2    E_BR  E_FR -0.117980         1.00\n",
              "3    E_BR  E_OV -0.125703         1.00\n",
              "4    E_FS  E_SG  0.143794         1.00\n",
              "..    ...   ...       ...          ...\n",
              "190  E_GV  E_MT  0.074713         0.01\n",
              "191  E_MK  E_MT -0.057868         0.01\n",
              "192  E_CR  E_SS  0.074107         0.01\n",
              "193  E_PL  E_FS  0.177845         0.01\n",
              "194  E_PT  E_SW  0.072867         0.01\n",
              "\n",
              "[195 rows x 4 columns]"
            ],
            "text/html": [
              "\n",
              "  <div id=\"df-ee921952-0ab1-499e-b37c-2dd71ec68294\" class=\"colab-df-container\">\n",
              "    <div>\n",
              "<style scoped>\n",
              "    .dataframe tbody tr th:only-of-type {\n",
              "        vertical-align: middle;\n",
              "    }\n",
              "\n",
              "    .dataframe tbody tr th {\n",
              "        vertical-align: top;\n",
              "    }\n",
              "\n",
              "    .dataframe thead th {\n",
              "        text-align: right;\n",
              "    }\n",
              "</style>\n",
              "<table border=\"1\" class=\"dataframe\">\n",
              "  <thead>\n",
              "    <tr style=\"text-align: right;\">\n",
              "      <th></th>\n",
              "      <th>from</th>\n",
              "      <th>to</th>\n",
              "      <th>effect</th>\n",
              "      <th>probability</th>\n",
              "    </tr>\n",
              "  </thead>\n",
              "  <tbody>\n",
              "    <tr>\n",
              "      <th>0</th>\n",
              "      <td>E_BR</td>\n",
              "      <td>E_MK</td>\n",
              "      <td>-0.158564</td>\n",
              "      <td>1.00</td>\n",
              "    </tr>\n",
              "    <tr>\n",
              "      <th>1</th>\n",
              "      <td>E_SS</td>\n",
              "      <td>E_OV</td>\n",
              "      <td>0.132987</td>\n",
              "      <td>1.00</td>\n",
              "    </tr>\n",
              "    <tr>\n",
              "      <th>2</th>\n",
              "      <td>E_BR</td>\n",
              "      <td>E_FR</td>\n",
              "      <td>-0.117980</td>\n",
              "      <td>1.00</td>\n",
              "    </tr>\n",
              "    <tr>\n",
              "      <th>3</th>\n",
              "      <td>E_BR</td>\n",
              "      <td>E_OV</td>\n",
              "      <td>-0.125703</td>\n",
              "      <td>1.00</td>\n",
              "    </tr>\n",
              "    <tr>\n",
              "      <th>4</th>\n",
              "      <td>E_FS</td>\n",
              "      <td>E_SG</td>\n",
              "      <td>0.143794</td>\n",
              "      <td>1.00</td>\n",
              "    </tr>\n",
              "    <tr>\n",
              "      <th>...</th>\n",
              "      <td>...</td>\n",
              "      <td>...</td>\n",
              "      <td>...</td>\n",
              "      <td>...</td>\n",
              "    </tr>\n",
              "    <tr>\n",
              "      <th>190</th>\n",
              "      <td>E_GV</td>\n",
              "      <td>E_MT</td>\n",
              "      <td>0.074713</td>\n",
              "      <td>0.01</td>\n",
              "    </tr>\n",
              "    <tr>\n",
              "      <th>191</th>\n",
              "      <td>E_MK</td>\n",
              "      <td>E_MT</td>\n",
              "      <td>-0.057868</td>\n",
              "      <td>0.01</td>\n",
              "    </tr>\n",
              "    <tr>\n",
              "      <th>192</th>\n",
              "      <td>E_CR</td>\n",
              "      <td>E_SS</td>\n",
              "      <td>0.074107</td>\n",
              "      <td>0.01</td>\n",
              "    </tr>\n",
              "    <tr>\n",
              "      <th>193</th>\n",
              "      <td>E_PL</td>\n",
              "      <td>E_FS</td>\n",
              "      <td>0.177845</td>\n",
              "      <td>0.01</td>\n",
              "    </tr>\n",
              "    <tr>\n",
              "      <th>194</th>\n",
              "      <td>E_PT</td>\n",
              "      <td>E_SW</td>\n",
              "      <td>0.072867</td>\n",
              "      <td>0.01</td>\n",
              "    </tr>\n",
              "  </tbody>\n",
              "</table>\n",
              "<p>195 rows × 4 columns</p>\n",
              "</div>\n",
              "    <div class=\"colab-df-buttons\">\n",
              "\n",
              "  <div class=\"colab-df-container\">\n",
              "    <button class=\"colab-df-convert\" onclick=\"convertToInteractive('df-ee921952-0ab1-499e-b37c-2dd71ec68294')\"\n",
              "            title=\"Convert this dataframe to an interactive table.\"\n",
              "            style=\"display:none;\">\n",
              "\n",
              "  <svg xmlns=\"http://www.w3.org/2000/svg\" height=\"24px\" viewBox=\"0 -960 960 960\">\n",
              "    <path d=\"M120-120v-720h720v720H120Zm60-500h600v-160H180v160Zm220 220h160v-160H400v160Zm0 220h160v-160H400v160ZM180-400h160v-160H180v160Zm440 0h160v-160H620v160ZM180-180h160v-160H180v160Zm440 0h160v-160H620v160Z\"/>\n",
              "  </svg>\n",
              "    </button>\n",
              "\n",
              "  <style>\n",
              "    .colab-df-container {\n",
              "      display:flex;\n",
              "      gap: 12px;\n",
              "    }\n",
              "\n",
              "    .colab-df-convert {\n",
              "      background-color: #E8F0FE;\n",
              "      border: none;\n",
              "      border-radius: 50%;\n",
              "      cursor: pointer;\n",
              "      display: none;\n",
              "      fill: #1967D2;\n",
              "      height: 32px;\n",
              "      padding: 0 0 0 0;\n",
              "      width: 32px;\n",
              "    }\n",
              "\n",
              "    .colab-df-convert:hover {\n",
              "      background-color: #E2EBFA;\n",
              "      box-shadow: 0px 1px 2px rgba(60, 64, 67, 0.3), 0px 1px 3px 1px rgba(60, 64, 67, 0.15);\n",
              "      fill: #174EA6;\n",
              "    }\n",
              "\n",
              "    .colab-df-buttons div {\n",
              "      margin-bottom: 4px;\n",
              "    }\n",
              "\n",
              "    [theme=dark] .colab-df-convert {\n",
              "      background-color: #3B4455;\n",
              "      fill: #D2E3FC;\n",
              "    }\n",
              "\n",
              "    [theme=dark] .colab-df-convert:hover {\n",
              "      background-color: #434B5C;\n",
              "      box-shadow: 0px 1px 3px 1px rgba(0, 0, 0, 0.15);\n",
              "      filter: drop-shadow(0px 1px 2px rgba(0, 0, 0, 0.3));\n",
              "      fill: #FFFFFF;\n",
              "    }\n",
              "  </style>\n",
              "\n",
              "    <script>\n",
              "      const buttonEl =\n",
              "        document.querySelector('#df-ee921952-0ab1-499e-b37c-2dd71ec68294 button.colab-df-convert');\n",
              "      buttonEl.style.display =\n",
              "        google.colab.kernel.accessAllowed ? 'block' : 'none';\n",
              "\n",
              "      async function convertToInteractive(key) {\n",
              "        const element = document.querySelector('#df-ee921952-0ab1-499e-b37c-2dd71ec68294');\n",
              "        const dataTable =\n",
              "          await google.colab.kernel.invokeFunction('convertToInteractive',\n",
              "                                                    [key], {});\n",
              "        if (!dataTable) return;\n",
              "\n",
              "        const docLinkHtml = 'Like what you see? Visit the ' +\n",
              "          '<a target=\"_blank\" href=https://colab.research.google.com/notebooks/data_table.ipynb>data table notebook</a>'\n",
              "          + ' to learn more about interactive tables.';\n",
              "        element.innerHTML = '';\n",
              "        dataTable['output_type'] = 'display_data';\n",
              "        await google.colab.output.renderOutput(dataTable, element);\n",
              "        const docLink = document.createElement('div');\n",
              "        docLink.innerHTML = docLinkHtml;\n",
              "        element.appendChild(docLink);\n",
              "      }\n",
              "    </script>\n",
              "  </div>\n",
              "\n",
              "\n",
              "<div id=\"df-527d1e15-4ebe-453a-98fe-e651ea3b8cde\">\n",
              "  <button class=\"colab-df-quickchart\" onclick=\"quickchart('df-527d1e15-4ebe-453a-98fe-e651ea3b8cde')\"\n",
              "            title=\"Suggest charts\"\n",
              "            style=\"display:none;\">\n",
              "\n",
              "<svg xmlns=\"http://www.w3.org/2000/svg\" height=\"24px\"viewBox=\"0 0 24 24\"\n",
              "     width=\"24px\">\n",
              "    <g>\n",
              "        <path d=\"M19 3H5c-1.1 0-2 .9-2 2v14c0 1.1.9 2 2 2h14c1.1 0 2-.9 2-2V5c0-1.1-.9-2-2-2zM9 17H7v-7h2v7zm4 0h-2V7h2v10zm4 0h-2v-4h2v4z\"/>\n",
              "    </g>\n",
              "</svg>\n",
              "  </button>\n",
              "\n",
              "<style>\n",
              "  .colab-df-quickchart {\n",
              "      --bg-color: #E8F0FE;\n",
              "      --fill-color: #1967D2;\n",
              "      --hover-bg-color: #E2EBFA;\n",
              "      --hover-fill-color: #174EA6;\n",
              "      --disabled-fill-color: #AAA;\n",
              "      --disabled-bg-color: #DDD;\n",
              "  }\n",
              "\n",
              "  [theme=dark] .colab-df-quickchart {\n",
              "      --bg-color: #3B4455;\n",
              "      --fill-color: #D2E3FC;\n",
              "      --hover-bg-color: #434B5C;\n",
              "      --hover-fill-color: #FFFFFF;\n",
              "      --disabled-bg-color: #3B4455;\n",
              "      --disabled-fill-color: #666;\n",
              "  }\n",
              "\n",
              "  .colab-df-quickchart {\n",
              "    background-color: var(--bg-color);\n",
              "    border: none;\n",
              "    border-radius: 50%;\n",
              "    cursor: pointer;\n",
              "    display: none;\n",
              "    fill: var(--fill-color);\n",
              "    height: 32px;\n",
              "    padding: 0;\n",
              "    width: 32px;\n",
              "  }\n",
              "\n",
              "  .colab-df-quickchart:hover {\n",
              "    background-color: var(--hover-bg-color);\n",
              "    box-shadow: 0 1px 2px rgba(60, 64, 67, 0.3), 0 1px 3px 1px rgba(60, 64, 67, 0.15);\n",
              "    fill: var(--button-hover-fill-color);\n",
              "  }\n",
              "\n",
              "  .colab-df-quickchart-complete:disabled,\n",
              "  .colab-df-quickchart-complete:disabled:hover {\n",
              "    background-color: var(--disabled-bg-color);\n",
              "    fill: var(--disabled-fill-color);\n",
              "    box-shadow: none;\n",
              "  }\n",
              "\n",
              "  .colab-df-spinner {\n",
              "    border: 2px solid var(--fill-color);\n",
              "    border-color: transparent;\n",
              "    border-bottom-color: var(--fill-color);\n",
              "    animation:\n",
              "      spin 1s steps(1) infinite;\n",
              "  }\n",
              "\n",
              "  @keyframes spin {\n",
              "    0% {\n",
              "      border-color: transparent;\n",
              "      border-bottom-color: var(--fill-color);\n",
              "      border-left-color: var(--fill-color);\n",
              "    }\n",
              "    20% {\n",
              "      border-color: transparent;\n",
              "      border-left-color: var(--fill-color);\n",
              "      border-top-color: var(--fill-color);\n",
              "    }\n",
              "    30% {\n",
              "      border-color: transparent;\n",
              "      border-left-color: var(--fill-color);\n",
              "      border-top-color: var(--fill-color);\n",
              "      border-right-color: var(--fill-color);\n",
              "    }\n",
              "    40% {\n",
              "      border-color: transparent;\n",
              "      border-right-color: var(--fill-color);\n",
              "      border-top-color: var(--fill-color);\n",
              "    }\n",
              "    60% {\n",
              "      border-color: transparent;\n",
              "      border-right-color: var(--fill-color);\n",
              "    }\n",
              "    80% {\n",
              "      border-color: transparent;\n",
              "      border-right-color: var(--fill-color);\n",
              "      border-bottom-color: var(--fill-color);\n",
              "    }\n",
              "    90% {\n",
              "      border-color: transparent;\n",
              "      border-bottom-color: var(--fill-color);\n",
              "    }\n",
              "  }\n",
              "</style>\n",
              "\n",
              "  <script>\n",
              "    async function quickchart(key) {\n",
              "      const quickchartButtonEl =\n",
              "        document.querySelector('#' + key + ' button');\n",
              "      quickchartButtonEl.disabled = true;  // To prevent multiple clicks.\n",
              "      quickchartButtonEl.classList.add('colab-df-spinner');\n",
              "      try {\n",
              "        const charts = await google.colab.kernel.invokeFunction(\n",
              "            'suggestCharts', [key], {});\n",
              "      } catch (error) {\n",
              "        console.error('Error during call to suggestCharts:', error);\n",
              "      }\n",
              "      quickchartButtonEl.classList.remove('colab-df-spinner');\n",
              "      quickchartButtonEl.classList.add('colab-df-quickchart-complete');\n",
              "    }\n",
              "    (() => {\n",
              "      let quickchartButtonEl =\n",
              "        document.querySelector('#df-527d1e15-4ebe-453a-98fe-e651ea3b8cde button');\n",
              "      quickchartButtonEl.style.display =\n",
              "        google.colab.kernel.accessAllowed ? 'block' : 'none';\n",
              "    })();\n",
              "  </script>\n",
              "</div>\n",
              "    </div>\n",
              "  </div>\n"
            ]
          },
          "metadata": {},
          "execution_count": 35
        }
      ]
    },
    {
      "cell_type": "code",
      "source": [],
      "metadata": {
        "id": "Tc824zSRTBAK"
      },
      "execution_count": 35,
      "outputs": []
    }
  ]
}